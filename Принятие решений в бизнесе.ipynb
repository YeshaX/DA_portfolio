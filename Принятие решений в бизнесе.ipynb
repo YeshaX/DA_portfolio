{
 "cells": [
  {
   "cell_type": "markdown",
   "metadata": {},
   "source": [
    "# Проект: Принятие решений в бизнесе"
   ]
  },
  {
   "cell_type": "markdown",
   "metadata": {},
   "source": [
    "Был проведен A/B-тест и получены результаты, которые сохранены в файлах. С помощью графиков кумулятивных характеристик и проведения статистических тестов необходимо проанализировать результаты А/В тестирования и сделать вывод о том, как введенные изменения повлияли на выручку интернет-магазина."
   ]
  },
  {
   "cell_type": "markdown",
   "metadata": {},
   "source": [
    "## Часть 1. Приоритизация гипотез.\n",
    "\n",
    "Приоритизировать гипотезы, с целью увеличения выручки интернет-магазина."
   ]
  },
  {
   "cell_type": "markdown",
   "metadata": {},
   "source": [
    "### Описание данных\n",
    "\n",
    "- Hypothesis — краткое описание гипотезы;\n",
    "- Reach — охват пользователей по 10-балльной шкале;\n",
    "- Impact — влияние на пользователей по 10-балльной шкале;\n",
    "- Confidence — уверенность в гипотезе по 10-балльной шкале;\n",
    "- Efforts — затраты ресурсов на проверку гипотезы по 10-балльной шкале. Чем больше значение Efforts, тем дороже проверка гипотезы."
   ]
  },
  {
   "cell_type": "markdown",
   "metadata": {},
   "source": [
    "### Загрузка данных"
   ]
  },
  {
   "cell_type": "code",
   "execution_count": 1,
   "metadata": {},
   "outputs": [],
   "source": [
    "import pandas as pd\n",
    "import numpy as np\n",
    "import datetime as dt\n",
    "from matplotlib import pyplot as plt\n",
    "pd.set_option('display.max_colwidth', None) # настроить ширину колонки\n",
    "from scipy import stats as st\n",
    "from pandas.plotting import register_matplotlib_converters\n",
    "import warnings\n",
    "# конвертеры, которые позволяют использовать типы pandas в matplotlib  \n",
    "register_matplotlib_converters()"
   ]
  },
  {
   "cell_type": "code",
   "execution_count": 2,
   "metadata": {},
   "outputs": [],
   "source": [
    "try:\n",
    "    data_hypo = pd.read_csv('/datasets/hypothesis.csv')\n",
    "except:\n",
    "    data_hypo = pd.read_csv('https://code.s3.yandex.net/datasets/hypothesis.csv')"
   ]
  },
  {
   "cell_type": "code",
   "execution_count": 3,
   "metadata": {
    "scrolled": false
   },
   "outputs": [
    {
     "data": {
      "text/html": [
       "<div>\n",
       "<style scoped>\n",
       "    .dataframe tbody tr th:only-of-type {\n",
       "        vertical-align: middle;\n",
       "    }\n",
       "\n",
       "    .dataframe tbody tr th {\n",
       "        vertical-align: top;\n",
       "    }\n",
       "\n",
       "    .dataframe thead th {\n",
       "        text-align: right;\n",
       "    }\n",
       "</style>\n",
       "<table border=\"1\" class=\"dataframe\">\n",
       "  <thead>\n",
       "    <tr style=\"text-align: right;\">\n",
       "      <th></th>\n",
       "      <th>hypothesis</th>\n",
       "      <th>reach</th>\n",
       "      <th>impact</th>\n",
       "      <th>confidence</th>\n",
       "      <th>efforts</th>\n",
       "    </tr>\n",
       "  </thead>\n",
       "  <tbody>\n",
       "    <tr>\n",
       "      <th>0</th>\n",
       "      <td>Добавить два новых канала привлечения трафика, что позволит привлекать на 30% больше пользователей</td>\n",
       "      <td>3</td>\n",
       "      <td>10</td>\n",
       "      <td>8</td>\n",
       "      <td>6</td>\n",
       "    </tr>\n",
       "    <tr>\n",
       "      <th>1</th>\n",
       "      <td>Запустить собственную службу доставки, что сократит срок доставки заказов</td>\n",
       "      <td>2</td>\n",
       "      <td>5</td>\n",
       "      <td>4</td>\n",
       "      <td>10</td>\n",
       "    </tr>\n",
       "    <tr>\n",
       "      <th>2</th>\n",
       "      <td>Добавить блоки рекомендаций товаров на сайт интернет магазина, чтобы повысить конверсию и средний чек заказа</td>\n",
       "      <td>8</td>\n",
       "      <td>3</td>\n",
       "      <td>7</td>\n",
       "      <td>3</td>\n",
       "    </tr>\n",
       "    <tr>\n",
       "      <th>3</th>\n",
       "      <td>Изменить структура категорий, что увеличит конверсию, т.к. пользователи быстрее найдут нужный товар</td>\n",
       "      <td>8</td>\n",
       "      <td>3</td>\n",
       "      <td>3</td>\n",
       "      <td>8</td>\n",
       "    </tr>\n",
       "    <tr>\n",
       "      <th>4</th>\n",
       "      <td>Изменить цвет фона главной страницы, чтобы увеличить вовлеченность пользователей</td>\n",
       "      <td>3</td>\n",
       "      <td>1</td>\n",
       "      <td>1</td>\n",
       "      <td>1</td>\n",
       "    </tr>\n",
       "    <tr>\n",
       "      <th>5</th>\n",
       "      <td>Добавить страницу отзывов клиентов о магазине, что позволит увеличить количество заказов</td>\n",
       "      <td>3</td>\n",
       "      <td>2</td>\n",
       "      <td>2</td>\n",
       "      <td>3</td>\n",
       "    </tr>\n",
       "    <tr>\n",
       "      <th>6</th>\n",
       "      <td>Показать на главной странице баннеры с актуальными акциями и распродажами, чтобы увеличить конверсию</td>\n",
       "      <td>5</td>\n",
       "      <td>3</td>\n",
       "      <td>8</td>\n",
       "      <td>3</td>\n",
       "    </tr>\n",
       "    <tr>\n",
       "      <th>7</th>\n",
       "      <td>Добавить форму подписки на все основные страницы, чтобы собрать базу клиентов для email-рассылок</td>\n",
       "      <td>10</td>\n",
       "      <td>7</td>\n",
       "      <td>8</td>\n",
       "      <td>5</td>\n",
       "    </tr>\n",
       "    <tr>\n",
       "      <th>8</th>\n",
       "      <td>Запустить акцию, дающую скидку на товар в день рождения</td>\n",
       "      <td>1</td>\n",
       "      <td>9</td>\n",
       "      <td>9</td>\n",
       "      <td>5</td>\n",
       "    </tr>\n",
       "  </tbody>\n",
       "</table>\n",
       "</div>"
      ],
      "text/plain": [
       "                                                                                                     hypothesis  \\\n",
       "0            Добавить два новых канала привлечения трафика, что позволит привлекать на 30% больше пользователей   \n",
       "1                                     Запустить собственную службу доставки, что сократит срок доставки заказов   \n",
       "2  Добавить блоки рекомендаций товаров на сайт интернет магазина, чтобы повысить конверсию и средний чек заказа   \n",
       "3           Изменить структура категорий, что увеличит конверсию, т.к. пользователи быстрее найдут нужный товар   \n",
       "4                              Изменить цвет фона главной страницы, чтобы увеличить вовлеченность пользователей   \n",
       "5                      Добавить страницу отзывов клиентов о магазине, что позволит увеличить количество заказов   \n",
       "6          Показать на главной странице баннеры с актуальными акциями и распродажами, чтобы увеличить конверсию   \n",
       "7              Добавить форму подписки на все основные страницы, чтобы собрать базу клиентов для email-рассылок   \n",
       "8                                                       Запустить акцию, дающую скидку на товар в день рождения   \n",
       "\n",
       "   reach  impact  confidence  efforts  \n",
       "0      3      10           8        6  \n",
       "1      2       5           4       10  \n",
       "2      8       3           7        3  \n",
       "3      8       3           3        8  \n",
       "4      3       1           1        1  \n",
       "5      3       2           2        3  \n",
       "6      5       3           8        3  \n",
       "7     10       7           8        5  \n",
       "8      1       9           9        5  "
      ]
     },
     "execution_count": 3,
     "metadata": {},
     "output_type": "execute_result"
    }
   ],
   "source": [
    "data_hypo.columns=data_hypo.columns.str.lower()\n",
    "data_hypo"
   ]
  },
  {
   "cell_type": "markdown",
   "metadata": {},
   "source": [
    "Проверим данные таблицы на соответствие типам."
   ]
  },
  {
   "cell_type": "code",
   "execution_count": 4,
   "metadata": {
    "scrolled": true
   },
   "outputs": [
    {
     "name": "stdout",
     "output_type": "stream",
     "text": [
      "<class 'pandas.core.frame.DataFrame'>\n",
      "RangeIndex: 9 entries, 0 to 8\n",
      "Data columns (total 5 columns):\n",
      " #   Column      Non-Null Count  Dtype \n",
      "---  ------      --------------  ----- \n",
      " 0   hypothesis  9 non-null      object\n",
      " 1   reach       9 non-null      int64 \n",
      " 2   impact      9 non-null      int64 \n",
      " 3   confidence  9 non-null      int64 \n",
      " 4   efforts     9 non-null      int64 \n",
      "dtypes: int64(4), object(1)\n",
      "memory usage: 488.0+ bytes\n"
     ]
    }
   ],
   "source": [
    "data_hypo.info()"
   ]
  },
  {
   "cell_type": "markdown",
   "metadata": {},
   "source": [
    "Типы данных столбцов соответствуют содержимому."
   ]
  },
  {
   "cell_type": "markdown",
   "metadata": {},
   "source": [
    "### ICE для приоритизации гипотез"
   ]
  },
  {
   "cell_type": "markdown",
   "metadata": {},
   "source": [
    "ICE (от англ. impact, confidence, effort / ease «влияние, уверенность, усилия / простота»). По сути это отношение силы влияния предстоящего изменения к сложности его реализации, умноженное на поправочный коэффициент - увереность в том, что влияние и сложность оценены верно. "
   ]
  },
  {
   "cell_type": "code",
   "execution_count": 5,
   "metadata": {},
   "outputs": [
    {
     "data": {
      "text/html": [
       "<div>\n",
       "<style scoped>\n",
       "    .dataframe tbody tr th:only-of-type {\n",
       "        vertical-align: middle;\n",
       "    }\n",
       "\n",
       "    .dataframe tbody tr th {\n",
       "        vertical-align: top;\n",
       "    }\n",
       "\n",
       "    .dataframe thead th {\n",
       "        text-align: right;\n",
       "    }\n",
       "</style>\n",
       "<table border=\"1\" class=\"dataframe\">\n",
       "  <thead>\n",
       "    <tr style=\"text-align: right;\">\n",
       "      <th></th>\n",
       "      <th>hypothesis</th>\n",
       "      <th>ice</th>\n",
       "    </tr>\n",
       "  </thead>\n",
       "  <tbody>\n",
       "    <tr>\n",
       "      <th>8</th>\n",
       "      <td>Запустить акцию, дающую скидку на товар в день рождения</td>\n",
       "      <td>16.200000</td>\n",
       "    </tr>\n",
       "    <tr>\n",
       "      <th>0</th>\n",
       "      <td>Добавить два новых канала привлечения трафика, что позволит привлекать на 30% больше пользователей</td>\n",
       "      <td>13.333333</td>\n",
       "    </tr>\n",
       "    <tr>\n",
       "      <th>7</th>\n",
       "      <td>Добавить форму подписки на все основные страницы, чтобы собрать базу клиентов для email-рассылок</td>\n",
       "      <td>11.200000</td>\n",
       "    </tr>\n",
       "    <tr>\n",
       "      <th>6</th>\n",
       "      <td>Показать на главной странице баннеры с актуальными акциями и распродажами, чтобы увеличить конверсию</td>\n",
       "      <td>8.000000</td>\n",
       "    </tr>\n",
       "    <tr>\n",
       "      <th>2</th>\n",
       "      <td>Добавить блоки рекомендаций товаров на сайт интернет магазина, чтобы повысить конверсию и средний чек заказа</td>\n",
       "      <td>7.000000</td>\n",
       "    </tr>\n",
       "    <tr>\n",
       "      <th>1</th>\n",
       "      <td>Запустить собственную службу доставки, что сократит срок доставки заказов</td>\n",
       "      <td>2.000000</td>\n",
       "    </tr>\n",
       "    <tr>\n",
       "      <th>5</th>\n",
       "      <td>Добавить страницу отзывов клиентов о магазине, что позволит увеличить количество заказов</td>\n",
       "      <td>1.333333</td>\n",
       "    </tr>\n",
       "    <tr>\n",
       "      <th>3</th>\n",
       "      <td>Изменить структура категорий, что увеличит конверсию, т.к. пользователи быстрее найдут нужный товар</td>\n",
       "      <td>1.125000</td>\n",
       "    </tr>\n",
       "    <tr>\n",
       "      <th>4</th>\n",
       "      <td>Изменить цвет фона главной страницы, чтобы увеличить вовлеченность пользователей</td>\n",
       "      <td>1.000000</td>\n",
       "    </tr>\n",
       "  </tbody>\n",
       "</table>\n",
       "</div>"
      ],
      "text/plain": [
       "                                                                                                     hypothesis  \\\n",
       "8                                                       Запустить акцию, дающую скидку на товар в день рождения   \n",
       "0            Добавить два новых канала привлечения трафика, что позволит привлекать на 30% больше пользователей   \n",
       "7              Добавить форму подписки на все основные страницы, чтобы собрать базу клиентов для email-рассылок   \n",
       "6          Показать на главной странице баннеры с актуальными акциями и распродажами, чтобы увеличить конверсию   \n",
       "2  Добавить блоки рекомендаций товаров на сайт интернет магазина, чтобы повысить конверсию и средний чек заказа   \n",
       "1                                     Запустить собственную службу доставки, что сократит срок доставки заказов   \n",
       "5                      Добавить страницу отзывов клиентов о магазине, что позволит увеличить количество заказов   \n",
       "3           Изменить структура категорий, что увеличит конверсию, т.к. пользователи быстрее найдут нужный товар   \n",
       "4                              Изменить цвет фона главной страницы, чтобы увеличить вовлеченность пользователей   \n",
       "\n",
       "         ice  \n",
       "8  16.200000  \n",
       "0  13.333333  \n",
       "7  11.200000  \n",
       "6   8.000000  \n",
       "2   7.000000  \n",
       "1   2.000000  \n",
       "5   1.333333  \n",
       "3   1.125000  \n",
       "4   1.000000  "
      ]
     },
     "execution_count": 5,
     "metadata": {},
     "output_type": "execute_result"
    }
   ],
   "source": [
    "data_hypo['ice'] = data_hypo.impact*data_hypo.confidence/data_hypo.efforts\n",
    "data_hypo[['hypothesis','ice']].sort_values(by='ice', ascending=False)"
   ]
  },
  {
   "cell_type": "markdown",
   "metadata": {},
   "source": [
    "Приоретизация при помощи фреймворка ICE показала, что наиболее приоритетными являются гипотезы:\n",
    "- Запустить акцию, дающую скидку на товар в день рождения 16.2\n",
    "- Добавить два новых канала привлечения трафика, что позволит привлекать на 30% больше пользователей 13.3\n",
    "- Добавить форму подписки на все основные страницы, чтобы собрать базу клиентов для email-рассылок 11.2\n",
    "\n",
    "Наименее приоритетна гипотеза об Изменении цвета фона главной страницы, чтобы увеличить вовлеченность пользователей."
   ]
  },
  {
   "cell_type": "markdown",
   "metadata": {},
   "source": [
    "### RICE для приоритизации гипотез"
   ]
  },
  {
   "cell_type": "markdown",
   "metadata": {},
   "source": [
    "В отличии от ICE, для приоритезации гипотез фреймворк RICE использует дополнительный параметр Reach — то, скольких пользователей затронет вносимое изменение."
   ]
  },
  {
   "cell_type": "code",
   "execution_count": 6,
   "metadata": {},
   "outputs": [
    {
     "data": {
      "text/html": [
       "<div>\n",
       "<style scoped>\n",
       "    .dataframe tbody tr th:only-of-type {\n",
       "        vertical-align: middle;\n",
       "    }\n",
       "\n",
       "    .dataframe tbody tr th {\n",
       "        vertical-align: top;\n",
       "    }\n",
       "\n",
       "    .dataframe thead th {\n",
       "        text-align: right;\n",
       "    }\n",
       "</style>\n",
       "<table border=\"1\" class=\"dataframe\">\n",
       "  <thead>\n",
       "    <tr style=\"text-align: right;\">\n",
       "      <th></th>\n",
       "      <th>hypothesis</th>\n",
       "      <th>rice</th>\n",
       "    </tr>\n",
       "  </thead>\n",
       "  <tbody>\n",
       "    <tr>\n",
       "      <th>7</th>\n",
       "      <td>Добавить форму подписки на все основные страницы, чтобы собрать базу клиентов для email-рассылок</td>\n",
       "      <td>112.0</td>\n",
       "    </tr>\n",
       "    <tr>\n",
       "      <th>2</th>\n",
       "      <td>Добавить блоки рекомендаций товаров на сайт интернет магазина, чтобы повысить конверсию и средний чек заказа</td>\n",
       "      <td>56.0</td>\n",
       "    </tr>\n",
       "    <tr>\n",
       "      <th>0</th>\n",
       "      <td>Добавить два новых канала привлечения трафика, что позволит привлекать на 30% больше пользователей</td>\n",
       "      <td>40.0</td>\n",
       "    </tr>\n",
       "    <tr>\n",
       "      <th>6</th>\n",
       "      <td>Показать на главной странице баннеры с актуальными акциями и распродажами, чтобы увеличить конверсию</td>\n",
       "      <td>40.0</td>\n",
       "    </tr>\n",
       "    <tr>\n",
       "      <th>8</th>\n",
       "      <td>Запустить акцию, дающую скидку на товар в день рождения</td>\n",
       "      <td>16.2</td>\n",
       "    </tr>\n",
       "    <tr>\n",
       "      <th>3</th>\n",
       "      <td>Изменить структура категорий, что увеличит конверсию, т.к. пользователи быстрее найдут нужный товар</td>\n",
       "      <td>9.0</td>\n",
       "    </tr>\n",
       "    <tr>\n",
       "      <th>1</th>\n",
       "      <td>Запустить собственную службу доставки, что сократит срок доставки заказов</td>\n",
       "      <td>4.0</td>\n",
       "    </tr>\n",
       "    <tr>\n",
       "      <th>5</th>\n",
       "      <td>Добавить страницу отзывов клиентов о магазине, что позволит увеличить количество заказов</td>\n",
       "      <td>4.0</td>\n",
       "    </tr>\n",
       "    <tr>\n",
       "      <th>4</th>\n",
       "      <td>Изменить цвет фона главной страницы, чтобы увеличить вовлеченность пользователей</td>\n",
       "      <td>3.0</td>\n",
       "    </tr>\n",
       "  </tbody>\n",
       "</table>\n",
       "</div>"
      ],
      "text/plain": [
       "                                                                                                     hypothesis  \\\n",
       "7              Добавить форму подписки на все основные страницы, чтобы собрать базу клиентов для email-рассылок   \n",
       "2  Добавить блоки рекомендаций товаров на сайт интернет магазина, чтобы повысить конверсию и средний чек заказа   \n",
       "0            Добавить два новых канала привлечения трафика, что позволит привлекать на 30% больше пользователей   \n",
       "6          Показать на главной странице баннеры с актуальными акциями и распродажами, чтобы увеличить конверсию   \n",
       "8                                                       Запустить акцию, дающую скидку на товар в день рождения   \n",
       "3           Изменить структура категорий, что увеличит конверсию, т.к. пользователи быстрее найдут нужный товар   \n",
       "1                                     Запустить собственную службу доставки, что сократит срок доставки заказов   \n",
       "5                      Добавить страницу отзывов клиентов о магазине, что позволит увеличить количество заказов   \n",
       "4                              Изменить цвет фона главной страницы, чтобы увеличить вовлеченность пользователей   \n",
       "\n",
       "    rice  \n",
       "7  112.0  \n",
       "2   56.0  \n",
       "0   40.0  \n",
       "6   40.0  \n",
       "8   16.2  \n",
       "3    9.0  \n",
       "1    4.0  \n",
       "5    4.0  \n",
       "4    3.0  "
      ]
     },
     "execution_count": 6,
     "metadata": {},
     "output_type": "execute_result"
    }
   ],
   "source": [
    "data_hypo['rice'] = data_hypo.reach*data_hypo.impact*data_hypo.confidence/data_hypo.efforts\n",
    "data_hypo[['hypothesis','rice']].sort_values(by='rice', ascending=False)"
   ]
  },
  {
   "cell_type": "markdown",
   "metadata": {},
   "source": [
    "Приоритетными гипотезами по фреймворку RICE стали:\n",
    "- Добавить форму подписки на все основные страницы, чтобы собрать базу клиентов для email-рассылок\t112.0\n",
    "- Добавить блоки рекомендаций товаров на сайт интернет магазина, чтобы повысить конверсию и средний чек заказа\t56.0\n",
    "- Добавить два новых канала привлечения трафика, что позволит привлекать на 30% больше пользователей 40.0\n",
    "- Показать на главной странице баннеры с актуальными акциями и распродажами, чтобы увеличить конверсию\t40.0\n",
    "\n",
    "В аутсайдерах все так же предложение Изменить цвет фона главной страницы, чтобы увеличить вовлеченность пользователей"
   ]
  },
  {
   "cell_type": "markdown",
   "metadata": {},
   "source": [
    "### Как изменилась приоритизация гипотез при применении RICE вместо ICE"
   ]
  },
  {
   "cell_type": "markdown",
   "metadata": {},
   "source": [
    "Различие в расчете этих двух характеристик - параметр охвата, суть размер аудитории, которую затронет предстоящее изменение. Поэтому все изменения в приоретизации гипотез связаны с разным охватом аудитории для этих гипотез.\n",
    "\n",
    "Так, гипотезы о необходимости запуска акции на день рождения и новых каналах привлечения трафика значительно проигрывают в охвате гипотезе о добавлении формы подписки на каждую страницу. Такое изменение затронет всех пользователей, а не только именинников или новых пользователей из нового источника."
   ]
  },
  {
   "cell_type": "code",
   "execution_count": 7,
   "metadata": {},
   "outputs": [
    {
     "data": {
      "text/html": [
       "<style  type=\"text/css\" >\n",
       "#T_a3b25_row0_col1{\n",
       "            background-color:  #c51810;\n",
       "            color:  #f1f1f1;\n",
       "        }#T_a3b25_row0_col2,#T_a3b25_row6_col2{\n",
       "            background-color:  #fdc38c;\n",
       "            color:  #000000;\n",
       "        }#T_a3b25_row1_col1{\n",
       "            background-color:  #feefda;\n",
       "            color:  #000000;\n",
       "        }#T_a3b25_row1_col2,#T_a3b25_row3_col1,#T_a3b25_row5_col2{\n",
       "            background-color:  #fff6ea;\n",
       "            color:  #000000;\n",
       "        }#T_a3b25_row2_col1{\n",
       "            background-color:  #fdb37d;\n",
       "            color:  #000000;\n",
       "        }#T_a3b25_row2_col2{\n",
       "            background-color:  #fc925e;\n",
       "            color:  #000000;\n",
       "        }#T_a3b25_row3_col2{\n",
       "            background-color:  #fff0dc;\n",
       "            color:  #000000;\n",
       "        }#T_a3b25_row4_col1,#T_a3b25_row4_col2{\n",
       "            background-color:  #fff7ec;\n",
       "            color:  #000000;\n",
       "        }#T_a3b25_row5_col1{\n",
       "            background-color:  #fff5e6;\n",
       "            color:  #000000;\n",
       "        }#T_a3b25_row6_col1{\n",
       "            background-color:  #fc9c67;\n",
       "            color:  #000000;\n",
       "        }#T_a3b25_row7_col1{\n",
       "            background-color:  #e65239;\n",
       "            color:  #000000;\n",
       "        }#T_a3b25_row7_col2,#T_a3b25_row8_col1{\n",
       "            background-color:  #7f0000;\n",
       "            color:  #f1f1f1;\n",
       "        }#T_a3b25_row8_col2{\n",
       "            background-color:  #fee8c9;\n",
       "            color:  #000000;\n",
       "        }</style><table id=\"T_a3b25_\" ><thead>    <tr>        <th class=\"blank level0\" ></th>        <th class=\"col_heading level0 col0\" >hypothesis</th>        <th class=\"col_heading level0 col1\" >ice</th>        <th class=\"col_heading level0 col2\" >rice</th>    </tr></thead><tbody>\n",
       "                <tr>\n",
       "                        <th id=\"T_a3b25_level0_row0\" class=\"row_heading level0 row0\" >0</th>\n",
       "                        <td id=\"T_a3b25_row0_col0\" class=\"data row0 col0\" >Добавить два новых канала привлечения трафика, что позволит привлекать на 30% больше пользователей</td>\n",
       "                        <td id=\"T_a3b25_row0_col1\" class=\"data row0 col1\" >13.333333</td>\n",
       "                        <td id=\"T_a3b25_row0_col2\" class=\"data row0 col2\" >40.000000</td>\n",
       "            </tr>\n",
       "            <tr>\n",
       "                        <th id=\"T_a3b25_level0_row1\" class=\"row_heading level0 row1\" >1</th>\n",
       "                        <td id=\"T_a3b25_row1_col0\" class=\"data row1 col0\" >Запустить собственную службу доставки, что сократит срок доставки заказов</td>\n",
       "                        <td id=\"T_a3b25_row1_col1\" class=\"data row1 col1\" >2.000000</td>\n",
       "                        <td id=\"T_a3b25_row1_col2\" class=\"data row1 col2\" >4.000000</td>\n",
       "            </tr>\n",
       "            <tr>\n",
       "                        <th id=\"T_a3b25_level0_row2\" class=\"row_heading level0 row2\" >2</th>\n",
       "                        <td id=\"T_a3b25_row2_col0\" class=\"data row2 col0\" >Добавить блоки рекомендаций товаров на сайт интернет магазина, чтобы повысить конверсию и средний чек заказа</td>\n",
       "                        <td id=\"T_a3b25_row2_col1\" class=\"data row2 col1\" >7.000000</td>\n",
       "                        <td id=\"T_a3b25_row2_col2\" class=\"data row2 col2\" >56.000000</td>\n",
       "            </tr>\n",
       "            <tr>\n",
       "                        <th id=\"T_a3b25_level0_row3\" class=\"row_heading level0 row3\" >3</th>\n",
       "                        <td id=\"T_a3b25_row3_col0\" class=\"data row3 col0\" >Изменить структура категорий, что увеличит конверсию, т.к. пользователи быстрее найдут нужный товар</td>\n",
       "                        <td id=\"T_a3b25_row3_col1\" class=\"data row3 col1\" >1.125000</td>\n",
       "                        <td id=\"T_a3b25_row3_col2\" class=\"data row3 col2\" >9.000000</td>\n",
       "            </tr>\n",
       "            <tr>\n",
       "                        <th id=\"T_a3b25_level0_row4\" class=\"row_heading level0 row4\" >4</th>\n",
       "                        <td id=\"T_a3b25_row4_col0\" class=\"data row4 col0\" >Изменить цвет фона главной страницы, чтобы увеличить вовлеченность пользователей</td>\n",
       "                        <td id=\"T_a3b25_row4_col1\" class=\"data row4 col1\" >1.000000</td>\n",
       "                        <td id=\"T_a3b25_row4_col2\" class=\"data row4 col2\" >3.000000</td>\n",
       "            </tr>\n",
       "            <tr>\n",
       "                        <th id=\"T_a3b25_level0_row5\" class=\"row_heading level0 row5\" >5</th>\n",
       "                        <td id=\"T_a3b25_row5_col0\" class=\"data row5 col0\" >Добавить страницу отзывов клиентов о магазине, что позволит увеличить количество заказов</td>\n",
       "                        <td id=\"T_a3b25_row5_col1\" class=\"data row5 col1\" >1.333333</td>\n",
       "                        <td id=\"T_a3b25_row5_col2\" class=\"data row5 col2\" >4.000000</td>\n",
       "            </tr>\n",
       "            <tr>\n",
       "                        <th id=\"T_a3b25_level0_row6\" class=\"row_heading level0 row6\" >6</th>\n",
       "                        <td id=\"T_a3b25_row6_col0\" class=\"data row6 col0\" >Показать на главной странице баннеры с актуальными акциями и распродажами, чтобы увеличить конверсию</td>\n",
       "                        <td id=\"T_a3b25_row6_col1\" class=\"data row6 col1\" >8.000000</td>\n",
       "                        <td id=\"T_a3b25_row6_col2\" class=\"data row6 col2\" >40.000000</td>\n",
       "            </tr>\n",
       "            <tr>\n",
       "                        <th id=\"T_a3b25_level0_row7\" class=\"row_heading level0 row7\" >7</th>\n",
       "                        <td id=\"T_a3b25_row7_col0\" class=\"data row7 col0\" >Добавить форму подписки на все основные страницы, чтобы собрать базу клиентов для email-рассылок</td>\n",
       "                        <td id=\"T_a3b25_row7_col1\" class=\"data row7 col1\" >11.200000</td>\n",
       "                        <td id=\"T_a3b25_row7_col2\" class=\"data row7 col2\" >112.000000</td>\n",
       "            </tr>\n",
       "            <tr>\n",
       "                        <th id=\"T_a3b25_level0_row8\" class=\"row_heading level0 row8\" >8</th>\n",
       "                        <td id=\"T_a3b25_row8_col0\" class=\"data row8 col0\" >Запустить акцию, дающую скидку на товар в день рождения</td>\n",
       "                        <td id=\"T_a3b25_row8_col1\" class=\"data row8 col1\" >16.200000</td>\n",
       "                        <td id=\"T_a3b25_row8_col2\" class=\"data row8 col2\" >16.200000</td>\n",
       "            </tr>\n",
       "    </tbody></table>"
      ],
      "text/plain": [
       "<pandas.io.formats.style.Styler at 0x7fdfa4f820d0>"
      ]
     },
     "execution_count": 7,
     "metadata": {},
     "output_type": "execute_result"
    }
   ],
   "source": [
    "data_hypo[['hypothesis','ice','rice']].style.background_gradient(cmap ='OrRd')"
   ]
  },
  {
   "cell_type": "markdown",
   "metadata": {},
   "source": [
    "## Часть 2. Анализ A/B-теста"
   ]
  },
  {
   "cell_type": "markdown",
   "metadata": {},
   "source": [
    "Запустим A/B-тест и проанализируем результаты. Доступны 2 датасета с такими данными:"
   ]
  },
  {
   "cell_type": "markdown",
   "metadata": {},
   "source": [
    "### Описание данных"
   ]
  },
  {
   "cell_type": "markdown",
   "metadata": {},
   "source": [
    "Датасет orders\n",
    "- transactionId — идентификатор заказа;\n",
    "- visitorId — идентификатор пользователя, совершившего заказ;\n",
    "- date — дата, когда был совершён заказ;\n",
    "- revenue — выручка заказа;\n",
    "- group — группа A/B-теста, в которую попал заказ.\n",
    "\n",
    "Датасет visitors\n",
    "- date — дата;\n",
    "- group — группа A/B-теста;\n",
    "- visitors — количество пользователей в указанную дату в указанной группе A/B-теста"
   ]
  },
  {
   "cell_type": "markdown",
   "metadata": {},
   "source": [
    "### Загрузка данных"
   ]
  },
  {
   "cell_type": "code",
   "execution_count": 8,
   "metadata": {},
   "outputs": [],
   "source": [
    "try:\n",
    "    orders, visitors = (\n",
    "        pd.read_csv('/datasets/orders.csv'), \n",
    "        pd.read_csv('/datasets/visitors.csv')  \n",
    "    )\n",
    "except:\n",
    "    orders, visitors = (\n",
    "        pd.read_csv('https://code.s3.yandex.net/datasets/orders.csv'),\n",
    "        pd.read_csv('https://code.s3.yandex.net/datasets/visitors.csv')\n",
    "    )"
   ]
  },
  {
   "cell_type": "code",
   "execution_count": 9,
   "metadata": {
    "scrolled": false
   },
   "outputs": [
    {
     "data": {
      "text/html": [
       "<div>\n",
       "<style scoped>\n",
       "    .dataframe tbody tr th:only-of-type {\n",
       "        vertical-align: middle;\n",
       "    }\n",
       "\n",
       "    .dataframe tbody tr th {\n",
       "        vertical-align: top;\n",
       "    }\n",
       "\n",
       "    .dataframe thead th {\n",
       "        text-align: right;\n",
       "    }\n",
       "</style>\n",
       "<table border=\"1\" class=\"dataframe\">\n",
       "  <thead>\n",
       "    <tr style=\"text-align: right;\">\n",
       "      <th></th>\n",
       "      <th>date</th>\n",
       "      <th>group</th>\n",
       "      <th>visitors</th>\n",
       "    </tr>\n",
       "  </thead>\n",
       "  <tbody>\n",
       "    <tr>\n",
       "      <th>0</th>\n",
       "      <td>2019-08-01</td>\n",
       "      <td>A</td>\n",
       "      <td>719</td>\n",
       "    </tr>\n",
       "    <tr>\n",
       "      <th>1</th>\n",
       "      <td>2019-08-02</td>\n",
       "      <td>A</td>\n",
       "      <td>619</td>\n",
       "    </tr>\n",
       "    <tr>\n",
       "      <th>2</th>\n",
       "      <td>2019-08-03</td>\n",
       "      <td>A</td>\n",
       "      <td>507</td>\n",
       "    </tr>\n",
       "    <tr>\n",
       "      <th>3</th>\n",
       "      <td>2019-08-04</td>\n",
       "      <td>A</td>\n",
       "      <td>717</td>\n",
       "    </tr>\n",
       "    <tr>\n",
       "      <th>4</th>\n",
       "      <td>2019-08-05</td>\n",
       "      <td>A</td>\n",
       "      <td>756</td>\n",
       "    </tr>\n",
       "  </tbody>\n",
       "</table>\n",
       "</div>"
      ],
      "text/plain": [
       "         date group  visitors\n",
       "0  2019-08-01     A       719\n",
       "1  2019-08-02     A       619\n",
       "2  2019-08-03     A       507\n",
       "3  2019-08-04     A       717\n",
       "4  2019-08-05     A       756"
      ]
     },
     "metadata": {},
     "output_type": "display_data"
    },
    {
     "data": {
      "text/html": [
       "<div>\n",
       "<style scoped>\n",
       "    .dataframe tbody tr th:only-of-type {\n",
       "        vertical-align: middle;\n",
       "    }\n",
       "\n",
       "    .dataframe tbody tr th {\n",
       "        vertical-align: top;\n",
       "    }\n",
       "\n",
       "    .dataframe thead th {\n",
       "        text-align: right;\n",
       "    }\n",
       "</style>\n",
       "<table border=\"1\" class=\"dataframe\">\n",
       "  <thead>\n",
       "    <tr style=\"text-align: right;\">\n",
       "      <th></th>\n",
       "      <th>transactionId</th>\n",
       "      <th>visitorId</th>\n",
       "      <th>date</th>\n",
       "      <th>revenue</th>\n",
       "      <th>group</th>\n",
       "    </tr>\n",
       "  </thead>\n",
       "  <tbody>\n",
       "    <tr>\n",
       "      <th>0</th>\n",
       "      <td>3667963787</td>\n",
       "      <td>3312258926</td>\n",
       "      <td>2019-08-15</td>\n",
       "      <td>1650</td>\n",
       "      <td>B</td>\n",
       "    </tr>\n",
       "    <tr>\n",
       "      <th>1</th>\n",
       "      <td>2804400009</td>\n",
       "      <td>3642806036</td>\n",
       "      <td>2019-08-15</td>\n",
       "      <td>730</td>\n",
       "      <td>B</td>\n",
       "    </tr>\n",
       "    <tr>\n",
       "      <th>2</th>\n",
       "      <td>2961555356</td>\n",
       "      <td>4069496402</td>\n",
       "      <td>2019-08-15</td>\n",
       "      <td>400</td>\n",
       "      <td>A</td>\n",
       "    </tr>\n",
       "    <tr>\n",
       "      <th>3</th>\n",
       "      <td>3797467345</td>\n",
       "      <td>1196621759</td>\n",
       "      <td>2019-08-15</td>\n",
       "      <td>9759</td>\n",
       "      <td>B</td>\n",
       "    </tr>\n",
       "    <tr>\n",
       "      <th>4</th>\n",
       "      <td>2282983706</td>\n",
       "      <td>2322279887</td>\n",
       "      <td>2019-08-15</td>\n",
       "      <td>2308</td>\n",
       "      <td>B</td>\n",
       "    </tr>\n",
       "  </tbody>\n",
       "</table>\n",
       "</div>"
      ],
      "text/plain": [
       "   transactionId   visitorId        date  revenue group\n",
       "0     3667963787  3312258926  2019-08-15     1650     B\n",
       "1     2804400009  3642806036  2019-08-15      730     B\n",
       "2     2961555356  4069496402  2019-08-15      400     A\n",
       "3     3797467345  1196621759  2019-08-15     9759     B\n",
       "4     2282983706  2322279887  2019-08-15     2308     B"
      ]
     },
     "metadata": {},
     "output_type": "display_data"
    }
   ],
   "source": [
    "display(visitors.head())\n",
    "display(orders.head())"
   ]
  },
  {
   "cell_type": "markdown",
   "metadata": {},
   "source": [
    "Приведем типы данных в соответствие с содержимым."
   ]
  },
  {
   "cell_type": "code",
   "execution_count": 10,
   "metadata": {},
   "outputs": [],
   "source": [
    "orders['date'] = orders['date'].map(\n",
    "    lambda x: dt.datetime.strptime(x, '%Y-%m-%d'))\n",
    "\n",
    "visitors['date'] = visitors['date'].map(\n",
    "    lambda x: dt.datetime.strptime(x, '%Y-%m-%d'))"
   ]
  },
  {
   "cell_type": "code",
   "execution_count": 11,
   "metadata": {
    "scrolled": false
   },
   "outputs": [
    {
     "name": "stdout",
     "output_type": "stream",
     "text": [
      "<class 'pandas.core.frame.DataFrame'>\n",
      "RangeIndex: 62 entries, 0 to 61\n",
      "Data columns (total 3 columns):\n",
      " #   Column    Non-Null Count  Dtype         \n",
      "---  ------    --------------  -----         \n",
      " 0   date      62 non-null     datetime64[ns]\n",
      " 1   group     62 non-null     object        \n",
      " 2   visitors  62 non-null     int64         \n",
      "dtypes: datetime64[ns](1), int64(1), object(1)\n",
      "memory usage: 1.6+ KB\n"
     ]
    },
    {
     "data": {
      "text/plain": [
       "None"
      ]
     },
     "metadata": {},
     "output_type": "display_data"
    },
    {
     "name": "stdout",
     "output_type": "stream",
     "text": [
      "<class 'pandas.core.frame.DataFrame'>\n",
      "RangeIndex: 1197 entries, 0 to 1196\n",
      "Data columns (total 5 columns):\n",
      " #   Column         Non-Null Count  Dtype         \n",
      "---  ------         --------------  -----         \n",
      " 0   transactionId  1197 non-null   int64         \n",
      " 1   visitorId      1197 non-null   int64         \n",
      " 2   date           1197 non-null   datetime64[ns]\n",
      " 3   revenue        1197 non-null   int64         \n",
      " 4   group          1197 non-null   object        \n",
      "dtypes: datetime64[ns](1), int64(3), object(1)\n",
      "memory usage: 46.9+ KB\n"
     ]
    },
    {
     "data": {
      "text/plain": [
       "None"
      ]
     },
     "metadata": {},
     "output_type": "display_data"
    }
   ],
   "source": [
    "display(visitors.info())\n",
    "display(orders.info())"
   ]
  },
  {
   "cell_type": "markdown",
   "metadata": {},
   "source": [
    "Пропусков данных нет, типы данных соответствуют содержимому."
   ]
  },
  {
   "cell_type": "markdown",
   "metadata": {},
   "source": [
    "#### Проверка на дубликаты"
   ]
  },
  {
   "cell_type": "code",
   "execution_count": 12,
   "metadata": {
    "scrolled": true
   },
   "outputs": [
    {
     "name": "stdout",
     "output_type": "stream",
     "text": [
      "Полных дубликатов в датасете: 0\n",
      "Полных дубликатов в датасете: 0\n"
     ]
    }
   ],
   "source": [
    "for dt in visitors, orders:\n",
    "    print('Полных дубликатов в датасете:', dt.duplicated().sum())"
   ]
  },
  {
   "cell_type": "markdown",
   "metadata": {},
   "source": [
    "Проверим, попали ли какие-то пользователи в обе группы."
   ]
  },
  {
   "cell_type": "code",
   "execution_count": 13,
   "metadata": {},
   "outputs": [
    {
     "name": "stdout",
     "output_type": "stream",
     "text": [
      "Пользователи, которые попали в обе группы : 58\n"
     ]
    }
   ],
   "source": [
    "AB_users = (\n",
    "    orders.groupby(['visitorId']).agg({'group' : 'nunique', 'transactionId' : 'count', 'revenue' : 'sum'})\n",
    "    .reset_index() \n",
    ")\n",
    "dub_id = AB_users[AB_users.group != 1][\"visitorId\"].reset_index()\n",
    "\n",
    "print(f'Пользователи, которые попали в обе группы : {dub_id[\"visitorId\"].count()}')"
   ]
  },
  {
   "cell_type": "markdown",
   "metadata": {},
   "source": [
    "Нашлось 58 пользователей, которые во время теста одновременно находились в обеих группах. \n",
    "\n",
    "Наличие пользователей попавших в обе группы сильно влияет на результаты теста.\n",
    "\n",
    "В visits у нас кумулятивные данные, дубликаты мы не сможем убрать. Но можно убрать только пересечение по покупкам в orders:  так как последующие расчеты будут только по заказам - средний чек, кумулятивная выручка. "
   ]
  },
  {
   "cell_type": "code",
   "execution_count": 14,
   "metadata": {},
   "outputs": [
    {
     "name": "stdout",
     "output_type": "stream",
     "text": [
      "<class 'pandas.core.frame.DataFrame'>\n",
      "Int64Index: 1016 entries, 0 to 1196\n",
      "Data columns (total 5 columns):\n",
      " #   Column         Non-Null Count  Dtype         \n",
      "---  ------         --------------  -----         \n",
      " 0   transactionId  1016 non-null   int64         \n",
      " 1   visitorId      1016 non-null   int64         \n",
      " 2   date           1016 non-null   datetime64[ns]\n",
      " 3   revenue        1016 non-null   int64         \n",
      " 4   group          1016 non-null   object        \n",
      "dtypes: datetime64[ns](1), int64(3), object(1)\n",
      "memory usage: 47.6+ KB\n"
     ]
    }
   ],
   "source": [
    "# создам датасет для расчета среднего чека, здесь не будет пользователей, попадающих в обе группы.\n",
    "orders_nodub = orders.query('visitorId not in @dub_id.visitorId')\n",
    "orders_nodub.info()"
   ]
  },
  {
   "cell_type": "markdown",
   "metadata": {},
   "source": [
    "## Анализ A/B-теста:"
   ]
  },
  {
   "cell_type": "markdown",
   "metadata": {},
   "source": [
    "### Выручка"
   ]
  },
  {
   "cell_type": "markdown",
   "metadata": {},
   "source": [
    "Соберем таблицу из кумулятивных значений числа заказов, покупателей, выручки и посетителей по датам и с разбивкой на группы."
   ]
  },
  {
   "cell_type": "code",
   "execution_count": 15,
   "metadata": {
    "scrolled": true
   },
   "outputs": [
    {
     "data": {
      "text/html": [
       "<div>\n",
       "<style scoped>\n",
       "    .dataframe tbody tr th:only-of-type {\n",
       "        vertical-align: middle;\n",
       "    }\n",
       "\n",
       "    .dataframe tbody tr th {\n",
       "        vertical-align: top;\n",
       "    }\n",
       "\n",
       "    .dataframe thead th {\n",
       "        text-align: right;\n",
       "    }\n",
       "</style>\n",
       "<table border=\"1\" class=\"dataframe\">\n",
       "  <thead>\n",
       "    <tr style=\"text-align: right;\">\n",
       "      <th></th>\n",
       "      <th>date</th>\n",
       "      <th>group</th>\n",
       "      <th>orders</th>\n",
       "      <th>buyers</th>\n",
       "      <th>revenue</th>\n",
       "      <th>visitors</th>\n",
       "    </tr>\n",
       "  </thead>\n",
       "  <tbody>\n",
       "    <tr>\n",
       "      <th>0</th>\n",
       "      <td>2019-08-01</td>\n",
       "      <td>A</td>\n",
       "      <td>24</td>\n",
       "      <td>20</td>\n",
       "      <td>148579</td>\n",
       "      <td>719</td>\n",
       "    </tr>\n",
       "    <tr>\n",
       "      <th>1</th>\n",
       "      <td>2019-08-01</td>\n",
       "      <td>B</td>\n",
       "      <td>21</td>\n",
       "      <td>20</td>\n",
       "      <td>101217</td>\n",
       "      <td>713</td>\n",
       "    </tr>\n",
       "    <tr>\n",
       "      <th>2</th>\n",
       "      <td>2019-08-02</td>\n",
       "      <td>A</td>\n",
       "      <td>44</td>\n",
       "      <td>38</td>\n",
       "      <td>242401</td>\n",
       "      <td>1338</td>\n",
       "    </tr>\n",
       "    <tr>\n",
       "      <th>3</th>\n",
       "      <td>2019-08-02</td>\n",
       "      <td>B</td>\n",
       "      <td>45</td>\n",
       "      <td>43</td>\n",
       "      <td>266748</td>\n",
       "      <td>1294</td>\n",
       "    </tr>\n",
       "    <tr>\n",
       "      <th>4</th>\n",
       "      <td>2019-08-03</td>\n",
       "      <td>A</td>\n",
       "      <td>68</td>\n",
       "      <td>62</td>\n",
       "      <td>354874</td>\n",
       "      <td>1845</td>\n",
       "    </tr>\n",
       "  </tbody>\n",
       "</table>\n",
       "</div>"
      ],
      "text/plain": [
       "        date group  orders  buyers  revenue  visitors\n",
       "0 2019-08-01     A      24      20   148579       719\n",
       "1 2019-08-01     B      21      20   101217       713\n",
       "2 2019-08-02     A      44      38   242401      1338\n",
       "3 2019-08-02     B      45      43   266748      1294\n",
       "4 2019-08-03     A      68      62   354874      1845"
      ]
     },
     "execution_count": 15,
     "metadata": {},
     "output_type": "execute_result"
    }
   ],
   "source": [
    "\n",
    "# создаем массив уникальных пар значений дат и групп теста\n",
    "datesGroups = orders[['date','group']].drop_duplicates() \n",
    "\n",
    "# Агрегируем значения. Вычислим максимальную дату. Для группы тоже рассчитаем максимум.\n",
    "# Найдём число уникальных ID заказов и пользователей. Подсчитаем сумму средних чеков.\n",
    "ordersAggregated = ( \n",
    "    datesGroups.apply(lambda x: orders[np.logical_and(orders['date'] <= x['date'], orders['group'] == x['group'])]\n",
    "    .agg({'date': 'max', 'group': 'max', 'transactionId': 'nunique', 'visitorId': 'nunique', 'revenue': 'sum'}), axis=1)\n",
    "    .sort_values(by=['date','group'])) \n",
    "\n",
    "# получим агрегированные кумулятивные по дням данные о посетителях интернет-магазина: \n",
    "visitorsAggregated = (\n",
    "    datesGroups.apply(lambda x: visitors[np.logical_and(visitors['date'] <= x['date'], visitors['group'] == x['group'])]\n",
    "                      .agg({'date' : 'max', 'group' : 'max', 'visitors' : 'sum'}), axis=1)\n",
    "    .sort_values(by=['date','group']))\n",
    "\n",
    "#Объединим обе таблицы в одну с понятными названиями столбцов: \n",
    "\n",
    "# создаем массив уникальных пар значений дат и групп теста\n",
    "datesGroups = orders[['date','group']].drop_duplicates()\n",
    "\n",
    "# получаем агрегированные кумулятивные по дням данные о заказах \n",
    "ordersAggregated = (\n",
    "    datesGroups.apply(lambda x: orders[np.logical_and(orders['date'] <= x['date'], orders['group'] == x['group'])]\n",
    "                      .agg({'date': 'max', 'group': 'max', 'transactionId': 'nunique', 'visitorId': 'nunique', 'revenue': 'sum'}), axis=1)\n",
    "    .sort_values(by=['date','group']))\n",
    "\n",
    "# получаем агрегированные кумулятивные по дням данные о посетителях интернет-магазина \n",
    "visitorsAggregated = (\n",
    "    datesGroups.apply(lambda x: visitors[np.logical_and(visitors['date'] <= x['date'], visitors['group'] == x['group'])]\n",
    "                      .agg({'date' : 'max', 'group' : 'max', 'visitors' : 'sum'}), axis=1)\n",
    "    .sort_values(by=['date','group']))\n",
    "\n",
    "# объединяем кумулятивные данные в одной таблице и присваиваем ее столбцам понятные названия\n",
    "cumulativeData = ordersAggregated.merge(visitorsAggregated, left_on=['date', 'group'], right_on=['date', 'group'])\n",
    "cumulativeData.columns = ['date', 'group', 'orders', 'buyers', 'revenue', 'visitors']\n",
    "\n",
    "cumulativeData.head(5)"
   ]
  },
  {
   "cell_type": "markdown",
   "metadata": {},
   "source": [
    "По данным этой таблицы построим график"
   ]
  },
  {
   "cell_type": "markdown",
   "metadata": {},
   "source": [
    "#### График кумулятивной выручки по группам"
   ]
  },
  {
   "cell_type": "markdown",
   "metadata": {},
   "source": [
    "Изучим график кумулятивной выручки с разбивкой по группам. По ним можно определить, стоит останавливать тест или нет. "
   ]
  },
  {
   "cell_type": "code",
   "execution_count": 16,
   "metadata": {},
   "outputs": [
    {
     "data": {
      "image/png": "[encoded data removed]",
      "text/plain": [
       "<Figure size 1080x504 with 1 Axes>"
      ]
     },
     "metadata": {
      "needs_background": "light"
     },
     "output_type": "display_data"
    }
   ],
   "source": [
    "# Построим графики кумулятивной выручки по дням и группам A/B-тестирования: \n",
    "\n",
    "# датафрейм с кумулятивным количеством заказов и кумулятивной выручкой по дням в группе А\n",
    "cumulativeRevenueA = cumulativeData[cumulativeData['group']=='A'][['date','revenue', 'orders']]\n",
    "\n",
    "# датафрейм с кумулятивным количеством заказов и кумулятивной выручкой по дням в группе B\n",
    "cumulativeRevenueB = cumulativeData[cumulativeData['group']=='B'][['date','revenue', 'orders']]\n",
    "\n",
    "# Строим график выручки группы А\n",
    "plt.figure(figsize=(15, 7))\n",
    "\n",
    "plt.plot(cumulativeRevenueA['date'], cumulativeRevenueA['revenue'], label='A')\n",
    "\n",
    "# Строим график выручки группы B\n",
    "plt.plot(cumulativeRevenueB['date'], cumulativeRevenueB['revenue'], label='B')\n",
    "\n",
    "plt.ylabel('Выручка')\n",
    "plt.xlabel('Дата наблюдения')\n",
    "plt.title('Кумулятивная выручка по дням и группам')\n",
    "plt.legend(); "
   ]
  },
  {
   "cell_type": "markdown",
   "metadata": {},
   "source": [
    "Резкий скачок красной линии означает, что на характеристику влияют выбросы. Но по поведению графиков до выброса и общему наклону линий можно судить, что тест группы В стабильно лучше группы А."
   ]
  },
  {
   "cell_type": "markdown",
   "metadata": {},
   "source": [
    "Посмотрим то же самое на датасете без пересечения групп"
   ]
  },
  {
   "cell_type": "code",
   "execution_count": 17,
   "metadata": {
    "scrolled": false
   },
   "outputs": [
    {
     "data": {
      "text/html": [
       "<div>\n",
       "<style scoped>\n",
       "    .dataframe tbody tr th:only-of-type {\n",
       "        vertical-align: middle;\n",
       "    }\n",
       "\n",
       "    .dataframe tbody tr th {\n",
       "        vertical-align: top;\n",
       "    }\n",
       "\n",
       "    .dataframe thead th {\n",
       "        text-align: right;\n",
       "    }\n",
       "</style>\n",
       "<table border=\"1\" class=\"dataframe\">\n",
       "  <thead>\n",
       "    <tr style=\"text-align: right;\">\n",
       "      <th></th>\n",
       "      <th>date</th>\n",
       "      <th>group</th>\n",
       "    </tr>\n",
       "  </thead>\n",
       "  <tbody>\n",
       "    <tr>\n",
       "      <th>0</th>\n",
       "      <td>2019-08-15</td>\n",
       "      <td>B</td>\n",
       "    </tr>\n",
       "    <tr>\n",
       "      <th>7</th>\n",
       "      <td>2019-08-15</td>\n",
       "      <td>A</td>\n",
       "    </tr>\n",
       "    <tr>\n",
       "      <th>45</th>\n",
       "      <td>2019-08-16</td>\n",
       "      <td>A</td>\n",
       "    </tr>\n",
       "    <tr>\n",
       "      <th>47</th>\n",
       "      <td>2019-08-16</td>\n",
       "      <td>B</td>\n",
       "    </tr>\n",
       "    <tr>\n",
       "      <th>55</th>\n",
       "      <td>2019-08-01</td>\n",
       "      <td>A</td>\n",
       "    </tr>\n",
       "    <tr>\n",
       "      <th>...</th>\n",
       "      <td>...</td>\n",
       "      <td>...</td>\n",
       "    </tr>\n",
       "    <tr>\n",
       "      <th>1068</th>\n",
       "      <td>2019-08-12</td>\n",
       "      <td>A</td>\n",
       "    </tr>\n",
       "    <tr>\n",
       "      <th>1114</th>\n",
       "      <td>2019-08-13</td>\n",
       "      <td>B</td>\n",
       "    </tr>\n",
       "    <tr>\n",
       "      <th>1116</th>\n",
       "      <td>2019-08-13</td>\n",
       "      <td>A</td>\n",
       "    </tr>\n",
       "    <tr>\n",
       "      <th>1149</th>\n",
       "      <td>2019-08-14</td>\n",
       "      <td>B</td>\n",
       "    </tr>\n",
       "    <tr>\n",
       "      <th>1150</th>\n",
       "      <td>2019-08-14</td>\n",
       "      <td>A</td>\n",
       "    </tr>\n",
       "  </tbody>\n",
       "</table>\n",
       "<p>62 rows × 2 columns</p>\n",
       "</div>"
      ],
      "text/plain": [
       "           date group\n",
       "0    2019-08-15     B\n",
       "7    2019-08-15     A\n",
       "45   2019-08-16     A\n",
       "47   2019-08-16     B\n",
       "55   2019-08-01     A\n",
       "...         ...   ...\n",
       "1068 2019-08-12     A\n",
       "1114 2019-08-13     B\n",
       "1116 2019-08-13     A\n",
       "1149 2019-08-14     B\n",
       "1150 2019-08-14     A\n",
       "\n",
       "[62 rows x 2 columns]"
      ]
     },
     "metadata": {},
     "output_type": "display_data"
    },
    {
     "data": {
      "text/html": [
       "<div>\n",
       "<style scoped>\n",
       "    .dataframe tbody tr th:only-of-type {\n",
       "        vertical-align: middle;\n",
       "    }\n",
       "\n",
       "    .dataframe tbody tr th {\n",
       "        vertical-align: top;\n",
       "    }\n",
       "\n",
       "    .dataframe thead th {\n",
       "        text-align: right;\n",
       "    }\n",
       "</style>\n",
       "<table border=\"1\" class=\"dataframe\">\n",
       "  <thead>\n",
       "    <tr style=\"text-align: right;\">\n",
       "      <th></th>\n",
       "      <th>date</th>\n",
       "      <th>group</th>\n",
       "      <th>orders</th>\n",
       "      <th>buyers</th>\n",
       "      <th>revenue</th>\n",
       "    </tr>\n",
       "  </thead>\n",
       "  <tbody>\n",
       "    <tr>\n",
       "      <th>55</th>\n",
       "      <td>2019-08-01</td>\n",
       "      <td>A</td>\n",
       "      <td>23</td>\n",
       "      <td>19</td>\n",
       "      <td>142779</td>\n",
       "    </tr>\n",
       "    <tr>\n",
       "      <th>66</th>\n",
       "      <td>2019-08-01</td>\n",
       "      <td>B</td>\n",
       "      <td>17</td>\n",
       "      <td>17</td>\n",
       "      <td>59758</td>\n",
       "    </tr>\n",
       "    <tr>\n",
       "      <th>175</th>\n",
       "      <td>2019-08-02</td>\n",
       "      <td>A</td>\n",
       "      <td>42</td>\n",
       "      <td>36</td>\n",
       "      <td>234381</td>\n",
       "    </tr>\n",
       "    <tr>\n",
       "      <th>173</th>\n",
       "      <td>2019-08-02</td>\n",
       "      <td>B</td>\n",
       "      <td>40</td>\n",
       "      <td>39</td>\n",
       "      <td>221801</td>\n",
       "    </tr>\n",
       "    <tr>\n",
       "      <th>291</th>\n",
       "      <td>2019-08-03</td>\n",
       "      <td>A</td>\n",
       "      <td>66</td>\n",
       "      <td>60</td>\n",
       "      <td>346854</td>\n",
       "    </tr>\n",
       "  </tbody>\n",
       "</table>\n",
       "</div>"
      ],
      "text/plain": [
       "          date group  orders  buyers  revenue\n",
       "55  2019-08-01     A      23      19   142779\n",
       "66  2019-08-01     B      17      17    59758\n",
       "175 2019-08-02     A      42      36   234381\n",
       "173 2019-08-02     B      40      39   221801\n",
       "291 2019-08-03     A      66      60   346854"
      ]
     },
     "execution_count": 17,
     "metadata": {},
     "output_type": "execute_result"
    }
   ],
   "source": [
    "\n",
    "# создаем массив уникальных пар значений дат и групп теста\n",
    "datesGroups_nd = orders_nodub[['date','group']].drop_duplicates() \n",
    "display(datesGroups_nd)\n",
    "\n",
    "# Агрегируем значения. Вычислим максимальную дату. Для группы тоже рассчитаем максимум.\n",
    "# Найдём число уникальных ID заказов и пользователей. Подсчитаем сумму средних чеков.\n",
    "ordersAggregated_nd = ( \n",
    "    datesGroups_nd.apply(lambda x: orders_nodub[np.logical_and(orders_nodub['date'] <= x['date'], orders_nodub['group'] == x['group'])]\n",
    "    .agg({'date': 'max', 'group': 'max', 'transactionId': 'nunique', 'visitorId': 'nunique', 'revenue': 'sum'}), axis=1)\n",
    "    .sort_values(by=['date','group']))\n",
    "ordersAggregated_nd.columns = ['date', 'group', 'orders', 'buyers', 'revenue']\n",
    "ordersAggregated_nd.head()"
   ]
  },
  {
   "cell_type": "code",
   "execution_count": 18,
   "metadata": {
    "scrolled": false
   },
   "outputs": [
    {
     "data": {
      "image/png": "[encoded data removed]",
      "text/plain": [
       "<Figure size 1080x504 with 2 Axes>"
      ]
     },
     "metadata": {
      "needs_background": "light"
     },
     "output_type": "display_data"
    }
   ],
   "source": [
    "# Построим графики кумулятивной выручки по дням и группам A/B-тестирования: \n",
    "\n",
    "# датафрейм с кумулятивным количеством заказов и кумулятивной выручкой по дням в группе А\n",
    "cumulativeRevenueA_nd = ordersAggregated_nd[ordersAggregated_nd['group']=='A'][['date','revenue', 'orders']]\n",
    "\n",
    "# датафрейм с кумулятивным количеством заказов и кумулятивной выручкой по дням в группе B\n",
    "cumulativeRevenueB_nd = ordersAggregated_nd[ordersAggregated_nd['group']=='B'][['date','revenue', 'orders']]\n",
    "\n",
    "\n",
    "plt.figure(figsize=(15, 7))\n",
    "\n",
    "ax1 = plt.subplot(1, 2, 1)\n",
    "\n",
    "# Строим график выручки группы А\n",
    "plt.plot(cumulativeRevenueA_nd['date'], cumulativeRevenueA_nd['revenue'], label='A')\n",
    "\n",
    "# Строим график выручки группы B\n",
    "plt.plot(cumulativeRevenueB_nd['date'], cumulativeRevenueB_nd['revenue'], label='B')\n",
    "plt.ylabel('Выручка')\n",
    "plt.xlabel('Дата наблюдения')\n",
    "plt.title('Кумулятивная выручка по дням и группам без пересечения')\n",
    "plt.grid()\n",
    "plt.legend()\n",
    "\n",
    "ax2 = plt.subplot(1, 2, 2, sharey=ax1)\n",
    "plt.plot(cumulativeRevenueA['date'], cumulativeRevenueA['revenue'], label='A')\n",
    "\n",
    "# Строим график выручки группы B\n",
    "plt.plot(cumulativeRevenueB['date'], cumulativeRevenueB['revenue'], label='B')\n",
    "plt.ylabel('Выручка')\n",
    "plt.xlabel('Дата наблюдения')\n",
    "plt.title('Кумулятивная выручка по дням и группам')\n",
    "plt.grid()\n",
    "plt.legend(); "
   ]
  },
  {
   "cell_type": "markdown",
   "metadata": {},
   "source": [
    "Динамика схожая, график без пересечений показывает чуть меньшую выручку."
   ]
  },
  {
   "cell_type": "markdown",
   "metadata": {},
   "source": [
    "### Средний чек\n"
   ]
  },
  {
   "cell_type": "markdown",
   "metadata": {},
   "source": [
    "#### График кумулятивного среднего чека по группам"
   ]
  },
  {
   "cell_type": "code",
   "execution_count": 19,
   "metadata": {
    "scrolled": false
   },
   "outputs": [
    {
     "data": {
      "image/png": "[encoded data removed]",
      "text/plain": [
       "<Figure size 1080x504 with 1 Axes>"
      ]
     },
     "metadata": {
      "needs_background": "light"
     },
     "output_type": "display_data"
    }
   ],
   "source": [
    "# разделим кумулятивную выручку на кумулятивное число заказов\n",
    "plt.figure(figsize=(15, 7))\n",
    "\n",
    "plt.plot(cumulativeRevenueA['date'], cumulativeRevenueA['revenue']/cumulativeRevenueA['orders'], label='A')\n",
    "plt.plot(cumulativeRevenueB['date'], cumulativeRevenueB['revenue']/cumulativeRevenueB['orders'], label='B')\n",
    "\n",
    "plt.ylabel('Выручка')\n",
    "plt.xlabel('Дата наблюдения')\n",
    "plt.title('Кумулятивный средний чек по дням и группам')\n",
    "\n",
    "plt.legend(); "
   ]
  },
  {
   "cell_type": "markdown",
   "metadata": {},
   "source": [
    "Средний чек группы А стабильно растет. Средний чек группы В имеет аномальный всплеск в середине области наблюдения, но дальнейший график идет на снижение. Можно предположить, что в отсутствие выброса график группы В не показывал бы превосходства над группой А."
   ]
  },
  {
   "cell_type": "markdown",
   "metadata": {},
   "source": [
    "#### График относительного изменения кумулятивного среднего чека группы B к группе A\n"
   ]
  },
  {
   "cell_type": "code",
   "execution_count": 20,
   "metadata": {
    "scrolled": false
   },
   "outputs": [
    {
     "data": {
      "image/png": "[encoded data removed]",
      "text/plain": [
       "<Figure size 1080x504 with 1 Axes>"
      ]
     },
     "metadata": {
      "needs_background": "light"
     },
     "output_type": "display_data"
    }
   ],
   "source": [
    "# собираем данные в одном датафрейме\n",
    "mergedCumulativeRevenue = (\n",
    "    cumulativeRevenueA.merge(cumulativeRevenueB, left_on='date', right_on='date', how='left', suffixes=['A', 'B']))\n",
    "\n",
    "# cтроим отношение средних чеков\n",
    "plt.figure(figsize=(15, 7))\n",
    "\n",
    "plt.plot(mergedCumulativeRevenue['date'], (mergedCumulativeRevenue['revenueB']/mergedCumulativeRevenue['ordersB'])\\\n",
    "         /(mergedCumulativeRevenue['revenueA']/mergedCumulativeRevenue['ordersA'])-1)\n",
    "\n",
    "# добавляем ось X\n",
    "\n",
    "plt.xlabel('Дата наблюдения')\n",
    "plt.title('Относительное изменение кумулятивного среднего чека группы B к группе A')\n",
    "\n",
    "plt.axhline(y=0, color='black', linestyle='--'); "
   ]
  },
  {
   "cell_type": "markdown",
   "metadata": {},
   "source": [
    "График различия среднего чека говорит о том, что результаты группы B сейчас на 20% лучше группы А. Но на график сильно влияет выброс в середине августа. Если не учитывать его влияние, то можно заметить, что график обладает отрицательным трендом - после пика на выбросе значения среднего чека стремятся вниз."
   ]
  },
  {
   "cell_type": "markdown",
   "metadata": {},
   "source": [
    "И снова посмотрим на датасет без пересечения групп"
   ]
  },
  {
   "cell_type": "code",
   "execution_count": 21,
   "metadata": {
    "scrolled": false
   },
   "outputs": [
    {
     "data": {
      "image/png": "[encoded data removed]",
      "text/plain": [
       "<Figure size 1440x720 with 4 Axes>"
      ]
     },
     "metadata": {
      "needs_background": "light"
     },
     "output_type": "display_data"
    }
   ],
   "source": [
    "# разделим кумулятивную выручку на кумулятивное число заказов\n",
    "plt.figure(figsize=(20, 10))\n",
    "ax1 = plt.subplot(2, 2, 1)\n",
    "plt.plot(cumulativeRevenueA['date'], cumulativeRevenueA['revenue']/cumulativeRevenueA['orders'], label='A')\n",
    "plt.plot(cumulativeRevenueB['date'], cumulativeRevenueB['revenue']/cumulativeRevenueB['orders'], label='B')\n",
    "\n",
    "plt.ylabel('Выручка')\n",
    "plt.xlabel('Дата наблюдения')\n",
    "plt.title('Кумулятивный средний чек по дням и группам')\n",
    "plt.grid()\n",
    "plt.legend()\n",
    "\n",
    "ax1 = plt.subplot(2, 2, 2)\n",
    "# собираем данные в одном датафрейме\n",
    "#mergedCumulativeRevenue = (\n",
    "#    cumulativeRevenueA.merge(cumulativeRevenueB, left_on='date', right_on='date', how='left', suffixes=['A', 'B']))\n",
    "\n",
    "# cтроим отношение средних чеков\n",
    "\n",
    "plt.plot(mergedCumulativeRevenue['date'], (mergedCumulativeRevenue['revenueB']/mergedCumulativeRevenue['ordersB'])\\\n",
    "         /(mergedCumulativeRevenue['revenueA']/mergedCumulativeRevenue['ordersA'])-1)\n",
    "\n",
    "# добавляем ось X\n",
    "\n",
    "plt.xlabel('Дата наблюдения')\n",
    "plt.title('Относительное изменение кумулятивного среднего чека группы B к группе A')\n",
    "plt.grid()\n",
    "plt.axhline(y=0, color='black', linestyle='--')\n",
    "\n",
    "ax1 = plt.subplot(2, 2, 3)\n",
    "plt.plot(cumulativeRevenueA_nd['date'], cumulativeRevenueA_nd['revenue']/cumulativeRevenueA_nd['orders'], label='A')\n",
    "plt.plot(cumulativeRevenueB_nd['date'], cumulativeRevenueB_nd['revenue']/cumulativeRevenueB_nd['orders'], label='B')\n",
    "\n",
    "plt.ylabel('Выручка')\n",
    "plt.xlabel('Дата наблюдения')\n",
    "plt.title('Кумулятивный средний чек по дням и группам без пересечений')\n",
    "plt.grid()\n",
    "plt.legend()\n",
    "\n",
    "ax1 = plt.subplot(2, 2, 4)\n",
    "# собираем данные в одном датафрейме\n",
    "mergedCumulativeRevenue_nd = (\n",
    "    cumulativeRevenueA_nd.merge(cumulativeRevenueB_nd, left_on='date', right_on='date', how='left', suffixes=['A', 'B']))\n",
    "\n",
    "# cтроим отношение средних чеков\n",
    "\n",
    "plt.plot(mergedCumulativeRevenue_nd['date'], (mergedCumulativeRevenue_nd['revenueB']/mergedCumulativeRevenue_nd['ordersB'])\\\n",
    "         /(mergedCumulativeRevenue_nd['revenueA']/mergedCumulativeRevenue_nd['ordersA'])-1)\n",
    "\n",
    "# добавляем ось X\n",
    "\n",
    "plt.xlabel('Дата наблюдения')\n",
    "plt.title('Относительное изменение кумулятивного среднего чека группы B к группе A без пересечений')\n",
    "plt.grid()\n",
    "plt.axhline(y=0, color='black', linestyle='--');"
   ]
  },
  {
   "cell_type": "markdown",
   "metadata": {},
   "source": [
    "Как оказалось, наличие пересечений пользователей в этом датасете не очень сильно влияет на рассчитанные кумулятивные характеристики. Заметно небольшое увеличение средней стоимости заказа, особенно в группе В."
   ]
  },
  {
   "cell_type": "markdown",
   "metadata": {},
   "source": [
    "#### График стоимостей заказов.\n"
   ]
  },
  {
   "cell_type": "code",
   "execution_count": 22,
   "metadata": {
    "scrolled": false
   },
   "outputs": [
    {
     "data": {
      "image/png": "[encoded data removed]",
      "text/plain": [
       "<Figure size 1080x504 with 1 Axes>"
      ]
     },
     "metadata": {
      "needs_background": "light"
     },
     "output_type": "display_data"
    }
   ],
   "source": [
    "# серия из чисел от 0 до количества наблюдений в orders['revenue']\n",
    "x_values = pd.Series(range(0, len(orders['revenue'])))\n",
    "\n",
    "plt.figure(figsize=(15, 7))\n",
    "plt.ylabel('Стоимость заказов')\n",
    "plt.title('График стоимости заказов по пользователям')\n",
    "plt.scatter(x_values, orders['revenue']); "
   ]
  },
  {
   "cell_type": "markdown",
   "metadata": {},
   "source": [
    "Из-за аномального заказа более чем на 1 миллион рублей график сложно поддается анализу. Но даже так видно,  что стоимость заказов в основном не поднимается выше 30-40 тыс. рублей. От аномалий надо избавляться."
   ]
  },
  {
   "cell_type": "markdown",
   "metadata": {},
   "source": [
    "#### Выберем границу для определения аномальных заказов с помощью перцентилей.\n"
   ]
  },
  {
   "cell_type": "code",
   "execution_count": 23,
   "metadata": {},
   "outputs": [
    {
     "data": {
      "text/plain": [
       "array([18168. , 28000. , 58233.2])"
      ]
     },
     "execution_count": 23,
     "metadata": {},
     "output_type": "execute_result"
    }
   ],
   "source": [
    "perc_rev = np.percentile(orders['revenue'], [90, 95, 99])\n",
    "perc_rev"
   ]
  },
  {
   "cell_type": "markdown",
   "metadata": {},
   "source": [
    "Расчет перцентилей подтвердил предыдущее предположение. Не более 5% датасета это заказы стоимостью выше 28000, и не более 1% заказы дороже 58233.2."
   ]
  },
  {
   "cell_type": "markdown",
   "metadata": {},
   "source": [
    "### Количество заказов\n"
   ]
  },
  {
   "cell_type": "markdown",
   "metadata": {},
   "source": [
    "#### График кумулятивного среднего количества заказов на посетителя по группам"
   ]
  },
  {
   "cell_type": "code",
   "execution_count": 24,
   "metadata": {
    "scrolled": false
   },
   "outputs": [
    {
     "data": {
      "image/png": "[encoded data removed]",
      "text/plain": [
       "<Figure size 1080x504 with 1 Axes>"
      ]
     },
     "metadata": {
      "needs_background": "light"
     },
     "output_type": "display_data"
    }
   ],
   "source": [
    "# датафреймы с кумулятивным количеством посетителей и заказов по дням в группах А и В\n",
    "cumulativeOrderAvgA = cumulativeData[cumulativeData['group']=='A'][['date','visitors', 'orders']]\n",
    "cumulativeOrderAvgB = cumulativeData[cumulativeData['group']=='B'][['date','visitors', 'orders']]\n",
    "\n",
    "plt.figure(figsize=(15, 7))\n",
    "\n",
    "#разделим кумулятивное число заказов на кумулятивное количество посетителей\n",
    "plt.plot(cumulativeOrderAvgA['date'], cumulativeOrderAvgA['orders']/cumulativeOrderAvgA['visitors'], label='A')\n",
    "plt.plot(cumulativeOrderAvgB['date'], cumulativeOrderAvgB['orders']/cumulativeOrderAvgB['visitors'], label='B')\n",
    "\n",
    "plt.xlabel('Дата наблюдения')\n",
    "plt.ylabel('Количество заказов')\n",
    "plt.title('Кумулятивное среднее количество заказов на посетителя по группам')\n",
    "\n",
    "plt.legend(); "
   ]
  },
  {
   "cell_type": "markdown",
   "metadata": {},
   "source": [
    "По этому графику можно однозначно сказать, что в ходе теста среднее число заказов от пользователей из группы В было стабильно больше, чем от группы А."
   ]
  },
  {
   "cell_type": "markdown",
   "metadata": {},
   "source": [
    "#### График относительного изменения кумулятивного среднего количества заказов на посетителя группы B к группе A\n"
   ]
  },
  {
   "cell_type": "code",
   "execution_count": 25,
   "metadata": {},
   "outputs": [
    {
     "data": {
      "image/png": "[encoded data removed]",
      "text/plain": [
       "<Figure size 1080x504 with 1 Axes>"
      ]
     },
     "metadata": {
      "needs_background": "light"
     },
     "output_type": "display_data"
    }
   ],
   "source": [
    "# собираем данные в одном датафрейме\n",
    "mergedCumulativeOrderAvg = (\n",
    "    cumulativeOrderAvgA.merge(cumulativeOrderAvgB, left_on='date', right_on='date', how='left', suffixes=['A', 'B']))\n",
    "\n",
    "# cтроим отношение средних чеков\n",
    "plt.figure(figsize=(15, 7))\n",
    "\n",
    "plt.plot(mergedCumulativeOrderAvg['date'], (mergedCumulativeOrderAvg['ordersB']/mergedCumulativeOrderAvg['visitorsB'])\\\n",
    "         /(mergedCumulativeOrderAvg['ordersA']/mergedCumulativeOrderAvg['visitorsA'])-1)\n",
    "\n",
    "# добавляем ось X\n",
    "\n",
    "plt.xlabel('Дата наблюдения')\n",
    "plt.title('Относительное изменение кумулятивного среднего количества заказов на посетителя группы B к группе A')\n",
    "\n",
    "plt.axhline(y=0, color='black', linestyle='--'); "
   ]
  },
  {
   "cell_type": "markdown",
   "metadata": {},
   "source": [
    "График различия среднего количества заказов между группами сообщает, что в целом результаты группы В значительно лучше группы A. Однако в последней трети графика заметно снижение числа заказов. Возможно, еще рано делать выводы о результатах теста."
   ]
  },
  {
   "cell_type": "markdown",
   "metadata": {},
   "source": [
    "#### График количества заказов по пользователям. \n"
   ]
  },
  {
   "cell_type": "code",
   "execution_count": 26,
   "metadata": {
    "scrolled": false
   },
   "outputs": [
    {
     "data": {
      "text/html": [
       "<div>\n",
       "<style scoped>\n",
       "    .dataframe tbody tr th:only-of-type {\n",
       "        vertical-align: middle;\n",
       "    }\n",
       "\n",
       "    .dataframe tbody tr th {\n",
       "        vertical-align: top;\n",
       "    }\n",
       "\n",
       "    .dataframe thead th {\n",
       "        text-align: right;\n",
       "    }\n",
       "</style>\n",
       "<table border=\"1\" class=\"dataframe\">\n",
       "  <thead>\n",
       "    <tr style=\"text-align: right;\">\n",
       "      <th></th>\n",
       "      <th>visitorId</th>\n",
       "      <th>orders</th>\n",
       "    </tr>\n",
       "  </thead>\n",
       "  <tbody>\n",
       "    <tr>\n",
       "      <th>1023</th>\n",
       "      <td>4256040402</td>\n",
       "      <td>11</td>\n",
       "    </tr>\n",
       "    <tr>\n",
       "      <th>591</th>\n",
       "      <td>2458001652</td>\n",
       "      <td>11</td>\n",
       "    </tr>\n",
       "    <tr>\n",
       "      <th>569</th>\n",
       "      <td>2378935119</td>\n",
       "      <td>9</td>\n",
       "    </tr>\n",
       "    <tr>\n",
       "      <th>487</th>\n",
       "      <td>2038680547</td>\n",
       "      <td>8</td>\n",
       "    </tr>\n",
       "    <tr>\n",
       "      <th>44</th>\n",
       "      <td>199603092</td>\n",
       "      <td>5</td>\n",
       "    </tr>\n",
       "  </tbody>\n",
       "</table>\n",
       "</div>"
      ],
      "text/plain": [
       "       visitorId  orders\n",
       "1023  4256040402      11\n",
       "591   2458001652      11\n",
       "569   2378935119       9\n",
       "487   2038680547       8\n",
       "44     199603092       5"
      ]
     },
     "metadata": {},
     "output_type": "display_data"
    },
    {
     "data": {
      "image/png": "[encoded data removed]",
      "text/plain": [
       "<Figure size 1080x504 with 1 Axes>"
      ]
     },
     "metadata": {
      "needs_background": "light"
     },
     "output_type": "display_data"
    }
   ],
   "source": [
    "ordersByVisitors = (\n",
    "    orders.groupby('visitorId', as_index=False)\n",
    "    .agg({'transactionId': 'nunique'})\n",
    "    \n",
    ")\n",
    "\n",
    "ordersByVisitors.columns = ['visitorId', 'orders']\n",
    "display(ordersByVisitors.sort_values(by='orders', ascending=False).head())\n",
    "# серия из чисел от 0 до количества наблюдений в ordersByVisitors\n",
    "x_values = pd.Series(range(0, len(ordersByVisitors)))\n",
    "\n",
    "plt.figure(figsize=(15, 7))\n",
    "plt.ylabel('Число заказов')\n",
    "plt.title('График числа заказов по пользователям')\n",
    "plt.scatter(x_values, ordersByVisitors['orders']);"
   ]
  },
  {
   "cell_type": "markdown",
   "metadata": {},
   "source": [
    "По графику видно, что основная часть значений лежит в пределах 1-2 заказов на пользователя. Есть аномальные случаи в 4, 8 и более заказов, которые следует исключить из анализа."
   ]
  },
  {
   "cell_type": "markdown",
   "metadata": {},
   "source": [
    "#### Выберем границу для определения аномальных пользователей по числу заказов с помощью перцентилей.\n"
   ]
  },
  {
   "cell_type": "code",
   "execution_count": 27,
   "metadata": {},
   "outputs": [
    {
     "data": {
      "text/plain": [
       "array([1., 2., 4.])"
      ]
     },
     "execution_count": 27,
     "metadata": {},
     "output_type": "execute_result"
    }
   ],
   "source": [
    "perc_orders = np.percentile(ordersByVisitors['orders'], [90, 95, 99])\n",
    "perc_orders"
   ]
  },
  {
   "cell_type": "markdown",
   "metadata": {},
   "source": [
    "Расчет перцентилей показывает, что больше 2-х заказов совершают не более 5% пользователей, а больше 4-х - не более 1%."
   ]
  },
  {
   "cell_type": "markdown",
   "metadata": {},
   "source": [
    "### Статистические тесты"
   ]
  },
  {
   "cell_type": "markdown",
   "metadata": {},
   "source": [
    "#### Статистическая значимость различий в среднем количестве заказов на посетителя между группами по «сырым» данным\n"
   ]
  },
  {
   "cell_type": "markdown",
   "metadata": {},
   "source": [
    "Будем использовать непараметрический тест Уилкоксона-Манна-Уитни, т.к.он более устойчив к выбросам. \n",
    "\n",
    "Сформулируем гипотезы и подготовим данные для расчетов.\n",
    "\n",
    "- Н0: Нет различий в среднем количестве заказов между группами. \n",
    "- Н1: Есть различия в среднем между группами."
   ]
  },
  {
   "cell_type": "code",
   "execution_count": 28,
   "metadata": {
    "scrolled": true
   },
   "outputs": [
    {
     "data": {
      "text/html": [
       "<div>\n",
       "<style scoped>\n",
       "    .dataframe tbody tr th:only-of-type {\n",
       "        vertical-align: middle;\n",
       "    }\n",
       "\n",
       "    .dataframe tbody tr th {\n",
       "        vertical-align: top;\n",
       "    }\n",
       "\n",
       "    .dataframe thead th {\n",
       "        text-align: right;\n",
       "    }\n",
       "</style>\n",
       "<table border=\"1\" class=\"dataframe\">\n",
       "  <thead>\n",
       "    <tr style=\"text-align: right;\">\n",
       "      <th></th>\n",
       "      <th>date</th>\n",
       "      <th>ordersPerDateA</th>\n",
       "      <th>revenuePerDateA</th>\n",
       "      <th>ordersPerDateB</th>\n",
       "      <th>revenuePerDateB</th>\n",
       "      <th>ordersCummulativeA</th>\n",
       "      <th>revenueCummulativeA</th>\n",
       "      <th>ordersCummulativeB</th>\n",
       "      <th>revenueCummulativeB</th>\n",
       "      <th>visitorsPerDateA</th>\n",
       "      <th>visitorsPerDateB</th>\n",
       "      <th>visitorsCummulativeA</th>\n",
       "      <th>visitorsCummulativeB</th>\n",
       "    </tr>\n",
       "  </thead>\n",
       "  <tbody>\n",
       "    <tr>\n",
       "      <th>0</th>\n",
       "      <td>2019-08-01</td>\n",
       "      <td>24</td>\n",
       "      <td>148579</td>\n",
       "      <td>21</td>\n",
       "      <td>101217</td>\n",
       "      <td>24</td>\n",
       "      <td>148579</td>\n",
       "      <td>21</td>\n",
       "      <td>101217</td>\n",
       "      <td>719</td>\n",
       "      <td>713</td>\n",
       "      <td>719</td>\n",
       "      <td>713</td>\n",
       "    </tr>\n",
       "    <tr>\n",
       "      <th>1</th>\n",
       "      <td>2019-08-02</td>\n",
       "      <td>20</td>\n",
       "      <td>93822</td>\n",
       "      <td>24</td>\n",
       "      <td>165531</td>\n",
       "      <td>44</td>\n",
       "      <td>242401</td>\n",
       "      <td>45</td>\n",
       "      <td>266748</td>\n",
       "      <td>619</td>\n",
       "      <td>581</td>\n",
       "      <td>1338</td>\n",
       "      <td>1294</td>\n",
       "    </tr>\n",
       "    <tr>\n",
       "      <th>2</th>\n",
       "      <td>2019-08-03</td>\n",
       "      <td>24</td>\n",
       "      <td>112473</td>\n",
       "      <td>16</td>\n",
       "      <td>114248</td>\n",
       "      <td>68</td>\n",
       "      <td>354874</td>\n",
       "      <td>61</td>\n",
       "      <td>380996</td>\n",
       "      <td>507</td>\n",
       "      <td>509</td>\n",
       "      <td>1845</td>\n",
       "      <td>1803</td>\n",
       "    </tr>\n",
       "    <tr>\n",
       "      <th>3</th>\n",
       "      <td>2019-08-04</td>\n",
       "      <td>16</td>\n",
       "      <td>70825</td>\n",
       "      <td>17</td>\n",
       "      <td>108571</td>\n",
       "      <td>84</td>\n",
       "      <td>425699</td>\n",
       "      <td>78</td>\n",
       "      <td>489567</td>\n",
       "      <td>717</td>\n",
       "      <td>770</td>\n",
       "      <td>2562</td>\n",
       "      <td>2573</td>\n",
       "    </tr>\n",
       "    <tr>\n",
       "      <th>4</th>\n",
       "      <td>2019-08-05</td>\n",
       "      <td>25</td>\n",
       "      <td>124218</td>\n",
       "      <td>23</td>\n",
       "      <td>92428</td>\n",
       "      <td>109</td>\n",
       "      <td>549917</td>\n",
       "      <td>101</td>\n",
       "      <td>581995</td>\n",
       "      <td>756</td>\n",
       "      <td>707</td>\n",
       "      <td>3318</td>\n",
       "      <td>3280</td>\n",
       "    </tr>\n",
       "  </tbody>\n",
       "</table>\n",
       "</div>"
      ],
      "text/plain": [
       "        date  ordersPerDateA  revenuePerDateA  ordersPerDateB  \\\n",
       "0 2019-08-01              24           148579              21   \n",
       "1 2019-08-02              20            93822              24   \n",
       "2 2019-08-03              24           112473              16   \n",
       "3 2019-08-04              16            70825              17   \n",
       "4 2019-08-05              25           124218              23   \n",
       "\n",
       "   revenuePerDateB  ordersCummulativeA  revenueCummulativeA  \\\n",
       "0           101217                  24               148579   \n",
       "1           165531                  44               242401   \n",
       "2           114248                  68               354874   \n",
       "3           108571                  84               425699   \n",
       "4            92428                 109               549917   \n",
       "\n",
       "   ordersCummulativeB  revenueCummulativeB  visitorsPerDateA  \\\n",
       "0                  21               101217               719   \n",
       "1                  45               266748               619   \n",
       "2                  61               380996               507   \n",
       "3                  78               489567               717   \n",
       "4                 101               581995               756   \n",
       "\n",
       "   visitorsPerDateB  visitorsCummulativeA  visitorsCummulativeB  \n",
       "0               713                   719                   713  \n",
       "1               581                  1338                  1294  \n",
       "2               509                  1845                  1803  \n",
       "3               770                  2562                  2573  \n",
       "4               707                  3318                  3280  "
      ]
     },
     "execution_count": 28,
     "metadata": {},
     "output_type": "execute_result"
    }
   ],
   "source": [
    "# количество посетителей по датам в группе А\n",
    "visitorsADaily = visitors[visitors['group'] == 'A'][['date', 'visitors']]\n",
    "visitorsADaily.columns = ['date', 'visitorsPerDateA']\n",
    "\n",
    "# количество посетителей до выбранной даты включительно в группе A\n",
    "visitorsACummulative = visitorsADaily.apply(\n",
    "    lambda x: visitorsADaily[visitorsADaily['date'] <= x['date']].agg(\n",
    "        {'date': 'max', 'visitorsPerDateA': 'sum'}\n",
    "    ),\n",
    "    axis=1,\n",
    ")\n",
    "visitorsACummulative.columns = ['date', 'visitorsCummulativeA']\n",
    "\n",
    "# количество посетителей по датам в группе В\n",
    "visitorsBDaily = visitors[visitors['group'] == 'B'][['date', 'visitors']]\n",
    "visitorsBDaily.columns = ['date', 'visitorsPerDateB']\n",
    "\n",
    "# количество посетителей до выбранной даты включительно в группе В\n",
    "visitorsBCummulative = visitorsBDaily.apply(\n",
    "    lambda x: visitorsBDaily[visitorsBDaily['date'] <= x['date']].agg(\n",
    "        {'date': 'max', 'visitorsPerDateB': 'sum'}\n",
    "    ),\n",
    "    axis=1,\n",
    ")\n",
    "visitorsBCummulative.columns = ['date', 'visitorsCummulativeB']\n",
    "\n",
    "# количество заказов и суммарная выручка в выбранную дату в группе A\n",
    "ordersADaily = (\n",
    "    orders[orders['group'] == 'A'][['date', 'transactionId', 'visitorId', 'revenue']]\n",
    "    .groupby('date', as_index=False)\n",
    "    .agg({'transactionId': pd.Series.nunique, 'revenue': 'sum'})\n",
    ")\n",
    "ordersADaily.columns = ['date', 'ordersPerDateA', 'revenuePerDateA']\n",
    "\n",
    "\n",
    "# суммарное количество заказов и суммарная выручка до выбранной даты включительно в группе А\n",
    "ordersACummulative = ordersADaily.apply(\n",
    "    lambda x: ordersADaily[ordersADaily['date'] <= x['date']].agg(\n",
    "        {'date': 'max', 'ordersPerDateA': 'sum', 'revenuePerDateA': 'sum'}\n",
    "    ),\n",
    "    axis=1,\n",
    ").sort_values(by=['date'])\n",
    "ordersACummulative.columns = [\n",
    "    'date',\n",
    "    'ordersCummulativeA',\n",
    "    'revenueCummulativeA',\n",
    "]\n",
    "\n",
    "# количество заказов и суммарная выручка в выбранную дату в группе B\n",
    "ordersBDaily = (\n",
    "    orders[orders['group'] == 'B'][['date', 'transactionId', 'visitorId', 'revenue']]\n",
    "    .groupby('date', as_index=False)\n",
    "    .agg({'transactionId': pd.Series.nunique, 'revenue': 'sum'})\n",
    ")\n",
    "ordersBDaily.columns = ['date', 'ordersPerDateB', 'revenuePerDateB']\n",
    "\n",
    "# суммарное количество заказов и суммарная выручка до выбранной даты включительно в группе В\n",
    "ordersBCummulative = ordersBDaily.apply(\n",
    "    lambda x: ordersBDaily[ordersBDaily['date'] <= x['date']].agg(\n",
    "        {'date': 'max', 'ordersPerDateB': 'sum', 'revenuePerDateB': 'sum'}\n",
    "    ),\n",
    "    axis=1,\n",
    ").sort_values(by=['date'])\n",
    "ordersBCummulative.columns = [\n",
    "    'date',\n",
    "    'ordersCummulativeB',\n",
    "    'revenueCummulativeB',\n",
    "]\n",
    "\n",
    "# собираем датасет\n",
    "data_crude = (\n",
    "    ordersADaily.merge(\n",
    "        ordersBDaily, left_on='date', right_on='date', how='left'\n",
    "    )\n",
    "    .merge(ordersACummulative, left_on='date', right_on='date', how='left')\n",
    "    .merge(ordersBCummulative, left_on='date', right_on='date', how='left')\n",
    "    .merge(visitorsADaily, left_on='date', right_on='date', how='left')\n",
    "    .merge(visitorsBDaily, left_on='date', right_on='date', how='left')\n",
    "    .merge(visitorsACummulative, left_on='date', right_on='date', how='left')\n",
    "    .merge(visitorsBCummulative, left_on='date', right_on='date', how='left')\n",
    ")\n",
    "\n",
    "data_crude.head(5)"
   ]
  },
  {
   "cell_type": "markdown",
   "metadata": {},
   "source": [
    "Датасет содержит ежеденевные и кумулятивные данные по числу заказов, выручке и количеству посетителей в разбитиении по подгруппам и состоит из следующих столбцов:\n",
    "- date — дата;\n",
    "- ordersPerDateA — количество заказов в выбранную дату в группе A;\n",
    "- revenuePerDateA — суммарная выручка в выбранную дату в группе A;\n",
    "- ordersPerDateB — количество заказов в выбранную дату в группе B;\n",
    "- revenuePerDateB — суммарная выручка в выбранную дату в группе B;\n",
    "- ordersCummulativeA — суммарное число заказов до выбранной даты включительно в группе A;\n",
    "- revenueCummulativeA — суммарная выручка до выбранной даты включительно в группе A;\n",
    "- ordersCummulativeB — суммарное количество заказов до выбранной даты включительно в группе B;\n",
    "- revenueCummulativeB — суммарная выручка до выбранной даты включительно в группе B;\n",
    "- visitorsPerDateA — количество посетителей в выбранную дату в группе A;\n",
    "- visitorsPerDateB — количество посетителей в выбранную дату в группе B;\n",
    "- visitorsCummulativeA — количество посетителей до выбранной даты включительно в группе A;\n",
    "- visitorsCummulativeB — количество посетителей до выбранной даты включительно в группе B."
   ]
  },
  {
   "cell_type": "markdown",
   "metadata": {},
   "source": [
    "Посчитаем статистическую значимость различия в среднем количестве заказов между группами."
   ]
  },
  {
   "cell_type": "code",
   "execution_count": 29,
   "metadata": {},
   "outputs": [
    {
     "data": {
      "text/plain": [
       "0        1\n",
       "1        1\n",
       "2        1\n",
       "3        1\n",
       "4        1\n",
       "        ..\n",
       "18228    0\n",
       "18229    0\n",
       "18230    0\n",
       "18231    0\n",
       "18232    0\n",
       "Name: orders, Length: 18736, dtype: int64"
      ]
     },
     "execution_count": 29,
     "metadata": {},
     "output_type": "execute_result"
    }
   ],
   "source": [
    "# Создадим переменные и укажем в них число совершённых заказов для заказывавших ранее посетителей.\n",
    "ordersByUsersA = (\n",
    "    orders[orders['group'] == 'A']\n",
    "    .groupby('visitorId', as_index=False)\n",
    "    .agg({'transactionId': pd.Series.nunique})\n",
    ")\n",
    "ordersByUsersA.columns = ['visitorId', 'orders']\n",
    "\n",
    "ordersByUsersB = (\n",
    "    orders[orders['group'] == 'B']\n",
    "    .groupby('visitorId', as_index=False)\n",
    "    .agg({'transactionId': pd.Series.nunique})\n",
    ")\n",
    "ordersByUsersB.columns = ['visitorId', 'orders'] \n",
    "\n",
    "# в sampleA и sampleB пользователям из разных групп соответствует количество заказов.\n",
    "# Это нужно, чтобы подготовить выборки к проверке критерием Манна-Уитни.\n",
    "sampleA = (\n",
    "    pd.concat([ordersByUsersA['orders'],pd\n",
    "               .Series(0, index=np.arange(data_crude['visitorsPerDateA']\n",
    "                                          .sum() - len(ordersByUsersA['orders'])), name='orders')],axis=0)\n",
    ")\n",
    "\n",
    "sampleB = (\n",
    "    pd.concat([ordersByUsersB['orders'],pd\n",
    "               .Series(0, index=np.arange(data_crude['visitorsPerDateB']\n",
    "                                          .sum() - len(ordersByUsersB['orders'])), name='orders')],axis=0)\n",
    ")\n",
    "sampleA"
   ]
  },
  {
   "cell_type": "markdown",
   "metadata": {},
   "source": [
    "Применим критерий и отформатируем p-value, округлив его до трёх знаков после запятой."
   ]
  },
  {
   "cell_type": "code",
   "execution_count": 30,
   "metadata": {},
   "outputs": [
    {
     "name": "stdout",
     "output_type": "stream",
     "text": [
      "p-значение:  0.017\n",
      "Относительное различие 0.138\n",
      "Отвергаем нулевую гипотезу: разница статистически значима\n"
     ]
    }
   ],
   "source": [
    "alpha = 0.05  # критический уровень статистической значимости\n",
    "\n",
    "results = st.mannwhitneyu(sampleA, sampleB)\n",
    "\n",
    "print('p-значение: ', \"{0:.3f}\".format(results.pvalue))\n",
    "\n",
    "print('Относительное различие', \"{0:.3f}\".format(sampleB.mean() / sampleA.mean() - 1))\n",
    "if results.pvalue < alpha:\n",
    "    print('Отвергаем нулевую гипотезу: разница статистически значима')\n",
    "else:\n",
    "    print(\n",
    "        'Не получилось отвергнуть нулевую гипотезу, вывод о различии сделать нельзя'\n",
    "    ) "
   ]
  },
  {
   "cell_type": "markdown",
   "metadata": {},
   "source": [
    "Первое число — p-value = 0.017 меньше 0.05. Значит, нулевую гипотезу о том, что статистически значимых различий в среднем числе заказов между группами нет, отвергаем. Относительный проигрыш группы А равен 13.8%, это статистически значимая разница."
   ]
  },
  {
   "cell_type": "markdown",
   "metadata": {},
   "source": [
    "#### Статистическая значимость различий в среднем чеке заказа между группами по «сырым» данным\n"
   ]
  },
  {
   "cell_type": "markdown",
   "metadata": {},
   "source": [
    "- Н0: Нет различий в среднем чеке между группами. \n",
    "- Н1: Есть различия в среднем чеке между группами. \n",
    "\n",
    "Чтобы рассчитать статистическую значимость различий в среднем чеке, передадим критерию mannwhitneyu() данные о выручке с заказов. \n",
    "А ещё найдём относительные различия в среднем чеке между группами."
   ]
  },
  {
   "cell_type": "code",
   "execution_count": 31,
   "metadata": {},
   "outputs": [
    {
     "name": "stdout",
     "output_type": "stream",
     "text": [
      "p-значение:  0.729\n",
      "Относительное различие 0.259\n",
      "Не получилось отвергнуть нулевую гипотезу, вывод о различии сделать нельзя\n"
     ]
    },
    {
     "data": {
      "text/plain": [
       "2         400\n",
       "7        1044\n",
       "8       13710\n",
       "10       4008\n",
       "12       7370\n",
       "        ...  \n",
       "1187      750\n",
       "1188      112\n",
       "1193     3190\n",
       "1194    10550\n",
       "1195      100\n",
       "Name: revenue, Length: 557, dtype: int64"
      ]
     },
     "execution_count": 31,
     "metadata": {},
     "output_type": "execute_result"
    }
   ],
   "source": [
    "results = st.mannwhitneyu(orders[orders['group']=='A']['revenue'], orders[orders['group']=='B']['revenue'])\n",
    "\n",
    "print('p-значение: ', \"{0:.3f}\".format(results.pvalue))\n",
    "\n",
    "print('Относительное различие', \"{0:.3f}\".format(orders[orders['group']=='B']['revenue'].mean()/orders[orders['group']=='A']['revenue'].mean()-1))\n",
    "if results.pvalue < alpha:\n",
    "    print('Отвергаем нулевую гипотезу: разница статистически значима')\n",
    "else:\n",
    "    print(\n",
    "        'Не получилось отвергнуть нулевую гипотезу, вывод о различии сделать нельзя'\n",
    "    ) \n",
    "    \n",
    "orders[orders['group']=='A']['revenue']"
   ]
  },
  {
   "cell_type": "markdown",
   "metadata": {},
   "source": [
    "P-value значительно больше 0.05. Значит, причин отвергать нулевую гипотезу и считать, что в среднем чеке есть различия, нет. То, что средний чек группы B на 26% выше среднего чека группы A значит, что в данных присутствуют аномальные значения, которые сильно влияют на точечную оценку, но не на статистический тест. А также то, что наблюдаемое различие в 26% не является статистически значимым, в том числе потому, что критерий Мана-Уитни устойчив к выбросам."
   ]
  },
  {
   "cell_type": "markdown",
   "metadata": {},
   "source": [
    "Раз теcт показал, что нет стат значимой разницы между группами - то каково бы различие чека не было, оно не будет являться стат. значимым (у нас тут выбросы дают большое различие чеков, но их всего несколько и на общее различие среднего чека по группам они не влияют)"
   ]
  },
  {
   "cell_type": "markdown",
   "metadata": {},
   "source": [
    "#### Статистическая значимость различий в среднем количестве заказов на посетителя между группами по «очищенным» данным\n"
   ]
  },
  {
   "cell_type": "markdown",
   "metadata": {},
   "source": [
    "Найденные в пунктах 3.2.4 и 3.3.4 95-й и 99-й перцентили количества заказов на одного пользователя равны 2 и 4 заказа на пользователя. А 95-й и 99-й перцентили средних чеков равны 28000 и 58233.2 рублям.\n",
    "\n",
    "Примем за аномальных пользователей тех, кто совершил больше 2 заказов или совершил заказ дороже 28 000 рублей. Так мы уберём 5% пользователей с наибольшим числом заказов и 5% пользователей с дорогими заказами. \n",
    "\n",
    "Узнаем, сколько всего аномальных пользователей"
   ]
  },
  {
   "cell_type": "code",
   "execution_count": 32,
   "metadata": {
    "scrolled": true
   },
   "outputs": [
    {
     "data": {
      "text/plain": [
       "1099    148427295\n",
       "18      199603092\n",
       "928     204675465\n",
       "23      237748145\n",
       "37      249864742\n",
       "Name: visitorId, dtype: int64"
      ]
     },
     "metadata": {},
     "output_type": "display_data"
    },
    {
     "name": "stdout",
     "output_type": "stream",
     "text": [
      "Всего 74 аномальных пользователя.\n"
     ]
    }
   ],
   "source": [
    "# срез по числу заказов\n",
    "usersWithManyOrders = pd.concat(\n",
    "    [\n",
    "        ordersByUsersA[ordersByUsersA['orders'] > perc_orders[1]]['visitorId'],\n",
    "        ordersByUsersB[ordersByUsersB['orders'] > perc_orders[1]]['visitorId'],\n",
    "    ],\n",
    "    axis=0,\n",
    ")\n",
    "# срез по стоимости\n",
    "usersWithExpensiveOrders = orders[orders['revenue'] > perc_rev[1]]['visitorId']\n",
    "abnormalUsers = (\n",
    "    pd.concat([usersWithManyOrders, usersWithExpensiveOrders], axis=0)\n",
    "    .drop_duplicates()\n",
    "    .sort_values()\n",
    ")\n",
    "\n",
    "display (abnormalUsers.head(5))\n",
    "print(f'Всего {abnormalUsers.shape[0]} аномальных пользователя.') "
   ]
  },
  {
   "cell_type": "markdown",
   "metadata": {},
   "source": [
    "Теперь подготовим выборки количества заказов по пользователям по группам теста:"
   ]
  },
  {
   "cell_type": "code",
   "execution_count": 33,
   "metadata": {},
   "outputs": [
    {
     "data": {
      "text/html": [
       "<div>\n",
       "<style scoped>\n",
       "    .dataframe tbody tr th:only-of-type {\n",
       "        vertical-align: middle;\n",
       "    }\n",
       "\n",
       "    .dataframe tbody tr th {\n",
       "        vertical-align: top;\n",
       "    }\n",
       "\n",
       "    .dataframe thead th {\n",
       "        text-align: right;\n",
       "    }\n",
       "</style>\n",
       "<table border=\"1\" class=\"dataframe\">\n",
       "  <thead>\n",
       "    <tr style=\"text-align: right;\">\n",
       "      <th></th>\n",
       "      <th>visitorId</th>\n",
       "      <th>orders</th>\n",
       "    </tr>\n",
       "  </thead>\n",
       "  <tbody>\n",
       "    <tr>\n",
       "      <th>0</th>\n",
       "      <td>5114589</td>\n",
       "      <td>1</td>\n",
       "    </tr>\n",
       "    <tr>\n",
       "      <th>1</th>\n",
       "      <td>6958315</td>\n",
       "      <td>1</td>\n",
       "    </tr>\n",
       "    <tr>\n",
       "      <th>2</th>\n",
       "      <td>8300375</td>\n",
       "      <td>1</td>\n",
       "    </tr>\n",
       "    <tr>\n",
       "      <th>3</th>\n",
       "      <td>39475350</td>\n",
       "      <td>1</td>\n",
       "    </tr>\n",
       "    <tr>\n",
       "      <th>4</th>\n",
       "      <td>47206413</td>\n",
       "      <td>1</td>\n",
       "    </tr>\n",
       "    <tr>\n",
       "      <th>...</th>\n",
       "      <td>...</td>\n",
       "      <td>...</td>\n",
       "    </tr>\n",
       "    <tr>\n",
       "      <th>581</th>\n",
       "      <td>4258103007</td>\n",
       "      <td>1</td>\n",
       "    </tr>\n",
       "    <tr>\n",
       "      <th>582</th>\n",
       "      <td>4266935830</td>\n",
       "      <td>1</td>\n",
       "    </tr>\n",
       "    <tr>\n",
       "      <th>583</th>\n",
       "      <td>4279090005</td>\n",
       "      <td>1</td>\n",
       "    </tr>\n",
       "    <tr>\n",
       "      <th>584</th>\n",
       "      <td>4281247801</td>\n",
       "      <td>1</td>\n",
       "    </tr>\n",
       "    <tr>\n",
       "      <th>585</th>\n",
       "      <td>4283872382</td>\n",
       "      <td>1</td>\n",
       "    </tr>\n",
       "  </tbody>\n",
       "</table>\n",
       "<p>586 rows × 2 columns</p>\n",
       "</div>"
      ],
      "text/plain": [
       "      visitorId  orders\n",
       "0       5114589       1\n",
       "1       6958315       1\n",
       "2       8300375       1\n",
       "3      39475350       1\n",
       "4      47206413       1\n",
       "..          ...     ...\n",
       "581  4258103007       1\n",
       "582  4266935830       1\n",
       "583  4279090005       1\n",
       "584  4281247801       1\n",
       "585  4283872382       1\n",
       "\n",
       "[586 rows x 2 columns]"
      ]
     },
     "execution_count": 33,
     "metadata": {},
     "output_type": "execute_result"
    }
   ],
   "source": [
    "sampleAFiltered = pd.concat(\n",
    "    [\n",
    "        ordersByUsersA[\n",
    "            np.logical_not(ordersByUsersA['visitorId'].isin(abnormalUsers))\n",
    "        ]['orders'],\n",
    "        pd.Series(\n",
    "            0,\n",
    "            index=np.arange(\n",
    "                data_crude['visitorsPerDateA'].sum() - len(ordersByUsersA['orders'])\n",
    "            ),\n",
    "            name='orders',\n",
    "        ),\n",
    "    ],\n",
    "    axis=0,\n",
    ")\n",
    "\n",
    "sampleBFiltered = pd.concat(\n",
    "    [\n",
    "        ordersByUsersB[\n",
    "            np.logical_not(ordersByUsersB['visitorId'].isin(abnormalUsers))\n",
    "        ]['orders'],\n",
    "        pd.Series(\n",
    "            0,\n",
    "            index=np.arange(\n",
    "                data_crude['visitorsPerDateB'].sum() - len(ordersByUsersB['orders'])\n",
    "            ),\n",
    "            name='orders',\n",
    "        ),\n",
    "    ],\n",
    "    axis=0,\n",
    ") \n",
    "ordersByUsersB"
   ]
  },
  {
   "cell_type": "markdown",
   "metadata": {},
   "source": [
    "Применим статистический критерий Манна-Уитни к полученным выборкам.\n",
    "\n",
    "- Н0: Нет различий в среднем количестве заказов между группами. \n",
    "- Н1: Есть различия в среднем между группами."
   ]
  },
  {
   "cell_type": "code",
   "execution_count": 34,
   "metadata": {
    "scrolled": true
   },
   "outputs": [
    {
     "name": "stdout",
     "output_type": "stream",
     "text": [
      "p-значение:  0.013\n",
      "Относительное различие 0.173\n",
      "Отвергаем нулевую гипотезу: разница статистически значима\n"
     ]
    }
   ],
   "source": [
    "results = st.mannwhitneyu(sampleAFiltered, sampleBFiltered)\n",
    "\n",
    "print('p-значение: ', \"{0:.3f}\".format(results.pvalue))\n",
    "\n",
    "print('Относительное различие', \"{0:.3f}\".format(sampleBFiltered.mean() / sampleAFiltered.mean() - 1))\n",
    "\n",
    "if results.pvalue < alpha:\n",
    "    print('Отвергаем нулевую гипотезу: разница статистически значима')\n",
    "else:\n",
    "    print(\n",
    "        'Не получилось отвергнуть нулевую гипотезу, вывод о различии сделать нельзя'\n",
    "    ) "
   ]
  },
  {
   "cell_type": "markdown",
   "metadata": {},
   "source": [
    "Результаты по среднему количеству заказов практически не изменились. Все так же отвергаем нулевую гипотезу - различия в среднем между группами А и В в 17.3% являются статистически значимыми."
   ]
  },
  {
   "cell_type": "markdown",
   "metadata": {},
   "source": [
    "#### Статистическая значимость различий в среднем чеке заказа между группами по «очищенным» данным\n"
   ]
  },
  {
   "cell_type": "markdown",
   "metadata": {},
   "source": [
    "- Н0: Нет различий в среднем чеке между группами. \n",
    "- Н1: Есть различия в среднем чеке между группами. "
   ]
  },
  {
   "cell_type": "code",
   "execution_count": 35,
   "metadata": {},
   "outputs": [
    {
     "name": "stdout",
     "output_type": "stream",
     "text": [
      "p-значение:  0.738\n",
      "Относительное различие -0.020\n",
      "Не получилось отвергнуть нулевую гипотезу, вывод о различии сделать нельзя\n"
     ]
    }
   ],
   "source": [
    "results = (st.mannwhitneyu(\n",
    "            orders[\n",
    "                np.logical_and(\n",
    "                    orders['group'] == 'A',\n",
    "                    np.logical_not(orders['visitorId'].isin(abnormalUsers)),\n",
    "                )\n",
    "            ]['revenue'],\n",
    "            orders[\n",
    "                np.logical_and(\n",
    "                    orders['group'] == 'B',\n",
    "                    np.logical_not(orders['visitorId'].isin(abnormalUsers)),\n",
    "                )\n",
    "            ]['revenue'],\n",
    "        )\n",
    "          )\n",
    "\n",
    "print('p-значение: ', \"{0:.3f}\".format(results.pvalue))\n",
    "\n",
    "print('Относительное различие', \"{0:.3f}\".format(orders[np.logical_and(orders['group'] == 'B', np.logical_not(orders['visitorId'].isin(abnormalUsers)),)]['revenue'].mean()/ orders[np.logical_and(\n",
    "                orders['group'] == 'A',\n",
    "                np.logical_not(orders['visitorId'].isin(abnormalUsers)),\n",
    "            )\n",
    "        ]['revenue'].mean()\n",
    "        - 1\n",
    "    )\n",
    "     )\n",
    "\n",
    "if results.pvalue < alpha:\n",
    "    print('Отвергаем нулевую гипотезу: разница статистически значима')\n",
    "else:\n",
    "    print(\n",
    "        'Не получилось отвергнуть нулевую гипотезу, вывод о различии сделать нельзя'\n",
    "    ) \n",
    "    "
   ]
  },
  {
   "cell_type": "markdown",
   "metadata": {},
   "source": [
    "Стат.тест по очищенным данным показал примерно то же - мы не можем отвергнуть нулевую гипотезу. Но относительное различие значений по выборкам изменилось - с 26% в пользу группы В на 3% в пользу группы А, что не противоречит результатам стат.теста. Такое значение различия не является статистически значимым, как и 26% в пользу группы В."
   ]
  },
  {
   "cell_type": "markdown",
   "metadata": {},
   "source": [
    "### Вывод - Остановить тест, зафиксировать победу группы В.\n"
   ]
  },
  {
   "cell_type": "markdown",
   "metadata": {},
   "source": [
    "- В целом графики отношений уже установились, и уже можно делать выводы по тесту. \n",
    "- График относительного различия для среднего чека обладает небольшим отрицательным трендом, особенно во второй половине графика. Это значит, что влияние теста для группы В на средний чек нулевое или отрицательное.\n",
    "-  График относительного различия для среднего числа заказов на пользователя показывает рост числа заказов в среднем на 15% для группы В. \n",
    "- Есть статистически значимое различие по среднему количеству заказов между группами как по «сырым», так и по очищенным данным. Число заказов от пользователей группы В на 17.3% больше, чем у пользователей группы А;\n",
    "- Нет статистически значимого различия по среднему чеку между группами ни по «сырым» (+26%), ни по данным после фильтрации аномалий(-3%). Проведенный тест значительно не повлиял на средний чек посетителя ни в одной из групп.\n",
    "\n",
    "В тесте победила группа В - при неизменившемся среднем чеке на пользователя, выявлен рост числа заказов на 17.3% по сравнению с группой А."
   ]
  }
 ],
 "metadata": {
  "ExecuteTimeLog": [
   {
    "duration": 5,
    "start_time": "2023-06-07T14:00:21.082Z"
   },
   {
    "duration": 75,
    "start_time": "2023-06-07T14:01:27.882Z"
   },
   {
    "duration": 43,
    "start_time": "2023-06-07T14:02:03.058Z"
   },
   {
    "duration": 13,
    "start_time": "2023-06-07T14:02:07.838Z"
   },
   {
    "duration": 12,
    "start_time": "2023-06-07T14:02:16.407Z"
   },
   {
    "duration": 7,
    "start_time": "2023-06-07T14:02:27.018Z"
   },
   {
    "duration": 5,
    "start_time": "2023-06-07T14:04:35.474Z"
   },
   {
    "duration": 24,
    "start_time": "2023-06-07T14:04:36.138Z"
   },
   {
    "duration": 7,
    "start_time": "2023-06-07T14:04:36.522Z"
   },
   {
    "duration": 132,
    "start_time": "2023-06-07T14:09:58.267Z"
   },
   {
    "duration": 1068,
    "start_time": "2023-06-07T20:38:48.203Z"
   },
   {
    "duration": 92,
    "start_time": "2023-06-07T20:39:09.802Z"
   },
   {
    "duration": 88,
    "start_time": "2023-06-07T20:39:13.986Z"
   },
   {
    "duration": 15,
    "start_time": "2023-06-07T20:39:14.349Z"
   },
   {
    "duration": 15,
    "start_time": "2023-06-07T20:39:14.892Z"
   },
   {
    "duration": 6,
    "start_time": "2023-06-07T20:48:09.444Z"
   },
   {
    "duration": 10,
    "start_time": "2023-06-07T20:48:23.983Z"
   },
   {
    "duration": 0,
    "start_time": "2023-06-07T20:50:41.511Z"
   },
   {
    "duration": 647,
    "start_time": "2023-06-07T20:51:50.535Z"
   },
   {
    "duration": 27,
    "start_time": "2023-06-07T20:51:51.184Z"
   },
   {
    "duration": 46,
    "start_time": "2023-06-07T20:51:51.213Z"
   },
   {
    "duration": 12,
    "start_time": "2023-06-07T20:51:51.262Z"
   },
   {
    "duration": 11,
    "start_time": "2023-06-07T20:51:51.275Z"
   },
   {
    "duration": 92,
    "start_time": "2023-06-07T21:00:48.241Z"
   },
   {
    "duration": 8,
    "start_time": "2023-06-07T21:00:53.373Z"
   },
   {
    "duration": 9,
    "start_time": "2023-06-07T21:01:14.159Z"
   },
   {
    "duration": 8,
    "start_time": "2023-06-07T21:37:17.953Z"
   },
   {
    "duration": 192,
    "start_time": "2023-06-07T21:37:24.043Z"
   },
   {
    "duration": 27,
    "start_time": "2023-06-07T21:37:51.610Z"
   },
   {
    "duration": 24,
    "start_time": "2023-06-07T21:37:58.034Z"
   },
   {
    "duration": 21,
    "start_time": "2023-06-07T21:38:05.542Z"
   },
   {
    "duration": 3,
    "start_time": "2023-06-07T21:40:03.594Z"
   },
   {
    "duration": 13,
    "start_time": "2023-06-07T21:40:35.460Z"
   },
   {
    "duration": 4,
    "start_time": "2023-06-07T21:40:48.573Z"
   },
   {
    "duration": 17,
    "start_time": "2023-06-07T21:40:49.044Z"
   },
   {
    "duration": 35,
    "start_time": "2023-06-07T21:43:28.410Z"
   },
   {
    "duration": 30,
    "start_time": "2023-06-07T21:43:36.202Z"
   },
   {
    "duration": 17,
    "start_time": "2023-06-07T21:43:40.778Z"
   },
   {
    "duration": 3,
    "start_time": "2023-06-07T21:45:50.374Z"
   },
   {
    "duration": 5,
    "start_time": "2023-06-07T21:46:10.146Z"
   },
   {
    "duration": 22,
    "start_time": "2023-06-07T21:46:26.046Z"
   },
   {
    "duration": 7,
    "start_time": "2023-06-07T21:46:31.802Z"
   },
   {
    "duration": 23,
    "start_time": "2023-06-07T21:46:32.198Z"
   },
   {
    "duration": 10,
    "start_time": "2023-06-07T21:51:13.810Z"
   },
   {
    "duration": 17,
    "start_time": "2023-06-07T21:51:14.250Z"
   },
   {
    "duration": 22,
    "start_time": "2023-06-07T21:51:27.809Z"
   },
   {
    "duration": 19,
    "start_time": "2023-06-07T21:51:37.853Z"
   },
   {
    "duration": 597,
    "start_time": "2023-06-07T21:53:45.944Z"
   },
   {
    "duration": 27,
    "start_time": "2023-06-07T21:53:46.549Z"
   },
   {
    "duration": 11,
    "start_time": "2023-06-07T21:53:46.578Z"
   },
   {
    "duration": 10,
    "start_time": "2023-06-07T21:53:46.590Z"
   },
   {
    "duration": 12,
    "start_time": "2023-06-07T21:53:46.602Z"
   },
   {
    "duration": 22,
    "start_time": "2023-06-07T21:53:46.615Z"
   },
   {
    "duration": 60,
    "start_time": "2023-06-07T21:53:46.638Z"
   },
   {
    "duration": 11,
    "start_time": "2023-06-07T21:53:46.699Z"
   },
   {
    "duration": 3,
    "start_time": "2023-06-07T21:53:46.711Z"
   },
   {
    "duration": 36,
    "start_time": "2023-06-07T21:53:46.717Z"
   },
   {
    "duration": 20,
    "start_time": "2023-06-07T21:53:46.755Z"
   },
   {
    "duration": 8,
    "start_time": "2023-06-07T21:58:20.698Z"
   },
   {
    "duration": 15,
    "start_time": "2023-06-07T21:58:35.414Z"
   },
   {
    "duration": 26,
    "start_time": "2023-06-07T21:58:36.831Z"
   },
   {
    "duration": 585,
    "start_time": "2023-06-07T22:05:48.134Z"
   },
   {
    "duration": 27,
    "start_time": "2023-06-07T22:05:48.721Z"
   },
   {
    "duration": 11,
    "start_time": "2023-06-07T22:05:48.749Z"
   },
   {
    "duration": 11,
    "start_time": "2023-06-07T22:05:48.763Z"
   },
   {
    "duration": 12,
    "start_time": "2023-06-07T22:05:48.776Z"
   },
   {
    "duration": 11,
    "start_time": "2023-06-07T22:05:48.790Z"
   },
   {
    "duration": 53,
    "start_time": "2023-06-07T22:05:48.802Z"
   },
   {
    "duration": 11,
    "start_time": "2023-06-07T22:05:48.857Z"
   },
   {
    "duration": 4,
    "start_time": "2023-06-07T22:05:48.869Z"
   },
   {
    "duration": 298,
    "start_time": "2023-06-07T22:05:48.875Z"
   },
   {
    "duration": 0,
    "start_time": "2023-06-07T22:05:49.175Z"
   },
   {
    "duration": 0,
    "start_time": "2023-06-07T22:05:49.176Z"
   },
   {
    "duration": 7,
    "start_time": "2023-06-07T22:06:30.989Z"
   },
   {
    "duration": 23,
    "start_time": "2023-06-07T22:06:31.817Z"
   },
   {
    "duration": 235,
    "start_time": "2023-06-07T22:07:24.438Z"
   },
   {
    "duration": 912,
    "start_time": "2023-06-07T22:07:37.849Z"
   },
   {
    "duration": 27,
    "start_time": "2023-06-07T22:07:38.763Z"
   },
   {
    "duration": 11,
    "start_time": "2023-06-07T22:07:38.792Z"
   },
   {
    "duration": 15,
    "start_time": "2023-06-07T22:07:38.806Z"
   },
   {
    "duration": 13,
    "start_time": "2023-06-07T22:07:38.823Z"
   },
   {
    "duration": 10,
    "start_time": "2023-06-07T22:07:38.838Z"
   },
   {
    "duration": 54,
    "start_time": "2023-06-07T22:07:38.849Z"
   },
   {
    "duration": 11,
    "start_time": "2023-06-07T22:07:38.905Z"
   },
   {
    "duration": 6,
    "start_time": "2023-06-07T22:07:38.918Z"
   },
   {
    "duration": 443,
    "start_time": "2023-06-07T22:07:38.926Z"
   },
   {
    "duration": 0,
    "start_time": "2023-06-07T22:07:39.370Z"
   },
   {
    "duration": 0,
    "start_time": "2023-06-07T22:07:39.371Z"
   },
   {
    "duration": 8,
    "start_time": "2023-06-07T22:08:50.946Z"
   },
   {
    "duration": 19,
    "start_time": "2023-06-07T22:08:51.833Z"
   },
   {
    "duration": 277,
    "start_time": "2023-06-07T22:09:09.065Z"
   },
   {
    "duration": 615,
    "start_time": "2023-06-07T22:09:38.890Z"
   },
   {
    "duration": 27,
    "start_time": "2023-06-07T22:09:39.506Z"
   },
   {
    "duration": 12,
    "start_time": "2023-06-07T22:09:39.535Z"
   },
   {
    "duration": 24,
    "start_time": "2023-06-07T22:09:39.549Z"
   },
   {
    "duration": 24,
    "start_time": "2023-06-07T22:09:39.575Z"
   },
   {
    "duration": 27,
    "start_time": "2023-06-07T22:09:39.600Z"
   },
   {
    "duration": 86,
    "start_time": "2023-06-07T22:09:39.628Z"
   },
   {
    "duration": 11,
    "start_time": "2023-06-07T22:09:39.715Z"
   },
   {
    "duration": 2,
    "start_time": "2023-06-07T22:09:39.728Z"
   },
   {
    "duration": 6,
    "start_time": "2023-06-07T22:09:39.732Z"
   },
   {
    "duration": 28,
    "start_time": "2023-06-07T22:09:39.740Z"
   },
   {
    "duration": 292,
    "start_time": "2023-06-07T22:09:39.770Z"
   },
   {
    "duration": 729,
    "start_time": "2023-06-07T22:14:12.022Z"
   },
   {
    "duration": 641,
    "start_time": "2023-06-07T22:14:34.046Z"
   },
   {
    "duration": 28,
    "start_time": "2023-06-07T22:14:34.689Z"
   },
   {
    "duration": 13,
    "start_time": "2023-06-07T22:14:34.719Z"
   },
   {
    "duration": 12,
    "start_time": "2023-06-07T22:14:34.734Z"
   },
   {
    "duration": 17,
    "start_time": "2023-06-07T22:14:34.748Z"
   },
   {
    "duration": 12,
    "start_time": "2023-06-07T22:14:34.766Z"
   },
   {
    "duration": 56,
    "start_time": "2023-06-07T22:14:34.779Z"
   },
   {
    "duration": 13,
    "start_time": "2023-06-07T22:14:34.837Z"
   },
   {
    "duration": 3,
    "start_time": "2023-06-07T22:14:34.851Z"
   },
   {
    "duration": 4,
    "start_time": "2023-06-07T22:14:34.856Z"
   },
   {
    "duration": 22,
    "start_time": "2023-06-07T22:14:34.861Z"
   },
   {
    "duration": 627,
    "start_time": "2023-06-07T22:14:34.884Z"
   },
   {
    "duration": 0,
    "start_time": "2023-06-07T22:14:35.513Z"
   },
   {
    "duration": 58,
    "start_time": "2023-06-07T22:16:20.933Z"
   },
   {
    "duration": 13,
    "start_time": "2023-06-07T22:16:39.501Z"
   },
   {
    "duration": 20,
    "start_time": "2023-06-07T22:16:55.061Z"
   },
   {
    "duration": 775,
    "start_time": "2023-06-07T22:18:14.709Z"
   },
   {
    "duration": 31,
    "start_time": "2023-06-07T22:18:15.486Z"
   },
   {
    "duration": 18,
    "start_time": "2023-06-07T22:18:15.520Z"
   },
   {
    "duration": 13,
    "start_time": "2023-06-07T22:18:15.540Z"
   },
   {
    "duration": 18,
    "start_time": "2023-06-07T22:18:15.554Z"
   },
   {
    "duration": 11,
    "start_time": "2023-06-07T22:18:15.574Z"
   },
   {
    "duration": 51,
    "start_time": "2023-06-07T22:18:15.586Z"
   },
   {
    "duration": 14,
    "start_time": "2023-06-07T22:18:15.639Z"
   },
   {
    "duration": 22,
    "start_time": "2023-06-07T22:18:15.655Z"
   },
   {
    "duration": 13,
    "start_time": "2023-06-07T22:18:15.680Z"
   },
   {
    "duration": 102,
    "start_time": "2023-06-07T22:18:15.694Z"
   },
   {
    "duration": 768,
    "start_time": "2023-06-07T22:18:47.345Z"
   },
   {
    "duration": 223,
    "start_time": "2023-06-07T22:19:43.665Z"
   },
   {
    "duration": 5,
    "start_time": "2023-06-07T22:21:53.325Z"
   },
   {
    "duration": 12,
    "start_time": "2023-06-07T22:22:00.881Z"
   },
   {
    "duration": 21,
    "start_time": "2023-06-07T22:22:53.898Z"
   },
   {
    "duration": 20,
    "start_time": "2023-06-07T22:23:37.205Z"
   },
   {
    "duration": 149,
    "start_time": "2023-06-07T22:23:43.929Z"
   },
   {
    "duration": 171,
    "start_time": "2023-06-07T22:26:48.085Z"
   },
   {
    "duration": 44,
    "start_time": "2023-06-07T22:27:40.190Z"
   },
   {
    "duration": 47,
    "start_time": "2023-06-07T22:28:23.077Z"
   },
   {
    "duration": 109,
    "start_time": "2023-06-07T22:28:31.457Z"
   },
   {
    "duration": 25,
    "start_time": "2023-06-07T22:29:55.805Z"
   },
   {
    "duration": 482,
    "start_time": "2023-06-07T22:31:54.806Z"
   },
   {
    "duration": 230,
    "start_time": "2023-06-07T22:32:02.230Z"
   },
   {
    "duration": 248,
    "start_time": "2023-06-07T22:32:14.058Z"
   },
   {
    "duration": 219,
    "start_time": "2023-06-07T22:33:33.238Z"
   },
   {
    "duration": 302,
    "start_time": "2023-06-07T22:35:28.207Z"
   },
   {
    "duration": 640,
    "start_time": "2023-06-07T22:35:37.506Z"
   },
   {
    "duration": 28,
    "start_time": "2023-06-07T22:35:38.148Z"
   },
   {
    "duration": 11,
    "start_time": "2023-06-07T22:35:38.178Z"
   },
   {
    "duration": 12,
    "start_time": "2023-06-07T22:35:38.192Z"
   },
   {
    "duration": 13,
    "start_time": "2023-06-07T22:35:38.205Z"
   },
   {
    "duration": 10,
    "start_time": "2023-06-07T22:35:38.220Z"
   },
   {
    "duration": 57,
    "start_time": "2023-06-07T22:35:38.231Z"
   },
   {
    "duration": 13,
    "start_time": "2023-06-07T22:35:38.290Z"
   },
   {
    "duration": 22,
    "start_time": "2023-06-07T22:35:38.305Z"
   },
   {
    "duration": 532,
    "start_time": "2023-06-07T22:35:38.330Z"
   },
   {
    "duration": 265,
    "start_time": "2023-06-07T22:35:38.864Z"
   },
   {
    "duration": 216,
    "start_time": "2023-06-07T22:35:48.766Z"
   },
   {
    "duration": 202,
    "start_time": "2023-06-07T22:36:17.454Z"
   },
   {
    "duration": 253,
    "start_time": "2023-06-07T22:40:34.637Z"
   },
   {
    "duration": 219,
    "start_time": "2023-06-07T22:40:54.011Z"
   },
   {
    "duration": 148,
    "start_time": "2023-06-07T22:42:12.726Z"
   },
   {
    "duration": 238,
    "start_time": "2023-06-07T22:43:57.637Z"
   },
   {
    "duration": 237,
    "start_time": "2023-06-07T22:45:10.642Z"
   },
   {
    "duration": 246,
    "start_time": "2023-06-07T22:45:16.050Z"
   },
   {
    "duration": 280,
    "start_time": "2023-06-07T22:47:01.953Z"
   },
   {
    "duration": 74,
    "start_time": "2023-06-07T23:11:14.737Z"
   },
   {
    "duration": 173,
    "start_time": "2023-06-07T23:23:07.037Z"
   },
   {
    "duration": 228,
    "start_time": "2023-06-07T23:26:15.306Z"
   },
   {
    "duration": 229,
    "start_time": "2023-06-07T23:26:49.217Z"
   },
   {
    "duration": 242,
    "start_time": "2023-06-07T23:26:58.060Z"
   },
   {
    "duration": 261,
    "start_time": "2023-06-07T23:27:12.058Z"
   },
   {
    "duration": 300,
    "start_time": "2023-06-07T23:32:40.389Z"
   },
   {
    "duration": 301,
    "start_time": "2023-06-07T23:33:20.989Z"
   },
   {
    "duration": 8,
    "start_time": "2023-06-07T23:48:47.921Z"
   },
   {
    "duration": 12,
    "start_time": "2023-06-07T23:49:09.504Z"
   },
   {
    "duration": 11,
    "start_time": "2023-06-07T23:50:09.429Z"
   },
   {
    "duration": 11,
    "start_time": "2023-06-07T23:50:30.197Z"
   },
   {
    "duration": 14,
    "start_time": "2023-06-07T23:51:08.101Z"
   },
   {
    "duration": 111,
    "start_time": "2023-06-07T23:51:12.881Z"
   },
   {
    "duration": 96,
    "start_time": "2023-06-07T23:51:20.225Z"
   },
   {
    "duration": 13,
    "start_time": "2023-06-07T23:51:51.428Z"
   },
   {
    "duration": 12,
    "start_time": "2023-06-07T23:52:08.049Z"
   },
   {
    "duration": 110,
    "start_time": "2023-06-07T23:52:25.733Z"
   },
   {
    "duration": 109,
    "start_time": "2023-06-07T23:52:46.348Z"
   },
   {
    "duration": 4,
    "start_time": "2023-06-07T23:54:07.277Z"
   },
   {
    "duration": 108,
    "start_time": "2023-06-07T23:55:23.541Z"
   },
   {
    "duration": 119,
    "start_time": "2023-06-07T23:55:28.027Z"
   },
   {
    "duration": 3,
    "start_time": "2023-06-07T23:56:54.289Z"
   },
   {
    "duration": 5,
    "start_time": "2023-06-08T00:06:13.196Z"
   },
   {
    "duration": 123,
    "start_time": "2023-06-08T00:08:02.245Z"
   },
   {
    "duration": 8,
    "start_time": "2023-06-08T00:08:16.417Z"
   },
   {
    "duration": 51,
    "start_time": "2023-06-08T07:44:03.122Z"
   },
   {
    "duration": 744,
    "start_time": "2023-06-08T07:44:24.439Z"
   },
   {
    "duration": 74,
    "start_time": "2023-06-08T07:44:25.185Z"
   },
   {
    "duration": 12,
    "start_time": "2023-06-08T07:44:25.261Z"
   },
   {
    "duration": 25,
    "start_time": "2023-06-08T07:44:25.275Z"
   },
   {
    "duration": 14,
    "start_time": "2023-06-08T07:44:25.302Z"
   },
   {
    "duration": 11,
    "start_time": "2023-06-08T07:44:25.317Z"
   },
   {
    "duration": 142,
    "start_time": "2023-06-08T07:44:25.330Z"
   },
   {
    "duration": 24,
    "start_time": "2023-06-08T07:44:25.474Z"
   },
   {
    "duration": 23,
    "start_time": "2023-06-08T07:44:25.500Z"
   },
   {
    "duration": 1285,
    "start_time": "2023-06-08T07:44:25.526Z"
   },
   {
    "duration": 713,
    "start_time": "2023-06-08T07:44:26.812Z"
   },
   {
    "duration": 341,
    "start_time": "2023-06-08T07:44:27.526Z"
   },
   {
    "duration": 353,
    "start_time": "2023-06-08T07:44:27.868Z"
   },
   {
    "duration": 279,
    "start_time": "2023-06-08T07:44:28.222Z"
   },
   {
    "duration": 301,
    "start_time": "2023-06-08T07:44:28.503Z"
   },
   {
    "duration": 109,
    "start_time": "2023-06-08T07:44:28.806Z"
   },
   {
    "duration": 3,
    "start_time": "2023-06-08T07:44:28.917Z"
   },
   {
    "duration": 129,
    "start_time": "2023-06-08T07:44:28.921Z"
   },
   {
    "duration": 3,
    "start_time": "2023-06-08T07:44:29.052Z"
   },
   {
    "duration": 218,
    "start_time": "2023-06-08T07:44:29.056Z"
   },
   {
    "duration": 184,
    "start_time": "2023-06-08T07:44:45.232Z"
   },
   {
    "duration": 116,
    "start_time": "2023-06-08T08:34:25.096Z"
   },
   {
    "duration": 131,
    "start_time": "2023-06-08T08:35:02.450Z"
   },
   {
    "duration": 80,
    "start_time": "2023-06-08T08:41:46.679Z"
   },
   {
    "duration": 379,
    "start_time": "2023-06-08T08:42:16.896Z"
   },
   {
    "duration": 43,
    "start_time": "2023-06-08T08:42:27.463Z"
   },
   {
    "duration": 130,
    "start_time": "2023-06-08T08:42:32.848Z"
   },
   {
    "duration": 129,
    "start_time": "2023-06-08T08:43:29.708Z"
   },
   {
    "duration": 21,
    "start_time": "2023-06-08T08:43:32.931Z"
   },
   {
    "duration": 25,
    "start_time": "2023-06-08T08:52:02.997Z"
   },
   {
    "duration": 975,
    "start_time": "2023-06-08T08:53:06.249Z"
   },
   {
    "duration": 27,
    "start_time": "2023-06-08T08:53:07.226Z"
   },
   {
    "duration": 12,
    "start_time": "2023-06-08T08:53:07.255Z"
   },
   {
    "duration": 16,
    "start_time": "2023-06-08T08:53:07.269Z"
   },
   {
    "duration": 15,
    "start_time": "2023-06-08T08:53:07.286Z"
   },
   {
    "duration": 11,
    "start_time": "2023-06-08T08:53:07.302Z"
   },
   {
    "duration": 52,
    "start_time": "2023-06-08T08:53:07.315Z"
   },
   {
    "duration": 14,
    "start_time": "2023-06-08T08:53:07.369Z"
   },
   {
    "duration": 38,
    "start_time": "2023-06-08T08:53:07.384Z"
   },
   {
    "duration": 533,
    "start_time": "2023-06-08T08:53:07.424Z"
   },
   {
    "duration": 275,
    "start_time": "2023-06-08T08:53:07.958Z"
   },
   {
    "duration": 212,
    "start_time": "2023-06-08T08:53:08.235Z"
   },
   {
    "duration": 300,
    "start_time": "2023-06-08T08:53:08.449Z"
   },
   {
    "duration": 218,
    "start_time": "2023-06-08T08:53:08.750Z"
   },
   {
    "duration": 320,
    "start_time": "2023-06-08T08:53:08.969Z"
   },
   {
    "duration": 107,
    "start_time": "2023-06-08T08:53:09.291Z"
   },
   {
    "duration": 4,
    "start_time": "2023-06-08T08:53:09.399Z"
   },
   {
    "duration": 116,
    "start_time": "2023-06-08T08:53:09.404Z"
   },
   {
    "duration": 3,
    "start_time": "2023-06-08T08:53:09.522Z"
   },
   {
    "duration": 209,
    "start_time": "2023-06-08T08:53:09.527Z"
   },
   {
    "duration": 128,
    "start_time": "2023-06-08T08:53:09.737Z"
   },
   {
    "duration": 104,
    "start_time": "2023-06-08T08:53:09.867Z"
   },
   {
    "duration": 38,
    "start_time": "2023-06-08T08:53:29.056Z"
   },
   {
    "duration": 39,
    "start_time": "2023-06-08T08:54:54.735Z"
   },
   {
    "duration": 35,
    "start_time": "2023-06-08T08:55:33.684Z"
   },
   {
    "duration": 27,
    "start_time": "2023-06-08T08:56:00.396Z"
   },
   {
    "duration": 20,
    "start_time": "2023-06-08T08:57:55.817Z"
   },
   {
    "duration": 11,
    "start_time": "2023-06-08T09:27:40.813Z"
   },
   {
    "duration": 12,
    "start_time": "2023-06-08T09:27:50.696Z"
   },
   {
    "duration": 5,
    "start_time": "2023-06-08T09:40:42.403Z"
   },
   {
    "duration": 4,
    "start_time": "2023-06-08T09:41:16.599Z"
   },
   {
    "duration": 6,
    "start_time": "2023-06-08T09:41:21.325Z"
   },
   {
    "duration": 1556,
    "start_time": "2023-06-08T09:44:37.472Z"
   },
   {
    "duration": 1335,
    "start_time": "2023-06-08T09:45:00.304Z"
   },
   {
    "duration": 2095,
    "start_time": "2023-06-08T09:45:08.051Z"
   },
   {
    "duration": 1066,
    "start_time": "2023-06-08T09:49:04.601Z"
   },
   {
    "duration": 37,
    "start_time": "2023-06-08T09:49:05.669Z"
   },
   {
    "duration": 12,
    "start_time": "2023-06-08T09:49:05.708Z"
   },
   {
    "duration": 29,
    "start_time": "2023-06-08T09:49:05.722Z"
   },
   {
    "duration": 63,
    "start_time": "2023-06-08T09:49:05.754Z"
   },
   {
    "duration": 12,
    "start_time": "2023-06-08T09:49:05.818Z"
   },
   {
    "duration": 141,
    "start_time": "2023-06-08T09:49:05.832Z"
   },
   {
    "duration": 33,
    "start_time": "2023-06-08T09:49:05.975Z"
   },
   {
    "duration": 37,
    "start_time": "2023-06-08T09:49:06.010Z"
   },
   {
    "duration": 654,
    "start_time": "2023-06-08T09:49:06.049Z"
   },
   {
    "duration": 304,
    "start_time": "2023-06-08T09:49:06.705Z"
   },
   {
    "duration": 240,
    "start_time": "2023-06-08T09:49:07.011Z"
   },
   {
    "duration": 358,
    "start_time": "2023-06-08T09:49:07.252Z"
   },
   {
    "duration": 257,
    "start_time": "2023-06-08T09:49:07.613Z"
   },
   {
    "duration": 352,
    "start_time": "2023-06-08T09:49:07.871Z"
   },
   {
    "duration": 133,
    "start_time": "2023-06-08T09:49:08.225Z"
   },
   {
    "duration": 5,
    "start_time": "2023-06-08T09:49:08.359Z"
   },
   {
    "duration": 161,
    "start_time": "2023-06-08T09:49:08.366Z"
   },
   {
    "duration": 5,
    "start_time": "2023-06-08T09:49:08.530Z"
   },
   {
    "duration": 231,
    "start_time": "2023-06-08T09:49:08.537Z"
   },
   {
    "duration": 161,
    "start_time": "2023-06-08T09:49:08.770Z"
   },
   {
    "duration": 22,
    "start_time": "2023-06-08T09:49:08.932Z"
   },
   {
    "duration": 34,
    "start_time": "2023-06-08T09:49:08.956Z"
   },
   {
    "duration": 1244,
    "start_time": "2023-06-08T09:49:08.998Z"
   },
   {
    "duration": 1960,
    "start_time": "2023-06-08T09:50:59.746Z"
   },
   {
    "duration": 1114,
    "start_time": "2023-06-08T09:51:12.807Z"
   },
   {
    "duration": 28,
    "start_time": "2023-06-08T09:51:13.924Z"
   },
   {
    "duration": 14,
    "start_time": "2023-06-08T09:51:13.955Z"
   },
   {
    "duration": 30,
    "start_time": "2023-06-08T09:51:13.972Z"
   },
   {
    "duration": 22,
    "start_time": "2023-06-08T09:51:14.005Z"
   },
   {
    "duration": 18,
    "start_time": "2023-06-08T09:51:14.030Z"
   },
   {
    "duration": 75,
    "start_time": "2023-06-08T09:51:14.050Z"
   },
   {
    "duration": 12,
    "start_time": "2023-06-08T09:51:14.126Z"
   },
   {
    "duration": 20,
    "start_time": "2023-06-08T09:51:14.140Z"
   },
   {
    "duration": 610,
    "start_time": "2023-06-08T09:51:14.162Z"
   },
   {
    "duration": 307,
    "start_time": "2023-06-08T09:51:14.774Z"
   },
   {
    "duration": 226,
    "start_time": "2023-06-08T09:51:15.083Z"
   },
   {
    "duration": 325,
    "start_time": "2023-06-08T09:51:15.311Z"
   },
   {
    "duration": 254,
    "start_time": "2023-06-08T09:51:15.638Z"
   },
   {
    "duration": 335,
    "start_time": "2023-06-08T09:51:15.894Z"
   },
   {
    "duration": 146,
    "start_time": "2023-06-08T09:51:16.231Z"
   },
   {
    "duration": 24,
    "start_time": "2023-06-08T09:51:16.379Z"
   },
   {
    "duration": 152,
    "start_time": "2023-06-08T09:51:16.404Z"
   },
   {
    "duration": 5,
    "start_time": "2023-06-08T09:51:16.558Z"
   },
   {
    "duration": 215,
    "start_time": "2023-06-08T09:51:16.564Z"
   },
   {
    "duration": 151,
    "start_time": "2023-06-08T09:51:16.781Z"
   },
   {
    "duration": 23,
    "start_time": "2023-06-08T09:51:16.933Z"
   },
   {
    "duration": 15,
    "start_time": "2023-06-08T09:51:16.957Z"
   },
   {
    "duration": 11,
    "start_time": "2023-06-08T09:51:16.991Z"
   },
   {
    "duration": 9,
    "start_time": "2023-06-08T09:52:00.318Z"
   },
   {
    "duration": 11,
    "start_time": "2023-06-08T09:54:09.417Z"
   },
   {
    "duration": 11,
    "start_time": "2023-06-08T09:54:18.445Z"
   },
   {
    "duration": 164,
    "start_time": "2023-06-08T09:55:50.646Z"
   },
   {
    "duration": 8,
    "start_time": "2023-06-08T09:56:36.553Z"
   },
   {
    "duration": 37,
    "start_time": "2023-06-08T09:57:29.630Z"
   },
   {
    "duration": 15,
    "start_time": "2023-06-08T10:02:51.639Z"
   },
   {
    "duration": 3291,
    "start_time": "2023-06-08T10:02:59.882Z"
   },
   {
    "duration": 19,
    "start_time": "2023-06-08T10:03:26.352Z"
   },
   {
    "duration": 1073,
    "start_time": "2023-06-08T10:46:01.241Z"
   },
   {
    "duration": 30,
    "start_time": "2023-06-08T10:46:02.316Z"
   },
   {
    "duration": 10,
    "start_time": "2023-06-08T10:46:02.347Z"
   },
   {
    "duration": 20,
    "start_time": "2023-06-08T10:46:02.359Z"
   },
   {
    "duration": 55,
    "start_time": "2023-06-08T10:46:02.380Z"
   },
   {
    "duration": 11,
    "start_time": "2023-06-08T10:46:02.437Z"
   },
   {
    "duration": 78,
    "start_time": "2023-06-08T10:46:02.450Z"
   },
   {
    "duration": 10,
    "start_time": "2023-06-08T10:46:02.530Z"
   },
   {
    "duration": 21,
    "start_time": "2023-06-08T10:46:02.542Z"
   },
   {
    "duration": 555,
    "start_time": "2023-06-08T10:46:02.566Z"
   },
   {
    "duration": 307,
    "start_time": "2023-06-08T10:46:03.122Z"
   },
   {
    "duration": 236,
    "start_time": "2023-06-08T10:46:03.431Z"
   },
   {
    "duration": 359,
    "start_time": "2023-06-08T10:46:03.669Z"
   },
   {
    "duration": 124,
    "start_time": "2023-06-08T10:46:04.030Z"
   },
   {
    "duration": 6,
    "start_time": "2023-06-08T10:46:04.155Z"
   },
   {
    "duration": 313,
    "start_time": "2023-06-08T10:46:04.163Z"
   },
   {
    "duration": 323,
    "start_time": "2023-06-08T10:46:04.478Z"
   },
   {
    "duration": 132,
    "start_time": "2023-06-08T10:46:04.802Z"
   },
   {
    "duration": 5,
    "start_time": "2023-06-08T10:46:04.936Z"
   },
   {
    "duration": 206,
    "start_time": "2023-06-08T10:46:04.942Z"
   },
   {
    "duration": 170,
    "start_time": "2023-06-08T10:46:05.149Z"
   },
   {
    "duration": 21,
    "start_time": "2023-06-08T10:46:05.320Z"
   },
   {
    "duration": 10,
    "start_time": "2023-06-08T10:46:05.343Z"
   },
   {
    "duration": 26,
    "start_time": "2023-06-08T10:46:05.354Z"
   },
   {
    "duration": 56,
    "start_time": "2023-06-08T10:46:05.381Z"
   },
   {
    "duration": 96,
    "start_time": "2023-06-08T10:46:05.439Z"
   },
   {
    "duration": 16,
    "start_time": "2023-06-08T10:46:05.537Z"
   },
   {
    "duration": 118,
    "start_time": "2023-06-08T10:52:50.007Z"
   },
   {
    "duration": 191,
    "start_time": "2023-06-08T10:52:54.417Z"
   },
   {
    "duration": 221,
    "start_time": "2023-06-08T10:53:09.413Z"
   },
   {
    "duration": 165,
    "start_time": "2023-06-08T10:53:19.561Z"
   },
   {
    "duration": 167,
    "start_time": "2023-06-08T10:53:48.174Z"
   },
   {
    "duration": 169,
    "start_time": "2023-06-08T10:54:19.477Z"
   },
   {
    "duration": 170,
    "start_time": "2023-06-08T10:54:33.844Z"
   },
   {
    "duration": 155,
    "start_time": "2023-06-08T10:54:46.812Z"
   },
   {
    "duration": 173,
    "start_time": "2023-06-08T10:54:51.341Z"
   },
   {
    "duration": 204,
    "start_time": "2023-06-08T10:55:32.326Z"
   },
   {
    "duration": 72,
    "start_time": "2023-06-08T11:10:37.163Z"
   },
   {
    "duration": 10,
    "start_time": "2023-06-08T11:11:31.023Z"
   },
   {
    "duration": 21,
    "start_time": "2023-06-08T11:12:04.677Z"
   },
   {
    "duration": 9,
    "start_time": "2023-06-08T11:12:11.422Z"
   },
   {
    "duration": 7,
    "start_time": "2023-06-08T11:13:03.815Z"
   },
   {
    "duration": 7,
    "start_time": "2023-06-08T11:19:15.968Z"
   },
   {
    "duration": 6,
    "start_time": "2023-06-08T11:19:20.734Z"
   },
   {
    "duration": 1007,
    "start_time": "2023-06-08T11:25:21.946Z"
   },
   {
    "duration": 28,
    "start_time": "2023-06-08T11:25:22.955Z"
   },
   {
    "duration": 33,
    "start_time": "2023-06-08T11:25:22.984Z"
   },
   {
    "duration": 20,
    "start_time": "2023-06-08T11:25:23.024Z"
   },
   {
    "duration": 82,
    "start_time": "2023-06-08T11:25:23.046Z"
   },
   {
    "duration": 13,
    "start_time": "2023-06-08T11:25:23.131Z"
   },
   {
    "duration": 97,
    "start_time": "2023-06-08T11:25:23.146Z"
   },
   {
    "duration": 14,
    "start_time": "2023-06-08T11:25:23.245Z"
   },
   {
    "duration": 18,
    "start_time": "2023-06-08T11:25:23.260Z"
   },
   {
    "duration": 55,
    "start_time": "2023-06-08T11:25:23.281Z"
   },
   {
    "duration": 6,
    "start_time": "2023-06-08T11:25:23.339Z"
   },
   {
    "duration": 10,
    "start_time": "2023-06-08T11:25:23.346Z"
   },
   {
    "duration": 578,
    "start_time": "2023-06-08T11:25:23.358Z"
   },
   {
    "duration": 329,
    "start_time": "2023-06-08T11:25:23.938Z"
   },
   {
    "duration": 272,
    "start_time": "2023-06-08T11:25:24.269Z"
   },
   {
    "duration": 311,
    "start_time": "2023-06-08T11:25:24.542Z"
   },
   {
    "duration": 216,
    "start_time": "2023-06-08T11:25:24.855Z"
   },
   {
    "duration": 5,
    "start_time": "2023-06-08T11:25:25.072Z"
   },
   {
    "duration": 273,
    "start_time": "2023-06-08T11:25:25.079Z"
   },
   {
    "duration": 316,
    "start_time": "2023-06-08T11:25:25.354Z"
   },
   {
    "duration": 202,
    "start_time": "2023-06-08T11:25:25.672Z"
   },
   {
    "duration": 26,
    "start_time": "2023-06-08T11:25:25.876Z"
   },
   {
    "duration": 265,
    "start_time": "2023-06-08T11:25:25.903Z"
   },
   {
    "duration": 180,
    "start_time": "2023-06-08T11:25:26.170Z"
   },
   {
    "duration": 40,
    "start_time": "2023-06-08T11:25:26.352Z"
   },
   {
    "duration": 35,
    "start_time": "2023-06-08T11:25:26.394Z"
   },
   {
    "duration": 79,
    "start_time": "2023-06-08T11:25:26.431Z"
   },
   {
    "duration": 42,
    "start_time": "2023-06-08T11:25:26.521Z"
   },
   {
    "duration": 96,
    "start_time": "2023-06-08T11:25:26.565Z"
   },
   {
    "duration": 18,
    "start_time": "2023-06-08T11:25:26.663Z"
   },
   {
    "duration": 410,
    "start_time": "2023-06-08T11:27:18.973Z"
   },
   {
    "duration": 391,
    "start_time": "2023-06-08T11:42:50.415Z"
   },
   {
    "duration": 1395,
    "start_time": "2023-06-08T12:29:51.231Z"
   },
   {
    "duration": 28,
    "start_time": "2023-06-08T12:29:52.628Z"
   },
   {
    "duration": 10,
    "start_time": "2023-06-08T12:29:52.657Z"
   },
   {
    "duration": 57,
    "start_time": "2023-06-08T12:29:52.669Z"
   },
   {
    "duration": 36,
    "start_time": "2023-06-08T12:29:52.728Z"
   },
   {
    "duration": 51,
    "start_time": "2023-06-08T12:29:52.765Z"
   },
   {
    "duration": 72,
    "start_time": "2023-06-08T12:29:52.818Z"
   },
   {
    "duration": 14,
    "start_time": "2023-06-08T12:29:52.894Z"
   },
   {
    "duration": 30,
    "start_time": "2023-06-08T12:29:52.910Z"
   },
   {
    "duration": 68,
    "start_time": "2023-06-08T12:29:52.943Z"
   },
   {
    "duration": 29,
    "start_time": "2023-06-08T12:29:53.013Z"
   },
   {
    "duration": 13,
    "start_time": "2023-06-08T12:29:53.044Z"
   },
   {
    "duration": 521,
    "start_time": "2023-06-08T12:29:53.059Z"
   },
   {
    "duration": 284,
    "start_time": "2023-06-08T12:29:53.581Z"
   },
   {
    "duration": 247,
    "start_time": "2023-06-08T12:29:53.867Z"
   },
   {
    "duration": 330,
    "start_time": "2023-06-08T12:29:54.116Z"
   },
   {
    "duration": 178,
    "start_time": "2023-06-08T12:29:54.448Z"
   },
   {
    "duration": 5,
    "start_time": "2023-06-08T12:29:54.628Z"
   },
   {
    "duration": 281,
    "start_time": "2023-06-08T12:29:54.635Z"
   },
   {
    "duration": 322,
    "start_time": "2023-06-08T12:29:54.918Z"
   },
   {
    "duration": 176,
    "start_time": "2023-06-08T12:29:55.242Z"
   },
   {
    "duration": 5,
    "start_time": "2023-06-08T12:29:55.420Z"
   },
   {
    "duration": 243,
    "start_time": "2023-06-08T12:29:55.426Z"
   },
   {
    "duration": 154,
    "start_time": "2023-06-08T12:29:55.671Z"
   },
   {
    "duration": 22,
    "start_time": "2023-06-08T12:29:55.827Z"
   },
   {
    "duration": 13,
    "start_time": "2023-06-08T12:29:55.850Z"
   },
   {
    "duration": 39,
    "start_time": "2023-06-08T12:29:55.865Z"
   },
   {
    "duration": 51,
    "start_time": "2023-06-08T12:29:55.908Z"
   },
   {
    "duration": 44,
    "start_time": "2023-06-08T12:29:55.960Z"
   },
   {
    "duration": 18,
    "start_time": "2023-06-08T12:29:56.007Z"
   },
   {
    "duration": 1014,
    "start_time": "2023-06-08T12:30:11.119Z"
   },
   {
    "duration": 27,
    "start_time": "2023-06-08T12:30:12.135Z"
   },
   {
    "duration": 11,
    "start_time": "2023-06-08T12:30:12.163Z"
   },
   {
    "duration": 22,
    "start_time": "2023-06-08T12:30:12.176Z"
   },
   {
    "duration": 19,
    "start_time": "2023-06-08T12:30:12.202Z"
   },
   {
    "duration": 30,
    "start_time": "2023-06-08T12:30:12.223Z"
   },
   {
    "duration": 66,
    "start_time": "2023-06-08T12:30:12.255Z"
   },
   {
    "duration": 15,
    "start_time": "2023-06-08T12:30:12.322Z"
   },
   {
    "duration": 25,
    "start_time": "2023-06-08T12:30:12.339Z"
   },
   {
    "duration": 39,
    "start_time": "2023-06-08T12:30:12.367Z"
   },
   {
    "duration": 10,
    "start_time": "2023-06-08T12:30:12.408Z"
   },
   {
    "duration": 16,
    "start_time": "2023-06-08T12:30:12.419Z"
   },
   {
    "duration": 511,
    "start_time": "2023-06-08T12:30:12.437Z"
   },
   {
    "duration": 288,
    "start_time": "2023-06-08T12:30:12.950Z"
   },
   {
    "duration": 209,
    "start_time": "2023-06-08T12:30:13.239Z"
   },
   {
    "duration": 303,
    "start_time": "2023-06-08T12:30:13.449Z"
   },
   {
    "duration": 165,
    "start_time": "2023-06-08T12:30:13.754Z"
   },
   {
    "duration": 4,
    "start_time": "2023-06-08T12:30:13.921Z"
   },
   {
    "duration": 231,
    "start_time": "2023-06-08T12:30:13.926Z"
   },
   {
    "duration": 347,
    "start_time": "2023-06-08T12:30:14.158Z"
   },
   {
    "duration": 205,
    "start_time": "2023-06-08T12:30:14.507Z"
   },
   {
    "duration": 5,
    "start_time": "2023-06-08T12:30:14.714Z"
   },
   {
    "duration": 214,
    "start_time": "2023-06-08T12:30:14.721Z"
   },
   {
    "duration": 151,
    "start_time": "2023-06-08T12:30:14.937Z"
   },
   {
    "duration": 27,
    "start_time": "2023-06-08T12:30:15.089Z"
   },
   {
    "duration": 22,
    "start_time": "2023-06-08T12:30:15.118Z"
   },
   {
    "duration": 60,
    "start_time": "2023-06-08T12:30:15.142Z"
   },
   {
    "duration": 17,
    "start_time": "2023-06-08T12:30:15.205Z"
   },
   {
    "duration": 54,
    "start_time": "2023-06-08T12:30:15.224Z"
   },
   {
    "duration": 73,
    "start_time": "2023-06-08T12:30:15.280Z"
   },
   {
    "duration": 957,
    "start_time": "2023-06-08T12:32:05.753Z"
   },
   {
    "duration": 28,
    "start_time": "2023-06-08T12:32:06.712Z"
   },
   {
    "duration": 11,
    "start_time": "2023-06-08T12:32:06.741Z"
   },
   {
    "duration": 25,
    "start_time": "2023-06-08T12:32:06.754Z"
   },
   {
    "duration": 35,
    "start_time": "2023-06-08T12:32:06.780Z"
   },
   {
    "duration": 9,
    "start_time": "2023-06-08T12:32:06.817Z"
   },
   {
    "duration": 54,
    "start_time": "2023-06-08T12:32:06.828Z"
   },
   {
    "duration": 25,
    "start_time": "2023-06-08T12:32:06.884Z"
   },
   {
    "duration": 15,
    "start_time": "2023-06-08T12:32:06.911Z"
   },
   {
    "duration": 22,
    "start_time": "2023-06-08T12:32:06.930Z"
   },
   {
    "duration": 6,
    "start_time": "2023-06-08T12:32:06.954Z"
   },
   {
    "duration": 37,
    "start_time": "2023-06-08T12:32:06.962Z"
   },
   {
    "duration": 498,
    "start_time": "2023-06-08T12:32:07.002Z"
   },
   {
    "duration": 297,
    "start_time": "2023-06-08T12:32:07.501Z"
   },
   {
    "duration": 201,
    "start_time": "2023-06-08T12:32:07.803Z"
   },
   {
    "duration": 303,
    "start_time": "2023-06-08T12:32:08.005Z"
   },
   {
    "duration": 149,
    "start_time": "2023-06-08T12:32:08.310Z"
   },
   {
    "duration": 4,
    "start_time": "2023-06-08T12:32:08.461Z"
   },
   {
    "duration": 233,
    "start_time": "2023-06-08T12:32:08.466Z"
   },
   {
    "duration": 314,
    "start_time": "2023-06-08T12:32:08.703Z"
   },
   {
    "duration": 198,
    "start_time": "2023-06-08T12:32:09.019Z"
   },
   {
    "duration": 6,
    "start_time": "2023-06-08T12:32:09.219Z"
   },
   {
    "duration": 210,
    "start_time": "2023-06-08T12:32:09.227Z"
   },
   {
    "duration": 139,
    "start_time": "2023-06-08T12:32:09.438Z"
   },
   {
    "duration": 33,
    "start_time": "2023-06-08T12:32:09.579Z"
   },
   {
    "duration": 12,
    "start_time": "2023-06-08T12:32:09.614Z"
   },
   {
    "duration": 11,
    "start_time": "2023-06-08T12:32:09.627Z"
   },
   {
    "duration": 12,
    "start_time": "2023-06-08T12:32:09.641Z"
   },
   {
    "duration": 56,
    "start_time": "2023-06-08T12:32:09.655Z"
   },
   {
    "duration": 16,
    "start_time": "2023-06-08T12:32:09.713Z"
   },
   {
    "duration": 1224,
    "start_time": "2023-06-08T12:59:06.399Z"
   },
   {
    "duration": 63,
    "start_time": "2023-06-08T12:59:07.626Z"
   },
   {
    "duration": 12,
    "start_time": "2023-06-08T12:59:07.691Z"
   },
   {
    "duration": 15,
    "start_time": "2023-06-08T12:59:07.706Z"
   },
   {
    "duration": 27,
    "start_time": "2023-06-08T12:59:07.723Z"
   },
   {
    "duration": 14,
    "start_time": "2023-06-08T12:59:07.752Z"
   },
   {
    "duration": 145,
    "start_time": "2023-06-08T12:59:07.768Z"
   },
   {
    "duration": 13,
    "start_time": "2023-06-08T12:59:07.915Z"
   },
   {
    "duration": 19,
    "start_time": "2023-06-08T12:59:07.930Z"
   },
   {
    "duration": 25,
    "start_time": "2023-06-08T12:59:07.952Z"
   },
   {
    "duration": 11,
    "start_time": "2023-06-08T12:59:07.978Z"
   },
   {
    "duration": 16,
    "start_time": "2023-06-08T12:59:07.991Z"
   },
   {
    "duration": 587,
    "start_time": "2023-06-08T12:59:08.009Z"
   },
   {
    "duration": 314,
    "start_time": "2023-06-08T12:59:08.597Z"
   },
   {
    "duration": 230,
    "start_time": "2023-06-08T12:59:08.913Z"
   },
   {
    "duration": 337,
    "start_time": "2023-06-08T12:59:09.145Z"
   },
   {
    "duration": 182,
    "start_time": "2023-06-08T12:59:09.484Z"
   },
   {
    "duration": 6,
    "start_time": "2023-06-08T12:59:09.668Z"
   },
   {
    "duration": 258,
    "start_time": "2023-06-08T12:59:09.676Z"
   },
   {
    "duration": 325,
    "start_time": "2023-06-08T12:59:09.945Z"
   },
   {
    "duration": 186,
    "start_time": "2023-06-08T12:59:10.272Z"
   },
   {
    "duration": 6,
    "start_time": "2023-06-08T12:59:10.460Z"
   },
   {
    "duration": 260,
    "start_time": "2023-06-08T12:59:10.467Z"
   },
   {
    "duration": 149,
    "start_time": "2023-06-08T12:59:10.729Z"
   },
   {
    "duration": 26,
    "start_time": "2023-06-08T12:59:10.880Z"
   },
   {
    "duration": 11,
    "start_time": "2023-06-08T12:59:10.908Z"
   },
   {
    "duration": 35,
    "start_time": "2023-06-08T12:59:10.921Z"
   },
   {
    "duration": 33,
    "start_time": "2023-06-08T12:59:10.959Z"
   },
   {
    "duration": 59,
    "start_time": "2023-06-08T12:59:10.994Z"
   },
   {
    "duration": 15,
    "start_time": "2023-06-08T12:59:11.055Z"
   },
   {
    "duration": 78,
    "start_time": "2023-06-08T15:51:42.601Z"
   },
   {
    "duration": 43,
    "start_time": "2023-06-08T15:51:46.128Z"
   },
   {
    "duration": 1273,
    "start_time": "2023-06-08T15:52:00.489Z"
   },
   {
    "duration": 70,
    "start_time": "2023-06-08T15:52:01.764Z"
   },
   {
    "duration": 13,
    "start_time": "2023-06-08T15:52:01.835Z"
   },
   {
    "duration": 27,
    "start_time": "2023-06-08T15:52:01.850Z"
   },
   {
    "duration": 39,
    "start_time": "2023-06-08T15:52:01.878Z"
   },
   {
    "duration": 60,
    "start_time": "2023-06-08T15:52:01.919Z"
   },
   {
    "duration": 74,
    "start_time": "2023-06-08T15:52:01.980Z"
   },
   {
    "duration": 163,
    "start_time": "2023-06-08T15:52:02.055Z"
   },
   {
    "duration": 12,
    "start_time": "2023-06-08T15:52:02.219Z"
   },
   {
    "duration": 18,
    "start_time": "2023-06-08T15:52:02.233Z"
   },
   {
    "duration": 53,
    "start_time": "2023-06-08T15:52:02.253Z"
   },
   {
    "duration": 9,
    "start_time": "2023-06-08T15:52:02.308Z"
   },
   {
    "duration": 36,
    "start_time": "2023-06-08T15:52:02.318Z"
   },
   {
    "duration": 535,
    "start_time": "2023-06-08T15:52:02.356Z"
   },
   {
    "duration": 289,
    "start_time": "2023-06-08T15:52:02.893Z"
   },
   {
    "duration": 217,
    "start_time": "2023-06-08T15:52:03.184Z"
   },
   {
    "duration": 338,
    "start_time": "2023-06-08T15:52:03.403Z"
   },
   {
    "duration": 172,
    "start_time": "2023-06-08T15:52:03.743Z"
   },
   {
    "duration": 5,
    "start_time": "2023-06-08T15:52:03.917Z"
   },
   {
    "duration": 302,
    "start_time": "2023-06-08T15:52:03.923Z"
   },
   {
    "duration": 286,
    "start_time": "2023-06-08T15:52:04.227Z"
   },
   {
    "duration": 155,
    "start_time": "2023-06-08T15:52:04.515Z"
   },
   {
    "duration": 6,
    "start_time": "2023-06-08T15:52:04.674Z"
   },
   {
    "duration": 302,
    "start_time": "2023-06-08T15:52:04.682Z"
   },
   {
    "duration": 152,
    "start_time": "2023-06-08T15:52:04.985Z"
   },
   {
    "duration": 23,
    "start_time": "2023-06-08T15:52:05.139Z"
   },
   {
    "duration": 10,
    "start_time": "2023-06-08T15:52:05.175Z"
   },
   {
    "duration": 12,
    "start_time": "2023-06-08T15:52:05.187Z"
   },
   {
    "duration": 7,
    "start_time": "2023-06-08T15:52:05.200Z"
   },
   {
    "duration": 25,
    "start_time": "2023-06-08T15:52:05.209Z"
   },
   {
    "duration": 13,
    "start_time": "2023-06-08T15:52:05.235Z"
   },
   {
    "duration": 7,
    "start_time": "2023-06-08T16:11:48.792Z"
   },
   {
    "duration": 95,
    "start_time": "2023-06-08T16:16:00.539Z"
   },
   {
    "duration": 105,
    "start_time": "2023-06-08T16:16:10.089Z"
   },
   {
    "duration": 4,
    "start_time": "2023-06-08T16:16:42.276Z"
   },
   {
    "duration": 17,
    "start_time": "2023-06-08T16:16:52.417Z"
   },
   {
    "duration": 6,
    "start_time": "2023-06-08T16:16:56.969Z"
   },
   {
    "duration": 17,
    "start_time": "2023-06-08T16:17:06.337Z"
   },
   {
    "duration": 26,
    "start_time": "2023-06-08T16:17:24.357Z"
   },
   {
    "duration": 25,
    "start_time": "2023-06-08T16:18:02.405Z"
   },
   {
    "duration": 24,
    "start_time": "2023-06-08T16:18:05.305Z"
   },
   {
    "duration": 13,
    "start_time": "2023-06-08T16:18:51.205Z"
   },
   {
    "duration": 12,
    "start_time": "2023-06-08T16:18:55.049Z"
   },
   {
    "duration": 10,
    "start_time": "2023-06-08T16:19:07.193Z"
   },
   {
    "duration": 11,
    "start_time": "2023-06-08T16:19:15.489Z"
   },
   {
    "duration": 27,
    "start_time": "2023-06-08T16:19:30.829Z"
   },
   {
    "duration": 5,
    "start_time": "2023-06-08T16:19:54.440Z"
   },
   {
    "duration": 5,
    "start_time": "2023-06-08T16:20:02.665Z"
   },
   {
    "duration": 5,
    "start_time": "2023-06-08T16:20:09.009Z"
   },
   {
    "duration": 14,
    "start_time": "2023-06-08T16:20:15.165Z"
   },
   {
    "duration": 13,
    "start_time": "2023-06-08T16:25:15.697Z"
   },
   {
    "duration": 12,
    "start_time": "2023-06-08T16:25:39.469Z"
   },
   {
    "duration": 18,
    "start_time": "2023-06-08T16:27:20.469Z"
   },
   {
    "duration": 11,
    "start_time": "2023-06-08T16:27:26.768Z"
   },
   {
    "duration": 11,
    "start_time": "2023-06-08T16:27:37.213Z"
   },
   {
    "duration": 15,
    "start_time": "2023-06-08T16:28:05.933Z"
   },
   {
    "duration": 16,
    "start_time": "2023-06-08T16:29:49.625Z"
   },
   {
    "duration": 17,
    "start_time": "2023-06-08T16:30:56.037Z"
   },
   {
    "duration": 13,
    "start_time": "2023-06-08T16:31:11.313Z"
   },
   {
    "duration": 9,
    "start_time": "2023-06-08T16:31:33.769Z"
   },
   {
    "duration": 11,
    "start_time": "2023-06-08T16:32:15.225Z"
   },
   {
    "duration": 16,
    "start_time": "2023-06-08T16:32:26.373Z"
   },
   {
    "duration": 89,
    "start_time": "2023-06-08T16:32:39.510Z"
   },
   {
    "duration": 82,
    "start_time": "2023-06-08T16:33:11.982Z"
   },
   {
    "duration": 11,
    "start_time": "2023-06-08T16:33:23.429Z"
   },
   {
    "duration": 10,
    "start_time": "2023-06-08T16:33:33.345Z"
   },
   {
    "duration": 157,
    "start_time": "2023-06-08T16:36:20.041Z"
   },
   {
    "duration": 162,
    "start_time": "2023-06-08T16:44:23.666Z"
   },
   {
    "duration": 150,
    "start_time": "2023-06-08T16:44:59.197Z"
   },
   {
    "duration": 154,
    "start_time": "2023-06-08T16:45:10.281Z"
   },
   {
    "duration": 158,
    "start_time": "2023-06-08T16:46:29.085Z"
   },
   {
    "duration": 154,
    "start_time": "2023-06-08T16:48:04.269Z"
   },
   {
    "duration": 214,
    "start_time": "2023-06-08T16:48:56.759Z"
   },
   {
    "duration": 329,
    "start_time": "2023-06-08T16:51:58.505Z"
   },
   {
    "duration": 335,
    "start_time": "2023-06-08T16:52:38.660Z"
   },
   {
    "duration": 327,
    "start_time": "2023-06-08T16:54:19.296Z"
   },
   {
    "duration": 334,
    "start_time": "2023-06-08T16:54:23.324Z"
   },
   {
    "duration": 329,
    "start_time": "2023-06-08T16:54:42.104Z"
   },
   {
    "duration": 367,
    "start_time": "2023-06-08T16:55:01.160Z"
   },
   {
    "duration": 750,
    "start_time": "2023-06-08T17:00:34.260Z"
   },
   {
    "duration": 566,
    "start_time": "2023-06-08T17:00:39.072Z"
   },
   {
    "duration": 1293,
    "start_time": "2023-06-08T17:01:32.020Z"
   },
   {
    "duration": 619,
    "start_time": "2023-06-08T17:02:16.420Z"
   },
   {
    "duration": 469,
    "start_time": "2023-06-08T17:03:14.948Z"
   },
   {
    "duration": 477,
    "start_time": "2023-06-08T17:03:31.420Z"
   },
   {
    "duration": 899,
    "start_time": "2023-06-08T17:03:41.564Z"
   },
   {
    "duration": 661,
    "start_time": "2023-06-08T17:04:20.152Z"
   },
   {
    "duration": 812,
    "start_time": "2023-06-08T17:04:32.444Z"
   },
   {
    "duration": 878,
    "start_time": "2023-06-08T17:06:49.319Z"
   },
   {
    "duration": 856,
    "start_time": "2023-06-08T17:07:54.538Z"
   },
   {
    "duration": 5,
    "start_time": "2023-06-08T17:08:52.226Z"
   },
   {
    "duration": 5,
    "start_time": "2023-06-08T17:09:02.111Z"
   },
   {
    "duration": 6,
    "start_time": "2023-06-08T17:13:23.983Z"
   },
   {
    "duration": 12,
    "start_time": "2023-06-08T17:18:32.171Z"
   },
   {
    "duration": 14,
    "start_time": "2023-06-08T17:18:45.471Z"
   },
   {
    "duration": 13,
    "start_time": "2023-06-08T17:19:00.187Z"
   },
   {
    "duration": 13,
    "start_time": "2023-06-08T17:22:59.551Z"
   },
   {
    "duration": 5,
    "start_time": "2023-06-08T17:23:23.206Z"
   },
   {
    "duration": 13,
    "start_time": "2023-06-08T17:23:27.011Z"
   },
   {
    "duration": 8,
    "start_time": "2023-06-08T17:23:33.779Z"
   },
   {
    "duration": 10,
    "start_time": "2023-06-08T17:29:10.373Z"
   },
   {
    "duration": 11,
    "start_time": "2023-06-08T17:29:21.955Z"
   },
   {
    "duration": 11,
    "start_time": "2023-06-08T18:36:26.191Z"
   },
   {
    "duration": 10,
    "start_time": "2023-06-08T18:36:29.275Z"
   },
   {
    "duration": 23,
    "start_time": "2023-06-08T18:36:30.224Z"
   },
   {
    "duration": 15,
    "start_time": "2023-06-08T18:36:48.099Z"
   },
   {
    "duration": 1153,
    "start_time": "2023-06-09T07:44:51.851Z"
   },
   {
    "duration": 35,
    "start_time": "2023-06-09T07:44:53.006Z"
   },
   {
    "duration": 12,
    "start_time": "2023-06-09T07:44:53.042Z"
   },
   {
    "duration": 11,
    "start_time": "2023-06-09T07:44:53.056Z"
   },
   {
    "duration": 32,
    "start_time": "2023-06-09T07:44:53.069Z"
   },
   {
    "duration": 12,
    "start_time": "2023-06-09T07:44:53.108Z"
   },
   {
    "duration": 51,
    "start_time": "2023-06-09T07:44:53.122Z"
   },
   {
    "duration": 71,
    "start_time": "2023-06-09T07:44:53.179Z"
   },
   {
    "duration": 11,
    "start_time": "2023-06-09T07:44:53.252Z"
   },
   {
    "duration": 27,
    "start_time": "2023-06-09T07:44:53.264Z"
   },
   {
    "duration": 47,
    "start_time": "2023-06-09T07:44:53.294Z"
   },
   {
    "duration": 6,
    "start_time": "2023-06-09T07:44:53.344Z"
   },
   {
    "duration": 13,
    "start_time": "2023-06-09T07:44:53.352Z"
   },
   {
    "duration": 19,
    "start_time": "2023-06-09T07:44:53.368Z"
   },
   {
    "duration": 727,
    "start_time": "2023-06-09T07:44:53.389Z"
   },
   {
    "duration": 446,
    "start_time": "2023-06-09T07:44:54.122Z"
   },
   {
    "duration": 253,
    "start_time": "2023-06-09T07:44:54.569Z"
   },
   {
    "duration": 486,
    "start_time": "2023-06-09T07:44:54.823Z"
   },
   {
    "duration": 281,
    "start_time": "2023-06-09T07:44:55.311Z"
   },
   {
    "duration": 339,
    "start_time": "2023-06-09T07:44:55.606Z"
   },
   {
    "duration": 1124,
    "start_time": "2023-06-09T07:44:55.946Z"
   },
   {
    "duration": 252,
    "start_time": "2023-06-09T07:44:57.071Z"
   },
   {
    "duration": 8,
    "start_time": "2023-06-09T07:44:57.330Z"
   },
   {
    "duration": 316,
    "start_time": "2023-06-09T07:44:57.340Z"
   },
   {
    "duration": 413,
    "start_time": "2023-06-09T07:44:57.657Z"
   },
   {
    "duration": 239,
    "start_time": "2023-06-09T07:44:58.072Z"
   },
   {
    "duration": 10,
    "start_time": "2023-06-09T07:44:58.314Z"
   },
   {
    "duration": 17,
    "start_time": "2023-06-09T07:44:58.327Z"
   },
   {
    "duration": 5,
    "start_time": "2023-06-09T07:44:58.345Z"
   },
   {
    "duration": 292,
    "start_time": "2023-06-09T07:44:58.352Z"
   },
   {
    "duration": 163,
    "start_time": "2023-06-09T07:44:58.645Z"
   },
   {
    "duration": 39,
    "start_time": "2023-06-09T07:44:58.810Z"
   },
   {
    "duration": 11,
    "start_time": "2023-06-09T07:44:58.851Z"
   },
   {
    "duration": 30,
    "start_time": "2023-06-09T07:44:58.863Z"
   },
   {
    "duration": 9,
    "start_time": "2023-06-09T07:44:58.895Z"
   },
   {
    "duration": 41,
    "start_time": "2023-06-09T07:44:58.906Z"
   },
   {
    "duration": 39,
    "start_time": "2023-06-09T07:44:58.949Z"
   },
   {
    "duration": 14,
    "start_time": "2023-06-09T07:46:47.106Z"
   },
   {
    "duration": 5,
    "start_time": "2023-06-09T07:46:49.168Z"
   },
   {
    "duration": 11,
    "start_time": "2023-06-09T07:47:20.360Z"
   },
   {
    "duration": 21,
    "start_time": "2023-06-09T07:48:06.016Z"
   },
   {
    "duration": 49,
    "start_time": "2023-08-13T09:44:52.488Z"
   },
   {
    "duration": 1261,
    "start_time": "2023-08-13T09:44:59.695Z"
   },
   {
    "duration": 86,
    "start_time": "2023-08-13T09:45:00.959Z"
   },
   {
    "duration": 13,
    "start_time": "2023-08-13T09:45:01.047Z"
   },
   {
    "duration": 50,
    "start_time": "2023-08-13T09:45:01.062Z"
   },
   {
    "duration": 28,
    "start_time": "2023-08-13T09:45:01.114Z"
   },
   {
    "duration": 37,
    "start_time": "2023-08-13T09:45:01.144Z"
   },
   {
    "duration": 64,
    "start_time": "2023-08-13T09:45:01.183Z"
   },
   {
    "duration": 132,
    "start_time": "2023-08-13T09:45:01.249Z"
   },
   {
    "duration": 12,
    "start_time": "2023-08-13T09:45:01.382Z"
   },
   {
    "duration": 47,
    "start_time": "2023-08-13T09:45:01.397Z"
   },
   {
    "duration": 44,
    "start_time": "2023-08-13T09:45:01.446Z"
   },
   {
    "duration": 16,
    "start_time": "2023-08-13T09:45:01.492Z"
   },
   {
    "duration": 36,
    "start_time": "2023-08-13T09:45:01.510Z"
   },
   {
    "duration": 52,
    "start_time": "2023-08-13T09:45:01.548Z"
   },
   {
    "duration": 557,
    "start_time": "2023-08-13T09:45:01.602Z"
   },
   {
    "duration": 340,
    "start_time": "2023-08-13T09:45:02.161Z"
   },
   {
    "duration": 193,
    "start_time": "2023-08-13T09:45:02.503Z"
   },
   {
    "duration": 384,
    "start_time": "2023-08-13T09:45:02.698Z"
   },
   {
    "duration": 240,
    "start_time": "2023-08-13T09:45:03.084Z"
   },
   {
    "duration": 391,
    "start_time": "2023-08-13T09:45:03.327Z"
   },
   {
    "duration": 992,
    "start_time": "2023-08-13T09:45:03.721Z"
   },
   {
    "duration": 163,
    "start_time": "2023-08-13T09:45:04.715Z"
   },
   {
    "duration": 5,
    "start_time": "2023-08-13T09:45:04.880Z"
   },
   {
    "duration": 255,
    "start_time": "2023-08-13T09:45:04.887Z"
   },
   {
    "duration": 345,
    "start_time": "2023-08-13T09:45:05.144Z"
   },
   {
    "duration": 165,
    "start_time": "2023-08-13T09:45:05.491Z"
   },
   {
    "duration": 5,
    "start_time": "2023-08-13T09:45:05.658Z"
   },
   {
    "duration": 28,
    "start_time": "2023-08-13T09:45:05.666Z"
   },
   {
    "duration": 184,
    "start_time": "2023-08-13T09:45:05.695Z"
   },
   {
    "duration": 215,
    "start_time": "2023-08-13T09:45:05.881Z"
   },
   {
    "duration": 137,
    "start_time": "2023-08-13T09:45:06.098Z"
   },
   {
    "duration": 30,
    "start_time": "2023-08-13T09:45:06.236Z"
   },
   {
    "duration": 37,
    "start_time": "2023-08-13T09:45:06.268Z"
   },
   {
    "duration": 34,
    "start_time": "2023-08-13T09:45:06.307Z"
   },
   {
    "duration": 14,
    "start_time": "2023-08-13T09:45:06.343Z"
   },
   {
    "duration": 48,
    "start_time": "2023-08-13T09:45:06.359Z"
   },
   {
    "duration": 15,
    "start_time": "2023-08-13T09:45:06.409Z"
   },
   {
    "duration": 178,
    "start_time": "2023-08-13T09:48:45.335Z"
   },
   {
    "duration": 204,
    "start_time": "2023-08-13T10:00:10.558Z"
   },
   {
    "duration": 54,
    "start_time": "2023-08-19T17:55:14.604Z"
   },
   {
    "duration": 1372,
    "start_time": "2023-08-19T17:55:21.184Z"
   },
   {
    "duration": 61,
    "start_time": "2023-08-19T17:55:22.558Z"
   },
   {
    "duration": 18,
    "start_time": "2023-08-19T17:55:22.622Z"
   },
   {
    "duration": 18,
    "start_time": "2023-08-19T17:55:22.643Z"
   },
   {
    "duration": 25,
    "start_time": "2023-08-19T17:55:22.663Z"
   },
   {
    "duration": 18,
    "start_time": "2023-08-19T17:55:22.691Z"
   },
   {
    "duration": 54,
    "start_time": "2023-08-19T17:55:22.711Z"
   },
   {
    "duration": 131,
    "start_time": "2023-08-19T17:55:22.767Z"
   },
   {
    "duration": 13,
    "start_time": "2023-08-19T17:55:22.900Z"
   },
   {
    "duration": 21,
    "start_time": "2023-08-19T17:55:22.917Z"
   },
   {
    "duration": 38,
    "start_time": "2023-08-19T17:55:22.940Z"
   },
   {
    "duration": 9,
    "start_time": "2023-08-19T17:55:22.980Z"
   },
   {
    "duration": 18,
    "start_time": "2023-08-19T17:55:22.991Z"
   },
   {
    "duration": 45,
    "start_time": "2023-08-19T17:55:23.011Z"
   },
   {
    "duration": 565,
    "start_time": "2023-08-19T17:55:23.058Z"
   },
   {
    "duration": 383,
    "start_time": "2023-08-19T17:55:23.624Z"
   },
   {
    "duration": 199,
    "start_time": "2023-08-19T17:55:24.009Z"
   },
   {
    "duration": 411,
    "start_time": "2023-08-19T17:55:24.211Z"
   },
   {
    "duration": 251,
    "start_time": "2023-08-19T17:55:24.624Z"
   },
   {
    "duration": 368,
    "start_time": "2023-08-19T17:55:24.877Z"
   },
   {
    "duration": 1834,
    "start_time": "2023-08-19T17:55:25.247Z"
   },
   {
    "duration": 408,
    "start_time": "2023-08-19T17:55:27.084Z"
   },
   {
    "duration": 7,
    "start_time": "2023-08-19T17:55:27.494Z"
   },
   {
    "duration": 365,
    "start_time": "2023-08-19T17:55:27.503Z"
   },
   {
    "duration": 346,
    "start_time": "2023-08-19T17:55:27.870Z"
   },
   {
    "duration": 164,
    "start_time": "2023-08-19T17:55:28.218Z"
   },
   {
    "duration": 5,
    "start_time": "2023-08-19T17:55:28.384Z"
   },
   {
    "duration": 12,
    "start_time": "2023-08-19T17:55:28.393Z"
   },
   {
    "duration": 6,
    "start_time": "2023-08-19T17:55:28.407Z"
   },
   {
    "duration": 261,
    "start_time": "2023-08-19T17:55:28.414Z"
   },
   {
    "duration": 185,
    "start_time": "2023-08-19T17:55:28.681Z"
   },
   {
    "duration": 45,
    "start_time": "2023-08-19T17:55:28.868Z"
   },
   {
    "duration": 13,
    "start_time": "2023-08-19T17:55:28.916Z"
   },
   {
    "duration": 11,
    "start_time": "2023-08-19T17:55:28.931Z"
   },
   {
    "duration": 39,
    "start_time": "2023-08-19T17:55:28.944Z"
   },
   {
    "duration": 35,
    "start_time": "2023-08-19T17:55:28.985Z"
   },
   {
    "duration": 17,
    "start_time": "2023-08-19T17:55:29.022Z"
   },
   {
    "duration": 12,
    "start_time": "2023-08-19T17:55:41.764Z"
   },
   {
    "duration": 19,
    "start_time": "2023-08-19T17:56:02.196Z"
   },
   {
    "duration": 14,
    "start_time": "2023-08-19T17:56:23.741Z"
   },
   {
    "duration": 11,
    "start_time": "2023-08-19T17:56:38.344Z"
   },
   {
    "duration": 24,
    "start_time": "2023-08-19T17:57:00.628Z"
   },
   {
    "duration": 12,
    "start_time": "2023-08-19T17:58:08.807Z"
   },
   {
    "duration": 13,
    "start_time": "2023-08-19T17:58:21.615Z"
   },
   {
    "duration": 15,
    "start_time": "2023-08-19T17:58:34.976Z"
   },
   {
    "duration": 138,
    "start_time": "2023-08-19T18:01:29.060Z"
   },
   {
    "duration": 13,
    "start_time": "2023-08-19T18:01:36.160Z"
   },
   {
    "duration": 15,
    "start_time": "2023-08-19T18:01:46.589Z"
   },
   {
    "duration": 17,
    "start_time": "2023-08-19T18:01:52.332Z"
   },
   {
    "duration": 27,
    "start_time": "2023-08-19T18:01:56.480Z"
   },
   {
    "duration": 19,
    "start_time": "2023-08-19T18:02:15.663Z"
   },
   {
    "duration": 51,
    "start_time": "2023-08-20T06:37:46.476Z"
   },
   {
    "duration": 1162,
    "start_time": "2023-08-20T06:37:53.032Z"
   },
   {
    "duration": 63,
    "start_time": "2023-08-20T06:37:54.196Z"
   },
   {
    "duration": 10,
    "start_time": "2023-08-20T06:37:54.260Z"
   },
   {
    "duration": 10,
    "start_time": "2023-08-20T06:37:54.272Z"
   },
   {
    "duration": 11,
    "start_time": "2023-08-20T06:37:54.283Z"
   },
   {
    "duration": 9,
    "start_time": "2023-08-20T06:37:54.295Z"
   },
   {
    "duration": 59,
    "start_time": "2023-08-20T06:37:54.305Z"
   },
   {
    "duration": 135,
    "start_time": "2023-08-20T06:37:54.366Z"
   },
   {
    "duration": 12,
    "start_time": "2023-08-20T06:37:54.502Z"
   },
   {
    "duration": 15,
    "start_time": "2023-08-20T06:37:54.516Z"
   },
   {
    "duration": 25,
    "start_time": "2023-08-20T06:37:54.532Z"
   },
   {
    "duration": 5,
    "start_time": "2023-08-20T06:37:54.559Z"
   },
   {
    "duration": 9,
    "start_time": "2023-08-20T06:37:54.566Z"
   },
   {
    "duration": 11,
    "start_time": "2023-08-20T06:37:54.577Z"
   },
   {
    "duration": 544,
    "start_time": "2023-08-20T06:37:54.589Z"
   },
   {
    "duration": 276,
    "start_time": "2023-08-20T06:37:55.134Z"
   },
   {
    "duration": 169,
    "start_time": "2023-08-20T06:37:55.412Z"
   },
   {
    "duration": 340,
    "start_time": "2023-08-20T06:37:55.583Z"
   },
   {
    "duration": 244,
    "start_time": "2023-08-20T06:37:55.925Z"
   },
   {
    "duration": 330,
    "start_time": "2023-08-20T06:37:56.171Z"
   },
   {
    "duration": 893,
    "start_time": "2023-08-20T06:37:56.503Z"
   },
   {
    "duration": 141,
    "start_time": "2023-08-20T06:37:57.398Z"
   },
   {
    "duration": 5,
    "start_time": "2023-08-20T06:37:57.540Z"
   },
   {
    "duration": 217,
    "start_time": "2023-08-20T06:37:57.546Z"
   },
   {
    "duration": 313,
    "start_time": "2023-08-20T06:37:57.765Z"
   },
   {
    "duration": 146,
    "start_time": "2023-08-20T06:37:58.080Z"
   },
   {
    "duration": 5,
    "start_time": "2023-08-20T06:37:58.227Z"
   },
   {
    "duration": 18,
    "start_time": "2023-08-20T06:37:58.235Z"
   },
   {
    "duration": 4,
    "start_time": "2023-08-20T06:37:58.254Z"
   },
   {
    "duration": 229,
    "start_time": "2023-08-20T06:37:58.259Z"
   },
   {
    "duration": 133,
    "start_time": "2023-08-20T06:37:58.490Z"
   },
   {
    "duration": 32,
    "start_time": "2023-08-20T06:37:58.625Z"
   },
   {
    "duration": 11,
    "start_time": "2023-08-20T06:37:58.659Z"
   },
   {
    "duration": 10,
    "start_time": "2023-08-20T06:37:58.671Z"
   },
   {
    "duration": 18,
    "start_time": "2023-08-20T06:37:58.683Z"
   },
   {
    "duration": 22,
    "start_time": "2023-08-20T06:37:58.703Z"
   },
   {
    "duration": 15,
    "start_time": "2023-08-20T06:37:58.750Z"
   },
   {
    "duration": 138,
    "start_time": "2023-08-20T06:38:49.128Z"
   },
   {
    "duration": 20,
    "start_time": "2023-08-20T06:39:15.683Z"
   },
   {
    "duration": 54,
    "start_time": "2023-09-10T12:34:51.561Z"
   },
   {
    "duration": 1369,
    "start_time": "2023-09-10T12:34:56.661Z"
   },
   {
    "duration": 60,
    "start_time": "2023-09-10T12:34:58.033Z"
   },
   {
    "duration": 17,
    "start_time": "2023-09-10T12:34:58.096Z"
   },
   {
    "duration": 57,
    "start_time": "2023-09-10T12:34:58.116Z"
   },
   {
    "duration": 21,
    "start_time": "2023-09-10T12:34:58.176Z"
   },
   {
    "duration": 17,
    "start_time": "2023-09-10T12:34:58.199Z"
   },
   {
    "duration": 105,
    "start_time": "2023-09-10T12:34:58.218Z"
   },
   {
    "duration": 130,
    "start_time": "2023-09-10T12:34:58.325Z"
   },
   {
    "duration": 19,
    "start_time": "2023-09-10T12:34:58.458Z"
   },
   {
    "duration": 26,
    "start_time": "2023-09-10T12:34:58.481Z"
   },
   {
    "duration": 61,
    "start_time": "2023-09-10T12:34:58.510Z"
   },
   {
    "duration": 23,
    "start_time": "2023-09-10T12:34:58.574Z"
   },
   {
    "duration": 53,
    "start_time": "2023-09-10T12:34:58.599Z"
   },
   {
    "duration": 65,
    "start_time": "2023-09-10T12:34:58.655Z"
   },
   {
    "duration": 689,
    "start_time": "2023-09-10T12:34:58.725Z"
   },
   {
    "duration": 386,
    "start_time": "2023-09-10T12:34:59.416Z"
   },
   {
    "duration": 231,
    "start_time": "2023-09-10T12:34:59.804Z"
   },
   {
    "duration": 490,
    "start_time": "2023-09-10T12:35:00.038Z"
   },
   {
    "duration": 282,
    "start_time": "2023-09-10T12:35:00.531Z"
   },
   {
    "duration": 394,
    "start_time": "2023-09-10T12:35:00.815Z"
   },
   {
    "duration": 1134,
    "start_time": "2023-09-10T12:35:01.212Z"
   },
   {
    "duration": 257,
    "start_time": "2023-09-10T12:35:02.348Z"
   },
   {
    "duration": 47,
    "start_time": "2023-09-10T12:35:02.607Z"
   },
   {
    "duration": 286,
    "start_time": "2023-09-10T12:35:02.657Z"
   },
   {
    "duration": 333,
    "start_time": "2023-09-10T12:35:02.945Z"
   },
   {
    "duration": 190,
    "start_time": "2023-09-10T12:35:03.280Z"
   },
   {
    "duration": 447,
    "start_time": "2023-09-10T12:35:03.471Z"
   },
   {
    "duration": 50,
    "start_time": "2023-09-10T12:35:03.922Z"
   },
   {
    "duration": 17,
    "start_time": "2023-09-10T12:35:03.974Z"
   },
   {
    "duration": 279,
    "start_time": "2023-09-10T12:35:03.994Z"
   },
   {
    "duration": 201,
    "start_time": "2023-09-10T12:35:04.275Z"
   },
   {
    "duration": 44,
    "start_time": "2023-09-10T12:35:04.478Z"
   },
   {
    "duration": 20,
    "start_time": "2023-09-10T12:35:04.524Z"
   },
   {
    "duration": 31,
    "start_time": "2023-09-10T12:35:04.547Z"
   },
   {
    "duration": 34,
    "start_time": "2023-09-10T12:35:04.580Z"
   },
   {
    "duration": 54,
    "start_time": "2023-09-10T12:35:04.616Z"
   },
   {
    "duration": 42,
    "start_time": "2023-09-10T12:35:04.672Z"
   },
   {
    "duration": 1165,
    "start_time": "2023-09-10T12:35:38.868Z"
   },
   {
    "duration": 27,
    "start_time": "2023-09-10T12:35:40.037Z"
   },
   {
    "duration": 34,
    "start_time": "2023-09-10T12:35:40.069Z"
   },
   {
    "duration": 20,
    "start_time": "2023-09-10T12:35:40.105Z"
   },
   {
    "duration": 54,
    "start_time": "2023-09-10T12:35:40.127Z"
   },
   {
    "duration": 20,
    "start_time": "2023-09-10T12:35:40.183Z"
   },
   {
    "duration": 82,
    "start_time": "2023-09-10T12:35:40.205Z"
   },
   {
    "duration": 51,
    "start_time": "2023-09-10T12:35:40.289Z"
   },
   {
    "duration": 15,
    "start_time": "2023-09-10T12:35:40.341Z"
   },
   {
    "duration": 18,
    "start_time": "2023-09-10T12:35:40.359Z"
   },
   {
    "duration": 46,
    "start_time": "2023-09-10T12:35:40.380Z"
   },
   {
    "duration": 18,
    "start_time": "2023-09-10T12:35:40.428Z"
   },
   {
    "duration": 63,
    "start_time": "2023-09-10T12:35:40.449Z"
   },
   {
    "duration": 17,
    "start_time": "2023-09-10T12:35:40.514Z"
   },
   {
    "duration": 646,
    "start_time": "2023-09-10T12:35:40.533Z"
   },
   {
    "duration": 347,
    "start_time": "2023-09-10T12:35:41.181Z"
   },
   {
    "duration": 220,
    "start_time": "2023-09-10T12:35:41.530Z"
   },
   {
    "duration": 856,
    "start_time": "2023-09-10T12:35:41.752Z"
   },
   {
    "duration": 608,
    "start_time": "2023-09-10T12:35:42.610Z"
   },
   {
    "duration": 604,
    "start_time": "2023-09-10T12:35:43.220Z"
   },
   {
    "duration": 1453,
    "start_time": "2023-09-10T12:35:43.826Z"
   },
   {
    "duration": 223,
    "start_time": "2023-09-10T12:35:45.281Z"
   },
   {
    "duration": 8,
    "start_time": "2023-09-10T12:35:45.506Z"
   },
   {
    "duration": 299,
    "start_time": "2023-09-10T12:35:45.515Z"
   },
   {
    "duration": 349,
    "start_time": "2023-09-10T12:35:45.816Z"
   },
   {
    "duration": 193,
    "start_time": "2023-09-10T12:35:46.169Z"
   },
   {
    "duration": 7,
    "start_time": "2023-09-10T12:35:46.363Z"
   },
   {
    "duration": 39,
    "start_time": "2023-09-10T12:35:46.372Z"
   },
   {
    "duration": 11,
    "start_time": "2023-09-10T12:35:46.413Z"
   },
   {
    "duration": 302,
    "start_time": "2023-09-10T12:35:46.426Z"
   },
   {
    "duration": 171,
    "start_time": "2023-09-10T12:35:46.730Z"
   },
   {
    "duration": 37,
    "start_time": "2023-09-10T12:35:46.904Z"
   },
   {
    "duration": 24,
    "start_time": "2023-09-10T12:35:46.943Z"
   },
   {
    "duration": 44,
    "start_time": "2023-09-10T12:35:46.970Z"
   },
   {
    "duration": 14,
    "start_time": "2023-09-10T12:35:47.017Z"
   },
   {
    "duration": 80,
    "start_time": "2023-09-10T12:35:47.033Z"
   },
   {
    "duration": 16,
    "start_time": "2023-09-10T12:35:47.115Z"
   },
   {
    "duration": 1353,
    "start_time": "2023-09-10T12:36:33.172Z"
   },
   {
    "duration": 29,
    "start_time": "2023-09-10T12:36:34.528Z"
   },
   {
    "duration": 21,
    "start_time": "2023-09-10T12:36:34.559Z"
   },
   {
    "duration": 30,
    "start_time": "2023-09-10T12:36:34.583Z"
   },
   {
    "duration": 52,
    "start_time": "2023-09-10T12:36:34.615Z"
   },
   {
    "duration": 19,
    "start_time": "2023-09-10T12:36:34.670Z"
   },
   {
    "duration": 97,
    "start_time": "2023-09-10T12:36:34.691Z"
   },
   {
    "duration": 61,
    "start_time": "2023-09-10T12:36:34.790Z"
   },
   {
    "duration": 48,
    "start_time": "2023-09-10T12:36:34.854Z"
   },
   {
    "duration": 52,
    "start_time": "2023-09-10T12:36:34.906Z"
   },
   {
    "duration": 52,
    "start_time": "2023-09-10T12:36:34.960Z"
   },
   {
    "duration": 34,
    "start_time": "2023-09-10T12:36:35.014Z"
   },
   {
    "duration": 64,
    "start_time": "2023-09-10T12:36:35.050Z"
   },
   {
    "duration": 40,
    "start_time": "2023-09-10T12:36:35.115Z"
   },
   {
    "duration": 946,
    "start_time": "2023-09-10T12:36:35.157Z"
   },
   {
    "duration": 696,
    "start_time": "2023-09-10T12:36:36.105Z"
   },
   {
    "duration": 535,
    "start_time": "2023-09-10T12:36:36.804Z"
   },
   {
    "duration": 1080,
    "start_time": "2023-09-10T12:36:37.341Z"
   },
   {
    "duration": 355,
    "start_time": "2023-09-10T12:36:38.424Z"
   },
   {
    "duration": 369,
    "start_time": "2023-09-10T12:36:38.782Z"
   },
   {
    "duration": 1096,
    "start_time": "2023-09-10T12:36:39.153Z"
   },
   {
    "duration": 293,
    "start_time": "2023-09-10T12:36:40.251Z"
   },
   {
    "duration": 7,
    "start_time": "2023-09-10T12:36:40.547Z"
   },
   {
    "duration": 299,
    "start_time": "2023-09-10T12:36:40.556Z"
   },
   {
    "duration": 388,
    "start_time": "2023-09-10T12:36:40.857Z"
   },
   {
    "duration": 199,
    "start_time": "2023-09-10T12:36:41.247Z"
   },
   {
    "duration": 6,
    "start_time": "2023-09-10T12:36:41.448Z"
   },
   {
    "duration": 53,
    "start_time": "2023-09-10T12:36:41.459Z"
   },
   {
    "duration": 39,
    "start_time": "2023-09-10T12:36:41.514Z"
   },
   {
    "duration": 296,
    "start_time": "2023-09-10T12:36:41.556Z"
   },
   {
    "duration": 169,
    "start_time": "2023-09-10T12:36:41.855Z"
   },
   {
    "duration": 31,
    "start_time": "2023-09-10T12:36:42.026Z"
   },
   {
    "duration": 53,
    "start_time": "2023-09-10T12:36:42.059Z"
   },
   {
    "duration": 27,
    "start_time": "2023-09-10T12:36:42.115Z"
   },
   {
    "duration": 37,
    "start_time": "2023-09-10T12:36:42.143Z"
   },
   {
    "duration": 46,
    "start_time": "2023-09-10T12:36:42.183Z"
   },
   {
    "duration": 20,
    "start_time": "2023-09-10T12:36:42.231Z"
   },
   {
    "duration": 18,
    "start_time": "2023-09-10T12:36:51.542Z"
   },
   {
    "duration": 19,
    "start_time": "2023-09-10T12:41:58.527Z"
   },
   {
    "duration": 15,
    "start_time": "2023-09-10T12:42:17.301Z"
   },
   {
    "duration": 1217,
    "start_time": "2023-09-10T12:49:44.895Z"
   },
   {
    "duration": 29,
    "start_time": "2023-09-10T12:49:46.114Z"
   },
   {
    "duration": 21,
    "start_time": "2023-09-10T12:49:46.145Z"
   },
   {
    "duration": 27,
    "start_time": "2023-09-10T12:49:46.168Z"
   },
   {
    "duration": 35,
    "start_time": "2023-09-10T12:49:46.197Z"
   },
   {
    "duration": 41,
    "start_time": "2023-09-10T12:49:46.233Z"
   },
   {
    "duration": 81,
    "start_time": "2023-09-10T12:49:46.276Z"
   },
   {
    "duration": 52,
    "start_time": "2023-09-10T12:49:46.359Z"
   },
   {
    "duration": 13,
    "start_time": "2023-09-10T12:49:46.413Z"
   },
   {
    "duration": 33,
    "start_time": "2023-09-10T12:49:46.429Z"
   },
   {
    "duration": 55,
    "start_time": "2023-09-10T12:49:46.464Z"
   },
   {
    "duration": 10,
    "start_time": "2023-09-10T12:49:46.522Z"
   },
   {
    "duration": 33,
    "start_time": "2023-09-10T12:49:46.535Z"
   },
   {
    "duration": 46,
    "start_time": "2023-09-10T12:49:46.570Z"
   },
   {
    "duration": 672,
    "start_time": "2023-09-10T12:49:46.618Z"
   },
   {
    "duration": 345,
    "start_time": "2023-09-10T12:49:47.293Z"
   },
   {
    "duration": 223,
    "start_time": "2023-09-10T12:49:47.640Z"
   },
   {
    "duration": 421,
    "start_time": "2023-09-10T12:49:47.865Z"
   },
   {
    "duration": 245,
    "start_time": "2023-09-10T12:49:48.288Z"
   },
   {
    "duration": 329,
    "start_time": "2023-09-10T12:49:48.535Z"
   },
   {
    "duration": 1053,
    "start_time": "2023-09-10T12:49:48.867Z"
   },
   {
    "duration": 586,
    "start_time": "2023-09-10T12:49:49.921Z"
   },
   {
    "duration": 8,
    "start_time": "2023-09-10T12:49:50.509Z"
   },
   {
    "duration": 596,
    "start_time": "2023-09-10T12:49:50.519Z"
   },
   {
    "duration": 513,
    "start_time": "2023-09-10T12:49:51.117Z"
   },
   {
    "duration": 339,
    "start_time": "2023-09-10T12:49:51.632Z"
   },
   {
    "duration": 33,
    "start_time": "2023-09-10T12:49:51.973Z"
   },
   {
    "duration": 281,
    "start_time": "2023-09-10T12:49:52.011Z"
   },
   {
    "duration": 207,
    "start_time": "2023-09-10T12:49:52.294Z"
   },
   {
    "duration": 33,
    "start_time": "2023-09-10T12:49:52.503Z"
   },
   {
    "duration": 34,
    "start_time": "2023-09-10T12:49:52.539Z"
   },
   {
    "duration": 140,
    "start_time": "2023-09-10T12:49:52.603Z"
   },
   {
    "duration": 0,
    "start_time": "2023-09-10T12:49:52.745Z"
   },
   {
    "duration": 0,
    "start_time": "2023-09-10T12:49:52.746Z"
   },
   {
    "duration": 0,
    "start_time": "2023-09-10T12:49:52.747Z"
   },
   {
    "duration": 1213,
    "start_time": "2023-09-10T12:52:57.694Z"
   },
   {
    "duration": 27,
    "start_time": "2023-09-10T12:52:58.909Z"
   },
   {
    "duration": 13,
    "start_time": "2023-09-10T12:52:58.939Z"
   },
   {
    "duration": 13,
    "start_time": "2023-09-10T12:52:58.954Z"
   },
   {
    "duration": 33,
    "start_time": "2023-09-10T12:52:58.970Z"
   },
   {
    "duration": 13,
    "start_time": "2023-09-10T12:52:59.004Z"
   },
   {
    "duration": 55,
    "start_time": "2023-09-10T12:52:59.019Z"
   },
   {
    "duration": 51,
    "start_time": "2023-09-10T12:52:59.101Z"
   },
   {
    "duration": 13,
    "start_time": "2023-09-10T12:52:59.154Z"
   },
   {
    "duration": 28,
    "start_time": "2023-09-10T12:52:59.169Z"
   },
   {
    "duration": 35,
    "start_time": "2023-09-10T12:52:59.198Z"
   },
   {
    "duration": 6,
    "start_time": "2023-09-10T12:52:59.235Z"
   },
   {
    "duration": 11,
    "start_time": "2023-09-10T12:52:59.242Z"
   },
   {
    "duration": 54,
    "start_time": "2023-09-10T12:52:59.256Z"
   },
   {
    "duration": 1216,
    "start_time": "2023-09-10T12:52:59.313Z"
   },
   {
    "duration": 710,
    "start_time": "2023-09-10T12:53:00.532Z"
   },
   {
    "duration": 467,
    "start_time": "2023-09-10T12:53:01.245Z"
   },
   {
    "duration": 476,
    "start_time": "2023-09-10T12:53:01.713Z"
   },
   {
    "duration": 274,
    "start_time": "2023-09-10T12:53:02.190Z"
   },
   {
    "duration": 778,
    "start_time": "2023-09-10T12:53:02.466Z"
   },
   {
    "duration": 952,
    "start_time": "2023-09-10T12:53:03.246Z"
   },
   {
    "duration": 282,
    "start_time": "2023-09-10T12:53:04.201Z"
   },
   {
    "duration": 17,
    "start_time": "2023-09-10T12:53:04.485Z"
   },
   {
    "duration": 710,
    "start_time": "2023-09-10T12:53:04.505Z"
   },
   {
    "duration": 359,
    "start_time": "2023-09-10T12:53:05.217Z"
   },
   {
    "duration": 204,
    "start_time": "2023-09-10T12:53:05.582Z"
   },
   {
    "duration": 14,
    "start_time": "2023-09-10T12:53:05.787Z"
   },
   {
    "duration": 262,
    "start_time": "2023-09-10T12:53:05.803Z"
   },
   {
    "duration": 210,
    "start_time": "2023-09-10T12:53:06.067Z"
   },
   {
    "duration": 44,
    "start_time": "2023-09-10T12:53:06.279Z"
   },
   {
    "duration": 26,
    "start_time": "2023-09-10T12:53:06.325Z"
   },
   {
    "duration": 140,
    "start_time": "2023-09-10T12:53:06.354Z"
   },
   {
    "duration": 0,
    "start_time": "2023-09-10T12:53:06.497Z"
   },
   {
    "duration": 0,
    "start_time": "2023-09-10T12:53:06.501Z"
   },
   {
    "duration": 0,
    "start_time": "2023-09-10T12:53:06.503Z"
   },
   {
    "duration": 16,
    "start_time": "2023-09-10T13:01:00.115Z"
   },
   {
    "duration": 21,
    "start_time": "2023-09-10T13:01:05.871Z"
   },
   {
    "duration": 44,
    "start_time": "2023-09-10T13:01:10.372Z"
   },
   {
    "duration": 18,
    "start_time": "2023-09-10T13:01:25.507Z"
   },
   {
    "duration": 1197,
    "start_time": "2023-09-10T13:02:06.083Z"
   },
   {
    "duration": 28,
    "start_time": "2023-09-10T13:02:07.282Z"
   },
   {
    "duration": 15,
    "start_time": "2023-09-10T13:02:07.314Z"
   },
   {
    "duration": 25,
    "start_time": "2023-09-10T13:02:07.331Z"
   },
   {
    "duration": 30,
    "start_time": "2023-09-10T13:02:07.359Z"
   },
   {
    "duration": 25,
    "start_time": "2023-09-10T13:02:07.391Z"
   },
   {
    "duration": 63,
    "start_time": "2023-09-10T13:02:07.418Z"
   },
   {
    "duration": 51,
    "start_time": "2023-09-10T13:02:07.502Z"
   },
   {
    "duration": 14,
    "start_time": "2023-09-10T13:02:07.556Z"
   },
   {
    "duration": 43,
    "start_time": "2023-09-10T13:02:07.571Z"
   },
   {
    "duration": 43,
    "start_time": "2023-09-10T13:02:07.616Z"
   },
   {
    "duration": 25,
    "start_time": "2023-09-10T13:02:07.661Z"
   },
   {
    "duration": 36,
    "start_time": "2023-09-10T13:02:07.688Z"
   },
   {
    "duration": 19,
    "start_time": "2023-09-10T13:02:07.726Z"
   },
   {
    "duration": 632,
    "start_time": "2023-09-10T13:02:07.747Z"
   },
   {
    "duration": 376,
    "start_time": "2023-09-10T13:02:08.381Z"
   },
   {
    "duration": 218,
    "start_time": "2023-09-10T13:02:08.759Z"
   },
   {
    "duration": 441,
    "start_time": "2023-09-10T13:02:08.979Z"
   },
   {
    "duration": 260,
    "start_time": "2023-09-10T13:02:09.422Z"
   },
   {
    "duration": 381,
    "start_time": "2023-09-10T13:02:09.684Z"
   },
   {
    "duration": 1031,
    "start_time": "2023-09-10T13:02:10.067Z"
   },
   {
    "duration": 266,
    "start_time": "2023-09-10T13:02:11.100Z"
   },
   {
    "duration": 6,
    "start_time": "2023-09-10T13:02:11.367Z"
   },
   {
    "duration": 290,
    "start_time": "2023-09-10T13:02:11.375Z"
   },
   {
    "duration": 368,
    "start_time": "2023-09-10T13:02:11.666Z"
   },
   {
    "duration": 186,
    "start_time": "2023-09-10T13:02:12.037Z"
   },
   {
    "duration": 6,
    "start_time": "2023-09-10T13:02:12.227Z"
   },
   {
    "duration": 269,
    "start_time": "2023-09-10T13:02:12.235Z"
   },
   {
    "duration": 168,
    "start_time": "2023-09-10T13:02:12.507Z"
   },
   {
    "duration": 45,
    "start_time": "2023-09-10T13:02:12.677Z"
   },
   {
    "duration": 19,
    "start_time": "2023-09-10T13:02:12.724Z"
   },
   {
    "duration": 24,
    "start_time": "2023-09-10T13:02:12.746Z"
   },
   {
    "duration": 16,
    "start_time": "2023-09-10T13:02:12.801Z"
   },
   {
    "duration": 71,
    "start_time": "2023-09-10T13:02:12.819Z"
   },
   {
    "duration": 18,
    "start_time": "2023-09-10T13:02:12.892Z"
   }
  ],
  "kernelspec": {
   "display_name": "Python 3 (ipykernel)",
   "language": "python",
   "name": "python3"
  },
  "language_info": {
   "codemirror_mode": {
    "name": "ipython",
    "version": 3
   },
   "file_extension": ".py",
   "mimetype": "text/x-python",
   "name": "python",
   "nbconvert_exporter": "python",
   "pygments_lexer": "ipython3",
   "version": "3.9.5"
  },
  "toc": {
   "base_numbering": 1,
   "nav_menu": {},
   "number_sections": true,
   "sideBar": true,
   "skip_h1_title": true,
   "title_cell": "Table of Contents",
   "title_sidebar": "Contents",
   "toc_cell": false,
   "toc_position": {
    "height": "calc(100% - 180px)",
    "left": "10px",
    "top": "150px",
    "width": "284.638px"
   },
   "toc_section_display": true,
   "toc_window_display": true
  }
 },
 "nbformat": 4,
 "nbformat_minor": 2
}
